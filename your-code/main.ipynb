{
 "cells": [
  {
   "cell_type": "markdown",
   "metadata": {},
   "source": [
    "# Web Scraping Lab\n",
    "\n",
    "You will find in this notebook some scrapy exercises to practise your scraping skills.\n",
    "\n",
    "**Tips:**\n",
    "\n",
    "- Check the response status code for each request to ensure you have obtained the intended contennt.\n",
    "- Print the response text in each request to understand the kind of info you are getting and its format.\n",
    "- Check for patterns in the response text to extract the data/info requested in each question.\n",
    "- Visit each url and take a look at its source through Chrome DevTools. You'll need to identify the html tags, special class names etc. used for the html content you are expected to extract."
   ]
  },
  {
   "cell_type": "markdown",
   "metadata": {},
   "source": [
    "- [Requests library](http://docs.python-requests.org/en/master/#the-user-guide) documentation \n",
    "- [Beautiful Soup Doc](https://www.crummy.com/software/BeautifulSoup/bs4/doc/)\n",
    "- [Urllib](https://docs.python.org/3/library/urllib.html#module-urllib)\n",
    "- [re lib](https://docs.python.org/3/library/re.html)\n",
    "- [lxml lib](https://lxml.de/)\n",
    "- [Scrapy](https://scrapy.org/)\n",
    "- [List of HTTP status codes](https://en.wikipedia.org/wiki/List_of_HTTP_status_codes)\n",
    "- [HTML basics](http://www.simplehtmlguide.com/cheatsheet.php)\n",
    "- [CSS basics](https://www.cssbasics.com/#page_start)"
   ]
  },
  {
   "cell_type": "markdown",
   "metadata": {},
   "source": [
    "#### Below are the libraries and modules you may need. `requests`,  `BeautifulSoup` and `pandas` are imported for you. If you prefer to use additional libraries feel free to uncomment them."
   ]
  },
  {
   "cell_type": "code",
   "execution_count": 2,
   "metadata": {},
   "outputs": [],
   "source": [
    "import requests\n",
    "from bs4 import BeautifulSoup\n",
    "import pandas as pd\n",
    "# from pprint import pprint\n",
    "# from lxml import html\n",
    "# from lxml.html import fromstring\n",
    "# import urllib.request\n",
    "from urllib.request import urlopen\n",
    "# import random\n",
    "import re\n",
    "# import scrapy"
   ]
  },
  {
   "cell_type": "markdown",
   "metadata": {},
   "source": [
    "#### Download, parse (using BeautifulSoup), and print the content from the Trending Developers page from GitHub:"
   ]
  },
  {
   "cell_type": "code",
   "execution_count": 2,
   "metadata": {},
   "outputs": [],
   "source": [
    "# This is the url you will scrape in this exercise\n",
    "url = 'https://github.com/trending/developers'"
   ]
  },
  {
   "cell_type": "code",
   "execution_count": 3,
   "metadata": {},
   "outputs": [],
   "source": [
    "#your code\n",
    "\n",
    "response = requests.get(url)\n",
    "soup = BeautifulSoup(response.content,\"html.parser\")"
   ]
  },
  {
   "cell_type": "markdown",
   "metadata": {},
   "source": [
    "#### Display the names of the trending developers retrieved in the previous step.\n",
    "\n",
    "Your output should be a Python list of developer names. Each name should not contain any html tag.\n",
    "\n",
    "**Instructions:**\n",
    "\n",
    "1. Find out the html tag and class names used for the developer names. You can achieve this using Chrome DevTools.\n",
    "\n",
    "1. Use BeautifulSoup to extract all the html elements that contain the developer names.\n",
    "\n",
    "1. Use string manipulation techniques to replace whitespaces and linebreaks (i.e. `\\n`) in the *text* of each html element. Use a list to store the clean names.\n",
    "\n",
    "1. Print the list of names.\n",
    "\n",
    "Your output should look like below:\n",
    "\n",
    "```\n",
    "['trimstray (@trimstray)',\n",
    " 'joewalnes (JoeWalnes)',\n",
    " 'charlax (Charles-AxelDein)',\n",
    " 'ForrestKnight (ForrestKnight)',\n",
    " 'revery-ui (revery-ui)',\n",
    " 'alibaba (Alibaba)',\n",
    " 'Microsoft (Microsoft)',\n",
    " 'github (GitHub)',\n",
    " 'facebook (Facebook)',\n",
    " 'boazsegev (Bo)',\n",
    " 'google (Google)',\n",
    " 'cloudfetch',\n",
    " 'sindresorhus (SindreSorhus)',\n",
    " 'tensorflow',\n",
    " 'apache (TheApacheSoftwareFoundation)',\n",
    " 'DevonCrawford (DevonCrawford)',\n",
    " 'ARMmbed (ArmMbed)',\n",
    " 'vuejs (vuejs)',\n",
    " 'fastai (fast.ai)',\n",
    " 'QiShaoXuan (Qi)',\n",
    " 'joelparkerhenderson (JoelParkerHenderson)',\n",
    " 'torvalds (LinusTorvalds)',\n",
    " 'CyC2018',\n",
    " 'komeiji-satori (神楽坂覚々)',\n",
    " 'script-8']\n",
    " ```"
   ]
  },
  {
   "cell_type": "raw",
   "metadata": {},
   "source": [
    "😑<div class=\"col-md-6\">\n",
    "        <h1 class=\"h3 lh-condensed\">\n",
    "          <a data-hydro-click=\"{&quot;event_type&quot;:&quot;explore.click&quot;,&quot;payload&quot;:{&quot;click_context&quot;:&quot;TRENDING_DEVELOPERS_PAGE&quot;,&quot;click_target&quot;:&quot;OWNER&quot;,&quot;click_visual_representation&quot;:&quot;TRENDING_DEVELOPER&quot;,&quot;actor_id&quot;:73304043,&quot;record_id&quot;:661450,&quot;originating_url&quot;:&quot;https://github.com/trending/developers&quot;,&quot;user_id&quot;:73304043}}\" data-hydro-click-hmac=\"4aea39b2a13f130038af24b3638a067e342f3df020a870c0f82b26364cc9e8bc\" href=\"/arvidn\" data-view-component=\"true\">\n",
    "            Arvid Norberg\n"
   ]
  },
  {
   "cell_type": "code",
   "execution_count": 4,
   "metadata": {},
   "outputs": [],
   "source": [
    "names=soup.find_all(name=\"h1\",class_=\"h3 lh-condensed\")"
   ]
  },
  {
   "cell_type": "code",
   "execution_count": 5,
   "metadata": {},
   "outputs": [
    {
     "name": "stdout",
     "output_type": "stream",
     "text": [
      "Trending developers\n",
      " ['Jonathan Dick', 'Brandon', 'Henning Dieterichs', 'Stefan Prodan', 'Tom Payne', 'Jonny Burger', 'Ariel Mashraki', 'Francis Gulotta', 'Qiusheng Wu', 'Nico Schlömer', 'Artem Zakharchenko', 'Lennart', 'Kuitos', 'van Hauser', 'Mitchell Hashimoto', 'Jason Quense', 'Jeremy Tuloup', 'Ha Thach', 'Matt Bierner', 'Don Jayamanne', 'David Catuhe', 'Jason R. Coombs', 'Kent C. Dodds', 'David Rodríguez', 'James Hegedus']\n"
     ]
    }
   ],
   "source": [
    "name_clean=[]\n",
    "for n in names:\n",
    "    name_clean.append(n.getText().strip())\n",
    "print(\"Trending developers\\n\" , name_clean)"
   ]
  },
  {
   "cell_type": "markdown",
   "metadata": {},
   "source": [
    "#### Display the trending Python repositories in GitHub\n",
    "\n",
    "The steps to solve this problem is similar to the previous one except that you need to find out the repository names instead of developer names."
   ]
  },
  {
   "cell_type": "code",
   "execution_count": 6,
   "metadata": {},
   "outputs": [],
   "source": [
    "# This is the url you will scrape in this exercise\n",
    "url_repositories = 'https://github.com/trending/python?since=daily'"
   ]
  },
  {
   "cell_type": "code",
   "execution_count": 7,
   "metadata": {},
   "outputs": [],
   "source": [
    "#your code\n",
    "response_repositories = requests.get(url_repositories)\n",
    "soup = BeautifulSoup(response_repositories.content,\"html.parser\")"
   ]
  },
  {
   "cell_type": "code",
   "execution_count": 8,
   "metadata": {},
   "outputs": [],
   "source": [
    "repositories=soup.find_all(name=\"h1\",class_=\"h3 lh-condensed\")"
   ]
  },
  {
   "cell_type": "code",
   "execution_count": 9,
   "metadata": {},
   "outputs": [
    {
     "name": "stdout",
     "output_type": "stream",
     "text": [
      "['straightblast /\\n\\n      My-PoC-Exploits', 'bee-san /\\n\\n      pyWhat', 'plctlab /\\n\\n      v8-internals', 'trekhleb /\\n\\n      learn-python', 'PrefectHQ /\\n\\n      prefect', 'ansible /\\n\\n      awx', 'Azure /\\n\\n      azure-sdk-for-python', 'ifzhang /\\n\\n      FairMOT', 'wilsonfreitas /\\n\\n      awesome-quant', 'giswqs /\\n\\n      leafmap', 'chubin /\\n\\n      cheat.sh', 'kyclark /\\n\\n      tiny_python_projects', 'Hypdncy /\\n\\n      NessusToReport', 'microsoft /\\n\\n      restler-fuzzer', 'PaddlePaddle /\\n\\n      Research', 'edx /\\n\\n      edx-platform', 'tiangolo /\\n\\n      fastapi', 'fishtown-analytics /\\n\\n      dbt', 'deepinsight /\\n\\n      insightface', 'dmlc /\\n\\n      dgl', 'bentoml /\\n\\n      BentoML', 'heartexlabs /\\n\\n      label-studio', 'microsoft /\\n\\n      recommenders', 'ultralytics /\\n\\n      yolov5', 'open-mmlab /\\n\\n      mmpose']\n"
     ]
    }
   ],
   "source": [
    "repositories_clean=[]\n",
    "for r in repositories:\n",
    "    repositories_clean.append(r.getText().strip())\n",
    "print(repositories_clean)"
   ]
  },
  {
   "cell_type": "code",
   "execution_count": 10,
   "metadata": {},
   "outputs": [
    {
     "data": {
      "text/plain": [
       "['straightblast :      My-PoC-Exploits',\n",
       " 'bee-san :      pyWhat',\n",
       " 'plctlab :      v8-internals',\n",
       " 'trekhleb :      learn-python',\n",
       " 'PrefectHQ :      prefect',\n",
       " 'ansible :      awx',\n",
       " 'Azure :      azure-sdk-for-python',\n",
       " 'ifzhang :      FairMOT',\n",
       " 'wilsonfreitas :      awesome-quant',\n",
       " 'giswqs :      leafmap',\n",
       " 'chubin :      cheat.sh',\n",
       " 'kyclark :      tiny_python_projects',\n",
       " 'Hypdncy :      NessusToReport',\n",
       " 'microsoft :      restler-fuzzer',\n",
       " 'PaddlePaddle :      Research',\n",
       " 'edx :      edx-platform',\n",
       " 'tiangolo :      fastapi',\n",
       " 'fishtown-analytics :      dbt',\n",
       " 'deepinsight :      insightface',\n",
       " 'dmlc :      dgl',\n",
       " 'bentoml :      BentoML',\n",
       " 'heartexlabs :      label-studio',\n",
       " 'microsoft :      recommenders',\n",
       " 'ultralytics :      yolov5',\n",
       " 'open-mmlab :      mmpose']"
      ]
     },
     "execution_count": 10,
     "metadata": {},
     "output_type": "execute_result"
    }
   ],
   "source": [
    "repositories_clean=[r.replace(\"/\\n\\n\",\":\") for r in repositories_clean]\n",
    "repositories_clean"
   ]
  },
  {
   "cell_type": "code",
   "execution_count": 11,
   "metadata": {},
   "outputs": [
    {
     "name": "stdout",
     "output_type": "stream",
     "text": [
      "['straightblast :My-PoC-Exploits', 'bee-san :pyWhat', 'plctlab :v8-internals', 'trekhleb :learn-python', 'PrefectHQ :prefect', 'ansible :awx', 'Azure :azure-sdk-for-python', 'ifzhang :FairMOT', 'wilsonfreitas :awesome-quant', 'giswqs :leafmap', 'chubin :cheat.sh', 'kyclark :tiny_python_projects', 'Hypdncy :NessusToReport', 'microsoft :restler-fuzzer', 'PaddlePaddle :Research', 'edx :edx-platform', 'tiangolo :fastapi', 'fishtown-analytics :dbt', 'deepinsight :insightface', 'dmlc :dgl', 'bentoml :BentoML', 'heartexlabs :label-studio', 'microsoft :recommenders', 'ultralytics :yolov5', 'open-mmlab :mmpose']\n"
     ]
    }
   ],
   "source": [
    "repositories_clean=[r.replace(\"  \",\"\") for r in repositories_clean]\n",
    "print(repositories_clean)"
   ]
  },
  {
   "cell_type": "markdown",
   "metadata": {},
   "source": [
    "#### Display all the image links from Walt Disney wikipedia page"
   ]
  },
  {
   "cell_type": "code",
   "execution_count": 48,
   "metadata": {},
   "outputs": [],
   "source": [
    "# This is the url you will scrape in this exercise\n",
    "url= 'https://en.wikipedia.org/wiki/Walt_Disney'"
   ]
  },
  {
   "cell_type": "code",
   "execution_count": 49,
   "metadata": {},
   "outputs": [],
   "source": [
    "#your code\n",
    "response = requests.get(url)\n",
    "soup_disney = BeautifulSoup(response.content,\"html.parser\")"
   ]
  },
  {
   "cell_type": "code",
   "execution_count": 50,
   "metadata": {},
   "outputs": [
    {
     "data": {
      "text/plain": [
       "[<a class=\"image\" href=\"/wiki/File:Walt_Disney_1946.JPG\"><img alt=\"Walt Disney 1946.JPG\" data-file-height=\"675\" data-file-width=\"450\" decoding=\"async\" height=\"330\" src=\"//upload.wikimedia.org/wikipedia/commons/thumb/d/df/Walt_Disney_1946.JPG/220px-Walt_Disney_1946.JPG\" srcset=\"//upload.wikimedia.org/wikipedia/commons/thumb/d/df/Walt_Disney_1946.JPG/330px-Walt_Disney_1946.JPG 1.5x, //upload.wikimedia.org/wikipedia/commons/thumb/d/df/Walt_Disney_1946.JPG/440px-Walt_Disney_1946.JPG 2x\" width=\"220\"/></a>,\n",
       " <a class=\"image\" href=\"/wiki/File:Walt_Disney_1942_signature.svg\"><img alt=\"Walt Disney 1942 signature.svg\" data-file-height=\"218\" data-file-width=\"585\" decoding=\"async\" height=\"56\" src=\"//upload.wikimedia.org/wikipedia/commons/thumb/8/87/Walt_Disney_1942_signature.svg/150px-Walt_Disney_1942_signature.svg.png\" srcset=\"//upload.wikimedia.org/wikipedia/commons/thumb/8/87/Walt_Disney_1942_signature.svg/225px-Walt_Disney_1942_signature.svg.png 1.5x, //upload.wikimedia.org/wikipedia/commons/thumb/8/87/Walt_Disney_1942_signature.svg/300px-Walt_Disney_1942_signature.svg.png 2x\" width=\"150\"/></a>,\n",
       " <a class=\"image\" href=\"/wiki/File:Walt_Disney_envelope_ca._1921.jpg\"><img alt=\"\" class=\"thumbimage\" data-file-height=\"1086\" data-file-width=\"1576\" decoding=\"async\" height=\"152\" src=\"//upload.wikimedia.org/wikipedia/commons/thumb/c/c4/Walt_Disney_envelope_ca._1921.jpg/220px-Walt_Disney_envelope_ca._1921.jpg\" srcset=\"//upload.wikimedia.org/wikipedia/commons/thumb/c/c4/Walt_Disney_envelope_ca._1921.jpg/330px-Walt_Disney_envelope_ca._1921.jpg 1.5x, //upload.wikimedia.org/wikipedia/commons/thumb/c/c4/Walt_Disney_envelope_ca._1921.jpg/440px-Walt_Disney_envelope_ca._1921.jpg 2x\" width=\"220\"/></a>,\n",
       " <a class=\"image\" href=\"/wiki/File:Trolley_Troubles_poster.jpg\"><img alt=\"A cartoon rabbit is driving a tramcar; other cartoon rabbits are in, under, on and around the car.\" class=\"thumbimage\" data-file-height=\"1600\" data-file-width=\"1202\" decoding=\"async\" height=\"226\" src=\"//upload.wikimedia.org/wikipedia/commons/thumb/0/0d/Trolley_Troubles_poster.jpg/170px-Trolley_Troubles_poster.jpg\" srcset=\"//upload.wikimedia.org/wikipedia/commons/thumb/0/0d/Trolley_Troubles_poster.jpg/255px-Trolley_Troubles_poster.jpg 1.5x, //upload.wikimedia.org/wikipedia/commons/thumb/0/0d/Trolley_Troubles_poster.jpg/340px-Trolley_Troubles_poster.jpg 2x\" width=\"170\"/></a>,\n",
       " <a class=\"image\" href=\"/wiki/File:Steamboat-willie.jpg\"><img alt=\"A cartoon mouse is operating a ship's steering wheel\" class=\"thumbimage\" data-file-height=\"267\" data-file-width=\"373\" decoding=\"async\" height=\"122\" src=\"//upload.wikimedia.org/wikipedia/en/thumb/4/4e/Steamboat-willie.jpg/170px-Steamboat-willie.jpg\" srcset=\"//upload.wikimedia.org/wikipedia/en/thumb/4/4e/Steamboat-willie.jpg/255px-Steamboat-willie.jpg 1.5x, //upload.wikimedia.org/wikipedia/en/thumb/4/4e/Steamboat-willie.jpg/340px-Steamboat-willie.jpg 2x\" width=\"170\"/></a>,\n",
       " <a class=\"image\" href=\"/wiki/File:Walt_Disney_1935.jpg\"><img alt=\"\" class=\"thumbimage\" data-file-height=\"451\" data-file-width=\"358\" decoding=\"async\" height=\"214\" src=\"//upload.wikimedia.org/wikipedia/commons/thumb/5/57/Walt_Disney_1935.jpg/170px-Walt_Disney_1935.jpg\" srcset=\"//upload.wikimedia.org/wikipedia/commons/thumb/5/57/Walt_Disney_1935.jpg/255px-Walt_Disney_1935.jpg 1.5x, //upload.wikimedia.org/wikipedia/commons/thumb/5/57/Walt_Disney_1935.jpg/340px-Walt_Disney_1935.jpg 2x\" width=\"170\"/></a>,\n",
       " <a class=\"image\" href=\"/wiki/File:Walt_Disney_Snow_white_1937_trailer_screenshot_(13).jpg\"><img alt=\"Walt Disney sits in front of a set of models of the seven dwarfs\" class=\"thumbimage\" data-file-height=\"388\" data-file-width=\"500\" decoding=\"async\" height=\"171\" src=\"//upload.wikimedia.org/wikipedia/commons/thumb/c/cd/Walt_Disney_Snow_white_1937_trailer_screenshot_%2813%29.jpg/220px-Walt_Disney_Snow_white_1937_trailer_screenshot_%2813%29.jpg\" srcset=\"//upload.wikimedia.org/wikipedia/commons/thumb/c/cd/Walt_Disney_Snow_white_1937_trailer_screenshot_%2813%29.jpg/330px-Walt_Disney_Snow_white_1937_trailer_screenshot_%2813%29.jpg 1.5x, //upload.wikimedia.org/wikipedia/commons/thumb/c/cd/Walt_Disney_Snow_white_1937_trailer_screenshot_%2813%29.jpg/440px-Walt_Disney_Snow_white_1937_trailer_screenshot_%2813%29.jpg 2x\" width=\"220\"/></a>,\n",
       " <a class=\"image\" href=\"/wiki/File:Disney_drawing_goofy.jpg\"><img alt=\"\" class=\"thumbimage\" data-file-height=\"770\" data-file-width=\"600\" decoding=\"async\" height=\"218\" src=\"//upload.wikimedia.org/wikipedia/commons/thumb/1/15/Disney_drawing_goofy.jpg/170px-Disney_drawing_goofy.jpg\" srcset=\"//upload.wikimedia.org/wikipedia/commons/thumb/1/15/Disney_drawing_goofy.jpg/255px-Disney_drawing_goofy.jpg 1.5x, //upload.wikimedia.org/wikipedia/commons/thumb/1/15/Disney_drawing_goofy.jpg/340px-Disney_drawing_goofy.jpg 2x\" width=\"170\"/></a>,\n",
       " <a class=\"image\" href=\"/wiki/File:DisneySchiphol1951.jpg\"><img alt=\"\" class=\"thumbimage\" data-file-height=\"2493\" data-file-width=\"3247\" decoding=\"async\" height=\"169\" src=\"//upload.wikimedia.org/wikipedia/commons/thumb/1/13/DisneySchiphol1951.jpg/220px-DisneySchiphol1951.jpg\" srcset=\"//upload.wikimedia.org/wikipedia/commons/thumb/1/13/DisneySchiphol1951.jpg/330px-DisneySchiphol1951.jpg 1.5x, //upload.wikimedia.org/wikipedia/commons/thumb/1/13/DisneySchiphol1951.jpg/440px-DisneySchiphol1951.jpg 2x\" width=\"220\"/></a>,\n",
       " <a class=\"image\" href=\"/wiki/File:WaltDisneyplansDisneylandDec1954.jpg\"><img alt=\"\" class=\"thumbimage\" data-file-height=\"2417\" data-file-width=\"2723\" decoding=\"async\" height=\"195\" src=\"//upload.wikimedia.org/wikipedia/commons/thumb/8/8c/WaltDisneyplansDisneylandDec1954.jpg/220px-WaltDisneyplansDisneylandDec1954.jpg\" srcset=\"//upload.wikimedia.org/wikipedia/commons/thumb/8/8c/WaltDisneyplansDisneylandDec1954.jpg/330px-WaltDisneyplansDisneylandDec1954.jpg 1.5x, //upload.wikimedia.org/wikipedia/commons/thumb/8/8c/WaltDisneyplansDisneylandDec1954.jpg/440px-WaltDisneyplansDisneylandDec1954.jpg 2x\" width=\"220\"/></a>,\n",
       " <a class=\"image\" href=\"/wiki/File:Walt_disney_portrait_right.jpg\"><img alt=\"\" class=\"thumbimage\" data-file-height=\"902\" data-file-width=\"667\" decoding=\"async\" height=\"230\" src=\"//upload.wikimedia.org/wikipedia/commons/thumb/f/ff/Walt_disney_portrait_right.jpg/170px-Walt_disney_portrait_right.jpg\" srcset=\"//upload.wikimedia.org/wikipedia/commons/thumb/f/ff/Walt_disney_portrait_right.jpg/255px-Walt_disney_portrait_right.jpg 1.5x, //upload.wikimedia.org/wikipedia/commons/thumb/f/ff/Walt_disney_portrait_right.jpg/340px-Walt_disney_portrait_right.jpg 2x\" width=\"170\"/></a>,\n",
       " <a class=\"image\" href=\"/wiki/File:Walt_Disney_Grave.JPG\"><img alt=\"A gravestone inscribed 'Walter Elias Disney', 'Lillian Bounds Disney', 'Robert B. Brown', Sharon Disney Brown Lund ashes scattered in paradise'\" class=\"thumbimage\" data-file-height=\"1700\" data-file-width=\"1400\" decoding=\"async\" height=\"206\" src=\"//upload.wikimedia.org/wikipedia/commons/thumb/1/1a/Walt_Disney_Grave.JPG/170px-Walt_Disney_Grave.JPG\" srcset=\"//upload.wikimedia.org/wikipedia/commons/thumb/1/1a/Walt_Disney_Grave.JPG/255px-Walt_Disney_Grave.JPG 1.5x, //upload.wikimedia.org/wikipedia/commons/thumb/1/1a/Walt_Disney_Grave.JPG/340px-Walt_Disney_Grave.JPG 2x\" width=\"170\"/></a>,\n",
       " <a class=\"image\" href=\"/wiki/File:Roy_O._Disney_with_Company_at_Press_Conference.jpg\"><img alt=\"\" class=\"thumbimage\" data-file-height=\"275\" data-file-width=\"220\" decoding=\"async\" height=\"213\" src=\"//upload.wikimedia.org/wikipedia/commons/thumb/2/2d/Roy_O._Disney_with_Company_at_Press_Conference.jpg/170px-Roy_O._Disney_with_Company_at_Press_Conference.jpg\" srcset=\"//upload.wikimedia.org/wikipedia/commons/2/2d/Roy_O._Disney_with_Company_at_Press_Conference.jpg 1.5x\" width=\"170\"/></a>,\n",
       " <a class=\"image\" href=\"/wiki/File:Disney_Display_Case.JPG\"><img alt=\"\" class=\"thumbimage\" data-file-height=\"3025\" data-file-width=\"1927\" decoding=\"async\" height=\"267\" src=\"//upload.wikimedia.org/wikipedia/commons/thumb/a/a9/Disney_Display_Case.JPG/170px-Disney_Display_Case.JPG\" srcset=\"//upload.wikimedia.org/wikipedia/commons/thumb/a/a9/Disney_Display_Case.JPG/255px-Disney_Display_Case.JPG 1.5x, //upload.wikimedia.org/wikipedia/commons/thumb/a/a9/Disney_Display_Case.JPG/340px-Disney_Display_Case.JPG 2x\" width=\"170\"/></a>,\n",
       " <a class=\"image\" href=\"/wiki/File:Disney1968.jpg\"><img alt=\"A portrait of Disney with cartoon representations of different nationalities on a 6 cent US stamp\" class=\"thumbimage\" data-file-height=\"736\" data-file-width=\"483\" decoding=\"async\" height=\"259\" src=\"//upload.wikimedia.org/wikipedia/commons/thumb/6/6c/Disney1968.jpg/170px-Disney1968.jpg\" srcset=\"//upload.wikimedia.org/wikipedia/commons/thumb/6/6c/Disney1968.jpg/255px-Disney1968.jpg 1.5x, //upload.wikimedia.org/wikipedia/commons/thumb/6/6c/Disney1968.jpg/340px-Disney1968.jpg 2x\" width=\"170\"/></a>,\n",
       " <a class=\"image\" href=\"/wiki/File:Disneyland_Resort_logo.svg\"><img alt=\"Disneyland Resort logo.svg\" data-file-height=\"66\" data-file-width=\"267\" decoding=\"async\" height=\"33\" src=\"//upload.wikimedia.org/wikipedia/commons/thumb/e/e3/Disneyland_Resort_logo.svg/135px-Disneyland_Resort_logo.svg.png\" srcset=\"//upload.wikimedia.org/wikipedia/commons/thumb/e/e3/Disneyland_Resort_logo.svg/203px-Disneyland_Resort_logo.svg.png 1.5x, //upload.wikimedia.org/wikipedia/commons/thumb/e/e3/Disneyland_Resort_logo.svg/270px-Disneyland_Resort_logo.svg.png 2x\" width=\"135\"/></a>,\n",
       " <a class=\"image\" href=\"/wiki/File:Animation_disc.svg\"><img alt=\"Animation disc.svg\" data-file-height=\"28\" data-file-width=\"30\" decoding=\"async\" height=\"28\" src=\"//upload.wikimedia.org/wikipedia/commons/thumb/d/da/Animation_disc.svg/30px-Animation_disc.svg.png\" srcset=\"//upload.wikimedia.org/wikipedia/commons/thumb/d/da/Animation_disc.svg/45px-Animation_disc.svg.png 1.5x, //upload.wikimedia.org/wikipedia/commons/thumb/d/da/Animation_disc.svg/60px-Animation_disc.svg.png 2x\" width=\"30\"/></a>,\n",
       " <a class=\"image\" href=\"/wiki/File:P_vip.svg\"><img alt=\"P vip.svg\" data-file-height=\"1944\" data-file-width=\"1911\" decoding=\"async\" height=\"30\" src=\"//upload.wikimedia.org/wikipedia/en/thumb/6/69/P_vip.svg/29px-P_vip.svg.png\" srcset=\"//upload.wikimedia.org/wikipedia/en/thumb/6/69/P_vip.svg/44px-P_vip.svg.png 1.5x, //upload.wikimedia.org/wikipedia/en/thumb/6/69/P_vip.svg/59px-P_vip.svg.png 2x\" width=\"29\"/></a>,\n",
       " <a class=\"image\" href=\"/wiki/File:Magic_Kingdom_castle.jpg\"><img alt=\"Magic Kingdom castle.jpg\" data-file-height=\"1545\" data-file-width=\"1262\" decoding=\"async\" height=\"30\" src=\"//upload.wikimedia.org/wikipedia/commons/thumb/1/1a/Magic_Kingdom_castle.jpg/24px-Magic_Kingdom_castle.jpg\" srcset=\"//upload.wikimedia.org/wikipedia/commons/thumb/1/1a/Magic_Kingdom_castle.jpg/37px-Magic_Kingdom_castle.jpg 1.5x, //upload.wikimedia.org/wikipedia/commons/thumb/1/1a/Magic_Kingdom_castle.jpg/49px-Magic_Kingdom_castle.jpg 2x\" width=\"24\"/></a>,\n",
       " <a class=\"image\" href=\"/wiki/File:Video-x-generic.svg\"><img alt=\"Video-x-generic.svg\" data-file-height=\"48\" data-file-width=\"48\" decoding=\"async\" height=\"30\" src=\"//upload.wikimedia.org/wikipedia/en/thumb/e/e7/Video-x-generic.svg/30px-Video-x-generic.svg.png\" srcset=\"//upload.wikimedia.org/wikipedia/en/thumb/e/e7/Video-x-generic.svg/45px-Video-x-generic.svg.png 1.5x, //upload.wikimedia.org/wikipedia/en/thumb/e/e7/Video-x-generic.svg/60px-Video-x-generic.svg.png 2x\" width=\"30\"/></a>,\n",
       " <a class=\"image\" href=\"/wiki/File:Flag_of_Los_Angeles_County,_California.svg\"><img alt=\"Flag of Los Angeles County, California.svg\" data-file-height=\"913\" data-file-width=\"1522\" decoding=\"async\" height=\"18\" src=\"//upload.wikimedia.org/wikipedia/commons/thumb/a/a3/Flag_of_Los_Angeles_County%2C_California.svg/30px-Flag_of_Los_Angeles_County%2C_California.svg.png\" srcset=\"//upload.wikimedia.org/wikipedia/commons/thumb/a/a3/Flag_of_Los_Angeles_County%2C_California.svg/45px-Flag_of_Los_Angeles_County%2C_California.svg.png 1.5x, //upload.wikimedia.org/wikipedia/commons/thumb/a/a3/Flag_of_Los_Angeles_County%2C_California.svg/60px-Flag_of_Los_Angeles_County%2C_California.svg.png 2x\" width=\"30\"/></a>,\n",
       " <a class=\"image\" href=\"/wiki/File:Blank_television_set.svg\"><img alt=\"Blank television set.svg\" data-file-height=\"92\" data-file-width=\"138\" decoding=\"async\" height=\"20\" src=\"//upload.wikimedia.org/wikipedia/commons/thumb/8/8c/Blank_television_set.svg/30px-Blank_television_set.svg.png\" srcset=\"//upload.wikimedia.org/wikipedia/commons/thumb/8/8c/Blank_television_set.svg/45px-Blank_television_set.svg.png 1.5x, //upload.wikimedia.org/wikipedia/commons/thumb/8/8c/Blank_television_set.svg/60px-Blank_television_set.svg.png 2x\" width=\"30\"/></a>,\n",
       " <a class=\"image\" href=\"/wiki/File:Flag_of_the_United_States.svg\"><img alt=\"Flag of the United States.svg\" data-file-height=\"650\" data-file-width=\"1235\" decoding=\"async\" height=\"16\" src=\"//upload.wikimedia.org/wikipedia/en/thumb/a/a4/Flag_of_the_United_States.svg/30px-Flag_of_the_United_States.svg.png\" srcset=\"//upload.wikimedia.org/wikipedia/en/thumb/a/a4/Flag_of_the_United_States.svg/45px-Flag_of_the_United_States.svg.png 1.5x, //upload.wikimedia.org/wikipedia/en/thumb/a/a4/Flag_of_the_United_States.svg/60px-Flag_of_the_United_States.svg.png 2x\" width=\"30\"/></a>]"
      ]
     },
     "execution_count": 50,
     "metadata": {},
     "output_type": "execute_result"
    }
   ],
   "source": [
    "images_link = soup_disney.find_all('a',class_=\"image\")\n",
    "images_link"
   ]
  },
  {
   "cell_type": "code",
   "execution_count": 51,
   "metadata": {},
   "outputs": [
    {
     "data": {
      "text/plain": [
       "['//upload.wikimedia.org/wikipedia/commons/thumb/d/df/Walt_Disney_1946.JPG/220px-Walt_Disney_1946.JPG',\n",
       " '//upload.wikimedia.org/wikipedia/commons/thumb/8/87/Walt_Disney_1942_signature.svg/150px-Walt_Disney_1942_signature.svg.png',\n",
       " '//upload.wikimedia.org/wikipedia/commons/thumb/c/c4/Walt_Disney_envelope_ca._1921.jpg/220px-Walt_Disney_envelope_ca._1921.jpg',\n",
       " '//upload.wikimedia.org/wikipedia/commons/thumb/0/0d/Trolley_Troubles_poster.jpg/170px-Trolley_Troubles_poster.jpg',\n",
       " '//upload.wikimedia.org/wikipedia/en/thumb/4/4e/Steamboat-willie.jpg/170px-Steamboat-willie.jpg',\n",
       " '//upload.wikimedia.org/wikipedia/commons/thumb/5/57/Walt_Disney_1935.jpg/170px-Walt_Disney_1935.jpg',\n",
       " '//upload.wikimedia.org/wikipedia/commons/thumb/c/cd/Walt_Disney_Snow_white_1937_trailer_screenshot_%2813%29.jpg/220px-Walt_Disney_Snow_white_1937_trailer_screenshot_%2813%29.jpg',\n",
       " '//upload.wikimedia.org/wikipedia/commons/thumb/1/15/Disney_drawing_goofy.jpg/170px-Disney_drawing_goofy.jpg',\n",
       " '//upload.wikimedia.org/wikipedia/commons/thumb/1/13/DisneySchiphol1951.jpg/220px-DisneySchiphol1951.jpg',\n",
       " '//upload.wikimedia.org/wikipedia/commons/thumb/8/8c/WaltDisneyplansDisneylandDec1954.jpg/220px-WaltDisneyplansDisneylandDec1954.jpg',\n",
       " '//upload.wikimedia.org/wikipedia/commons/thumb/f/ff/Walt_disney_portrait_right.jpg/170px-Walt_disney_portrait_right.jpg',\n",
       " '//upload.wikimedia.org/wikipedia/commons/thumb/1/1a/Walt_Disney_Grave.JPG/170px-Walt_Disney_Grave.JPG',\n",
       " '//upload.wikimedia.org/wikipedia/commons/thumb/2/2d/Roy_O._Disney_with_Company_at_Press_Conference.jpg/170px-Roy_O._Disney_with_Company_at_Press_Conference.jpg',\n",
       " '//upload.wikimedia.org/wikipedia/commons/thumb/a/a9/Disney_Display_Case.JPG/170px-Disney_Display_Case.JPG',\n",
       " '//upload.wikimedia.org/wikipedia/commons/thumb/6/6c/Disney1968.jpg/170px-Disney1968.jpg',\n",
       " '//upload.wikimedia.org/wikipedia/commons/thumb/e/e3/Disneyland_Resort_logo.svg/135px-Disneyland_Resort_logo.svg.png',\n",
       " '//upload.wikimedia.org/wikipedia/commons/thumb/d/da/Animation_disc.svg/30px-Animation_disc.svg.png',\n",
       " '//upload.wikimedia.org/wikipedia/en/thumb/6/69/P_vip.svg/29px-P_vip.svg.png',\n",
       " '//upload.wikimedia.org/wikipedia/commons/thumb/1/1a/Magic_Kingdom_castle.jpg/24px-Magic_Kingdom_castle.jpg',\n",
       " '//upload.wikimedia.org/wikipedia/en/thumb/e/e7/Video-x-generic.svg/30px-Video-x-generic.svg.png',\n",
       " '//upload.wikimedia.org/wikipedia/commons/thumb/a/a3/Flag_of_Los_Angeles_County%2C_California.svg/30px-Flag_of_Los_Angeles_County%2C_California.svg.png',\n",
       " '//upload.wikimedia.org/wikipedia/commons/thumb/8/8c/Blank_television_set.svg/30px-Blank_television_set.svg.png',\n",
       " '//upload.wikimedia.org/wikipedia/en/thumb/a/a4/Flag_of_the_United_States.svg/30px-Flag_of_the_United_States.svg.png']"
      ]
     },
     "execution_count": 51,
     "metadata": {},
     "output_type": "execute_result"
    }
   ],
   "source": [
    "links = []\n",
    "for i in images_link:\n",
    "    links.append(i.img[\"src\"])\n",
    "links"
   ]
  },
  {
   "cell_type": "code",
   "execution_count": 52,
   "metadata": {},
   "outputs": [
    {
     "data": {
      "text/html": [
       "<img src=\"//upload.wikimedia.org/wikipedia/commons/thumb/d/df/Walt_Disney_1946.JPG/220px-Walt_Disney_1946.JPG\"/>"
      ],
      "text/plain": [
       "<IPython.core.display.Image object>"
      ]
     },
     "metadata": {},
     "output_type": "display_data"
    },
    {
     "data": {
      "text/html": [
       "<img src=\"//upload.wikimedia.org/wikipedia/commons/thumb/8/87/Walt_Disney_1942_signature.svg/150px-Walt_Disney_1942_signature.svg.png\"/>"
      ],
      "text/plain": [
       "<IPython.core.display.Image object>"
      ]
     },
     "metadata": {},
     "output_type": "display_data"
    },
    {
     "data": {
      "text/html": [
       "<img src=\"//upload.wikimedia.org/wikipedia/commons/thumb/c/c4/Walt_Disney_envelope_ca._1921.jpg/220px-Walt_Disney_envelope_ca._1921.jpg\"/>"
      ],
      "text/plain": [
       "<IPython.core.display.Image object>"
      ]
     },
     "metadata": {},
     "output_type": "display_data"
    },
    {
     "data": {
      "text/html": [
       "<img src=\"//upload.wikimedia.org/wikipedia/commons/thumb/0/0d/Trolley_Troubles_poster.jpg/170px-Trolley_Troubles_poster.jpg\"/>"
      ],
      "text/plain": [
       "<IPython.core.display.Image object>"
      ]
     },
     "metadata": {},
     "output_type": "display_data"
    },
    {
     "data": {
      "text/html": [
       "<img src=\"//upload.wikimedia.org/wikipedia/en/thumb/4/4e/Steamboat-willie.jpg/170px-Steamboat-willie.jpg\"/>"
      ],
      "text/plain": [
       "<IPython.core.display.Image object>"
      ]
     },
     "metadata": {},
     "output_type": "display_data"
    },
    {
     "data": {
      "text/html": [
       "<img src=\"//upload.wikimedia.org/wikipedia/commons/thumb/5/57/Walt_Disney_1935.jpg/170px-Walt_Disney_1935.jpg\"/>"
      ],
      "text/plain": [
       "<IPython.core.display.Image object>"
      ]
     },
     "metadata": {},
     "output_type": "display_data"
    },
    {
     "data": {
      "text/html": [
       "<img src=\"//upload.wikimedia.org/wikipedia/commons/thumb/c/cd/Walt_Disney_Snow_white_1937_trailer_screenshot_%2813%29.jpg/220px-Walt_Disney_Snow_white_1937_trailer_screenshot_%2813%29.jpg\"/>"
      ],
      "text/plain": [
       "<IPython.core.display.Image object>"
      ]
     },
     "metadata": {},
     "output_type": "display_data"
    },
    {
     "data": {
      "text/html": [
       "<img src=\"//upload.wikimedia.org/wikipedia/commons/thumb/1/15/Disney_drawing_goofy.jpg/170px-Disney_drawing_goofy.jpg\"/>"
      ],
      "text/plain": [
       "<IPython.core.display.Image object>"
      ]
     },
     "metadata": {},
     "output_type": "display_data"
    },
    {
     "data": {
      "text/html": [
       "<img src=\"//upload.wikimedia.org/wikipedia/commons/thumb/1/13/DisneySchiphol1951.jpg/220px-DisneySchiphol1951.jpg\"/>"
      ],
      "text/plain": [
       "<IPython.core.display.Image object>"
      ]
     },
     "metadata": {},
     "output_type": "display_data"
    },
    {
     "data": {
      "text/html": [
       "<img src=\"//upload.wikimedia.org/wikipedia/commons/thumb/8/8c/WaltDisneyplansDisneylandDec1954.jpg/220px-WaltDisneyplansDisneylandDec1954.jpg\"/>"
      ],
      "text/plain": [
       "<IPython.core.display.Image object>"
      ]
     },
     "metadata": {},
     "output_type": "display_data"
    },
    {
     "data": {
      "text/html": [
       "<img src=\"//upload.wikimedia.org/wikipedia/commons/thumb/f/ff/Walt_disney_portrait_right.jpg/170px-Walt_disney_portrait_right.jpg\"/>"
      ],
      "text/plain": [
       "<IPython.core.display.Image object>"
      ]
     },
     "metadata": {},
     "output_type": "display_data"
    },
    {
     "data": {
      "text/html": [
       "<img src=\"//upload.wikimedia.org/wikipedia/commons/thumb/1/1a/Walt_Disney_Grave.JPG/170px-Walt_Disney_Grave.JPG\"/>"
      ],
      "text/plain": [
       "<IPython.core.display.Image object>"
      ]
     },
     "metadata": {},
     "output_type": "display_data"
    },
    {
     "data": {
      "text/html": [
       "<img src=\"//upload.wikimedia.org/wikipedia/commons/thumb/2/2d/Roy_O._Disney_with_Company_at_Press_Conference.jpg/170px-Roy_O._Disney_with_Company_at_Press_Conference.jpg\"/>"
      ],
      "text/plain": [
       "<IPython.core.display.Image object>"
      ]
     },
     "metadata": {},
     "output_type": "display_data"
    },
    {
     "data": {
      "text/html": [
       "<img src=\"//upload.wikimedia.org/wikipedia/commons/thumb/a/a9/Disney_Display_Case.JPG/170px-Disney_Display_Case.JPG\"/>"
      ],
      "text/plain": [
       "<IPython.core.display.Image object>"
      ]
     },
     "metadata": {},
     "output_type": "display_data"
    },
    {
     "data": {
      "text/html": [
       "<img src=\"//upload.wikimedia.org/wikipedia/commons/thumb/6/6c/Disney1968.jpg/170px-Disney1968.jpg\"/>"
      ],
      "text/plain": [
       "<IPython.core.display.Image object>"
      ]
     },
     "metadata": {},
     "output_type": "display_data"
    },
    {
     "data": {
      "text/html": [
       "<img src=\"//upload.wikimedia.org/wikipedia/commons/thumb/e/e3/Disneyland_Resort_logo.svg/135px-Disneyland_Resort_logo.svg.png\"/>"
      ],
      "text/plain": [
       "<IPython.core.display.Image object>"
      ]
     },
     "metadata": {},
     "output_type": "display_data"
    },
    {
     "data": {
      "text/html": [
       "<img src=\"//upload.wikimedia.org/wikipedia/commons/thumb/d/da/Animation_disc.svg/30px-Animation_disc.svg.png\"/>"
      ],
      "text/plain": [
       "<IPython.core.display.Image object>"
      ]
     },
     "metadata": {},
     "output_type": "display_data"
    },
    {
     "data": {
      "text/html": [
       "<img src=\"//upload.wikimedia.org/wikipedia/en/thumb/6/69/P_vip.svg/29px-P_vip.svg.png\"/>"
      ],
      "text/plain": [
       "<IPython.core.display.Image object>"
      ]
     },
     "metadata": {},
     "output_type": "display_data"
    },
    {
     "data": {
      "text/html": [
       "<img src=\"//upload.wikimedia.org/wikipedia/commons/thumb/1/1a/Magic_Kingdom_castle.jpg/24px-Magic_Kingdom_castle.jpg\"/>"
      ],
      "text/plain": [
       "<IPython.core.display.Image object>"
      ]
     },
     "metadata": {},
     "output_type": "display_data"
    },
    {
     "data": {
      "text/html": [
       "<img src=\"//upload.wikimedia.org/wikipedia/en/thumb/e/e7/Video-x-generic.svg/30px-Video-x-generic.svg.png\"/>"
      ],
      "text/plain": [
       "<IPython.core.display.Image object>"
      ]
     },
     "metadata": {},
     "output_type": "display_data"
    },
    {
     "data": {
      "text/html": [
       "<img src=\"//upload.wikimedia.org/wikipedia/commons/thumb/a/a3/Flag_of_Los_Angeles_County%2C_California.svg/30px-Flag_of_Los_Angeles_County%2C_California.svg.png\"/>"
      ],
      "text/plain": [
       "<IPython.core.display.Image object>"
      ]
     },
     "metadata": {},
     "output_type": "display_data"
    },
    {
     "data": {
      "text/html": [
       "<img src=\"//upload.wikimedia.org/wikipedia/commons/thumb/8/8c/Blank_television_set.svg/30px-Blank_television_set.svg.png\"/>"
      ],
      "text/plain": [
       "<IPython.core.display.Image object>"
      ]
     },
     "metadata": {},
     "output_type": "display_data"
    },
    {
     "data": {
      "text/html": [
       "<img src=\"//upload.wikimedia.org/wikipedia/en/thumb/a/a4/Flag_of_the_United_States.svg/30px-Flag_of_the_United_States.svg.png\"/>"
      ],
      "text/plain": [
       "<IPython.core.display.Image object>"
      ]
     },
     "metadata": {},
     "output_type": "display_data"
    }
   ],
   "source": [
    "from IPython.display import display, Image\n",
    "\n",
    "for a in links:\n",
    "    image = Image(url=a)\n",
    "    display(image)"
   ]
  },
  {
   "cell_type": "markdown",
   "metadata": {},
   "source": [
    "#### Retrieve an arbitary Wikipedia page of \"Python\" and create a list of links on that page"
   ]
  },
  {
   "cell_type": "code",
   "execution_count": 53,
   "metadata": {},
   "outputs": [],
   "source": [
    "# This is the url you will scrape in this exercise\n",
    "url ='https://en.wikipedia.org/wiki/Python' "
   ]
  },
  {
   "cell_type": "code",
   "execution_count": 54,
   "metadata": {},
   "outputs": [],
   "source": [
    "#your code\n",
    "response_py = requests.get(url)\n",
    "soup_py = BeautifulSoup(response_py.content,\"html.parser\")"
   ]
  },
  {
   "cell_type": "code",
   "execution_count": 55,
   "metadata": {},
   "outputs": [
    {
     "name": "stdout",
     "output_type": "stream",
     "text": [
      "['#mw-head', '#searchInput', 'https://en.wiktionary.org/wiki/Python', 'https://en.wiktionary.org/wiki/python', '/wiki/Pythons', '/wiki/Python_(genus)', '#Computing', '#People', '#Roller_coasters', '#Vehicles', '#Weaponry', '#Other_uses', '#See_also', '/w/index.php?title=Python&action=edit&section=1', '/wiki/Python_(programming_language)', '/wiki/CMU_Common_Lisp', '/wiki/PERQ#PERQ_3', '/w/index.php?title=Python&action=edit&section=2', '/wiki/Python_of_Aenus', '/wiki/Python_(painter)', '/wiki/Python_of_Byzantium', '/wiki/Python_of_Catana', '/wiki/Python_Anghelo', '/w/index.php?title=Python&action=edit&section=3', '/wiki/Python_(Efteling)', '/wiki/Python_(Busch_Gardens_Tampa_Bay)', '/wiki/Python_(Coney_Island,_Cincinnati,_Ohio)', '/w/index.php?title=Python&action=edit&section=4', '/wiki/Python_(automobile_maker)', '/wiki/Python_(Ford_prototype)', '/w/index.php?title=Python&action=edit&section=5', '/wiki/Python_(missile)', '/wiki/Python_(nuclear_primary)', '/wiki/Colt_Python', '/w/index.php?title=Python&action=edit&section=6', '/wiki/PYTHON', '/wiki/Python_(film)', '/wiki/Python_(mythology)', '/wiki/Monty_Python', '/wiki/Python_(Monty)_Pictures', '/w/index.php?title=Python&action=edit&section=7', '/wiki/Cython', '/wiki/Pyton', '/wiki/Pithon', '/wiki/File:Disambig_gray.svg', '/wiki/Help:Disambiguation', 'https://en.wikipedia.org/w/index.php?title=Special:WhatLinksHere/Python&namespace=0', 'https://en.wikipedia.org/w/index.php?title=Python&oldid=997582414', '/wiki/Help:Category', '/wiki/Category:Disambiguation_pages', '/wiki/Category:Human_name_disambiguation_pages', '/wiki/Category:Disambiguation_pages_with_given-name-holder_lists', '/wiki/Category:Disambiguation_pages_with_short_descriptions', '/wiki/Category:Short_description_is_different_from_Wikidata', '/wiki/Category:All_article_disambiguation_pages', '/wiki/Category:All_disambiguation_pages', '/wiki/Category:Animal_common_name_disambiguation_pages', '/wiki/Special:MyTalk', '/wiki/Special:MyContributions', '/w/index.php?title=Special:CreateAccount&returnto=Python', '/w/index.php?title=Special:UserLogin&returnto=Python', '/wiki/Python', '/wiki/Talk:Python', '/wiki/Python', '/w/index.php?title=Python&action=edit', '/w/index.php?title=Python&action=history', '/wiki/Main_Page', '/wiki/Main_Page', '/wiki/Wikipedia:Contents', '/wiki/Portal:Current_events', '/wiki/Special:Random', '/wiki/Wikipedia:About', '//en.wikipedia.org/wiki/Wikipedia:Contact_us', 'https://donate.wikimedia.org/wiki/Special:FundraiserRedirector?utm_source=donate&utm_medium=sidebar&utm_campaign=C13_en.wikipedia.org&uselang=en', '/wiki/Help:Contents', '/wiki/Help:Introduction', '/wiki/Wikipedia:Community_portal', '/wiki/Special:RecentChanges', '/wiki/Wikipedia:File_Upload_Wizard', '/wiki/Special:WhatLinksHere/Python', '/wiki/Special:RecentChangesLinked/Python', '/wiki/Wikipedia:File_Upload_Wizard', '/wiki/Special:SpecialPages', '/w/index.php?title=Python&oldid=997582414', '/w/index.php?title=Python&action=info', '/w/index.php?title=Special:CiteThisPage&page=Python&id=997582414&wpFormIdentifier=titleform', 'https://www.wikidata.org/wiki/Special:EntityPage/Q747452', '/w/index.php?title=Special:DownloadAsPdf&page=Python&action=show-download-screen', '/w/index.php?title=Python&printable=yes', 'https://commons.wikimedia.org/wiki/Category:Python', 'https://af.wikipedia.org/wiki/Python', 'https://als.wikipedia.org/wiki/Python', 'https://ar.wikipedia.org/wiki/%D8%A8%D8%A7%D9%8A%D8%AB%D9%88%D9%86_(%D8%AA%D9%88%D8%B6%D9%8A%D8%AD)', 'https://az.wikipedia.org/wiki/Python', 'https://bn.wikipedia.org/wiki/%E0%A6%AA%E0%A6%BE%E0%A6%87%E0%A6%A5%E0%A6%A8_(%E0%A6%A6%E0%A7%8D%E0%A6%AC%E0%A7%8D%E0%A6%AF%E0%A6%B0%E0%A7%8D%E0%A6%A5%E0%A6%A4%E0%A6%BE_%E0%A6%A8%E0%A6%BF%E0%A6%B0%E0%A6%B8%E0%A6%A8)', 'https://be.wikipedia.org/wiki/Python', 'https://bg.wikipedia.org/wiki/%D0%9F%D0%B8%D1%82%D0%BE%D0%BD_(%D0%BF%D0%BE%D1%8F%D1%81%D0%BD%D0%B5%D0%BD%D0%B8%D0%B5)', 'https://cs.wikipedia.org/wiki/Python_(rozcestn%C3%ADk)', 'https://da.wikipedia.org/wiki/Python', 'https://de.wikipedia.org/wiki/Python', 'https://eo.wikipedia.org/wiki/Pitono_(apartigilo)', 'https://eu.wikipedia.org/wiki/Python_(argipena)', 'https://fa.wikipedia.org/wiki/%D9%BE%D8%A7%DB%8C%D8%AA%D9%88%D9%86', 'https://fr.wikipedia.org/wiki/Python', 'https://ko.wikipedia.org/wiki/%ED%8C%8C%EC%9D%B4%EC%84%A0', 'https://hr.wikipedia.org/wiki/Python_(razdvojba)', 'https://io.wikipedia.org/wiki/Pitono', 'https://id.wikipedia.org/wiki/Python', 'https://ia.wikipedia.org/wiki/Python_(disambiguation)', 'https://is.wikipedia.org/wiki/Python_(a%C3%B0greining)', 'https://it.wikipedia.org/wiki/Python_(disambigua)', 'https://he.wikipedia.org/wiki/%D7%A4%D7%99%D7%AA%D7%95%D7%9F', 'https://ka.wikipedia.org/wiki/%E1%83%9E%E1%83%98%E1%83%97%E1%83%9D%E1%83%9C%E1%83%98_(%E1%83%9B%E1%83%A0%E1%83%90%E1%83%95%E1%83%90%E1%83%9A%E1%83%9B%E1%83%9C%E1%83%98%E1%83%A8%E1%83%95%E1%83%9C%E1%83%94%E1%83%9A%E1%83%9D%E1%83%95%E1%83%90%E1%83%9C%E1%83%98)', 'https://kg.wikipedia.org/wiki/Mboma_(nyoka)', 'https://la.wikipedia.org/wiki/Python_(discretiva)', 'https://lb.wikipedia.org/wiki/Python', 'https://hu.wikipedia.org/wiki/Python_(egy%C3%A9rtelm%C5%B1s%C3%ADt%C5%91_lap)', 'https://mr.wikipedia.org/wiki/%E0%A4%AA%E0%A4%BE%E0%A4%AF%E0%A4%A5%E0%A5%89%E0%A4%A8_(%E0%A4%86%E0%A4%9C%E0%A5%8D%E0%A4%9E%E0%A4%BE%E0%A4%B5%E0%A4%B2%E0%A5%80_%E0%A4%AD%E0%A4%BE%E0%A4%B7%E0%A4%BE)', 'https://nl.wikipedia.org/wiki/Python', 'https://ja.wikipedia.org/wiki/%E3%83%91%E3%82%A4%E3%82%BD%E3%83%B3', 'https://no.wikipedia.org/wiki/Pyton', 'https://pl.wikipedia.org/wiki/Pyton', 'https://pt.wikipedia.org/wiki/Python_(desambigua%C3%A7%C3%A3o)', 'https://ru.wikipedia.org/wiki/Python_(%D0%B7%D0%BD%D0%B0%D1%87%D0%B5%D0%BD%D0%B8%D1%8F)', 'https://sk.wikipedia.org/wiki/Python', 'https://sr.wikipedia.org/wiki/%D0%9F%D0%B8%D1%82%D0%BE%D0%BD_(%D0%B2%D0%B8%D1%88%D0%B5%D0%B7%D0%BD%D0%B0%D1%87%D0%BD%D0%B0_%D0%BE%D0%B4%D1%80%D0%B5%D0%B4%D0%BD%D0%B8%D1%86%D0%B0)', 'https://sh.wikipedia.org/wiki/Python', 'https://fi.wikipedia.org/wiki/Python', 'https://sv.wikipedia.org/wiki/Pyton', 'https://th.wikipedia.org/wiki/%E0%B9%84%E0%B8%9E%E0%B8%97%E0%B8%AD%E0%B8%99', 'https://tr.wikipedia.org/wiki/Python', 'https://uk.wikipedia.org/wiki/%D0%9F%D1%96%D1%84%D0%BE%D0%BD', 'https://ur.wikipedia.org/wiki/%D9%BE%D8%A7%D8%A6%DB%8C%D8%AA%DA%BE%D9%88%D9%86', 'https://vi.wikipedia.org/wiki/Python', 'https://zh.wikipedia.org/wiki/Python_(%E6%B6%88%E6%AD%A7%E4%B9%89)', 'https://www.wikidata.org/wiki/Special:EntityPage/Q747452#sitelinks-wikipedia', '//en.wikipedia.org/wiki/Wikipedia:Text_of_Creative_Commons_Attribution-ShareAlike_3.0_Unported_License', '//creativecommons.org/licenses/by-sa/3.0/', '//foundation.wikimedia.org/wiki/Terms_of_Use', '//foundation.wikimedia.org/wiki/Privacy_policy', '//www.wikimediafoundation.org/', 'https://foundation.wikimedia.org/wiki/Privacy_policy', '/wiki/Wikipedia:About', '/wiki/Wikipedia:General_disclaimer', '//en.wikipedia.org/wiki/Wikipedia:Contact_us', '//en.m.wikipedia.org/w/index.php?title=Python&mobileaction=toggle_view_mobile', 'https://www.mediawiki.org/wiki/Special:MyLanguage/How_to_contribute', 'https://stats.wikimedia.org/#/en.wikipedia.org', 'https://foundation.wikimedia.org/wiki/Cookie_statement', 'https://wikimediafoundation.org/', 'https://www.mediawiki.org/']\n"
     ]
    }
   ],
   "source": [
    "links = soup_py.find_all('a',href=True)\n",
    "final_l = []\n",
    "for l in links:\n",
    "    final_l.append(l[\"href\"])\n",
    "print(final_l)"
   ]
  },
  {
   "cell_type": "markdown",
   "metadata": {},
   "source": [
    "#### Number of Titles that have changed in the United States Code since its last release point "
   ]
  },
  {
   "cell_type": "code",
   "execution_count": 19,
   "metadata": {},
   "outputs": [],
   "source": [
    "# This is the url you will scrape in this exercise\n",
    "url_usa_code = 'http://uscode.house.gov/download/download.shtml'"
   ]
  },
  {
   "cell_type": "code",
   "execution_count": 20,
   "metadata": {},
   "outputs": [],
   "source": [
    "#your code\n",
    "html=requests.get(url_usa_code).text\n",
    "soup=BeautifulSoup(html)"
   ]
  },
  {
   "cell_type": "code",
   "execution_count": 21,
   "metadata": {},
   "outputs": [],
   "source": [
    "titles_changed=soup.find_all(\"div\",{\"class\":\"usctitlechanged\"})"
   ]
  },
  {
   "cell_type": "code",
   "execution_count": 22,
   "metadata": {},
   "outputs": [],
   "source": [
    "titles_changed2=[a.getText().strip() for a in titles_changed]"
   ]
  },
  {
   "cell_type": "code",
   "execution_count": 23,
   "metadata": {},
   "outputs": [
    {
     "data": {
      "text/plain": [
       "['Title 10 - Armed Forces ٭']"
      ]
     },
     "execution_count": 23,
     "metadata": {},
     "output_type": "execute_result"
    }
   ],
   "source": [
    "titles_changed2"
   ]
  },
  {
   "cell_type": "markdown",
   "metadata": {},
   "source": [
    "####  20 latest earthquakes info (date, time, latitude, longitude and region name) by the EMSC as a pandas dataframe"
   ]
  },
  {
   "cell_type": "code",
   "execution_count": 4,
   "metadata": {},
   "outputs": [],
   "source": [
    "url=\"https://www.emsc-csem.org/Earthquake/\"\n",
    "response_py = requests.get(url)\n",
    "soup_py = BeautifulSoup(response_py.content,\"html.parser\")"
   ]
  },
  {
   "cell_type": "code",
   "execution_count": 5,
   "metadata": {},
   "outputs": [],
   "source": [
    "rows = soup_py.find(\"tbody\").find_all(\"tr\", id=True)"
   ]
  },
  {
   "cell_type": "code",
   "execution_count": 26,
   "metadata": {},
   "outputs": [
    {
     "data": {
      "text/plain": [
       "['earthquake2021-05-27\\xa0\\xa0\\xa016:36:00.006min ago1.56\\xa0S\\xa0\\xa0120.16\\xa0E\\xa0\\xa010 M3.1\\xa0SULAWESI, INDONESIA2021-05-27 16:40',\n",
       " 'earthquake2021-05-27\\xa0\\xa0\\xa016:06:32.036min ago40.03\\xa0N\\xa0\\xa040.10\\xa0E\\xa0\\xa010ML2.5\\xa0EASTERN TURKEY2021-05-27 16:40',\n",
       " 'earthquake2021-05-27\\xa0\\xa0\\xa015:50:11.052min ago38.14\\xa0N\\xa0\\xa0118.00\\xa0W\\xa0\\xa04ml2.2\\xa0NEVADA2021-05-27 16:22',\n",
       " 'earthquake2021-05-27\\xa0\\xa0\\xa015:40:37.31hr 02min ago37.58\\xa0N\\xa0\\xa0118.94\\xa0W\\xa0\\xa06ml2.5\\xa0CENTRAL CALIFORNIA2021-05-27 16:00',\n",
       " 'earthquake2021-05-27\\xa0\\xa0\\xa015:26:52.01hr 16min ago17.98\\xa0N\\xa0\\xa066.83\\xa0W\\xa0\\xa017Md2.3\\xa0PUERTO RICO2021-05-27 15:58',\n",
       " 'earthquake2021-05-27\\xa0\\xa0\\xa015:18:25.81hr 24min ago35.63\\xa0N\\xa0\\xa0117.40\\xa0W\\xa0\\xa00Ml2.9\\xa0SOUTHERN CALIFORNIA2021-05-27 15:22',\n",
       " 'earthquake2021-05-27\\xa0\\xa0\\xa015:11:04.01hr 31min ago33.62\\xa0S\\xa0\\xa068.86\\xa0W\\xa0\\xa0172 M3.9\\xa0MENDOZA, ARGENTINA2021-05-27 15:20',\n",
       " 'earthquake2021-05-27\\xa0\\xa0\\xa014:59:45.41hr 43min ago35.38\\xa0N\\xa0\\xa032.40\\xa0E\\xa0\\xa015ML2.7\\xa0CYPRUS REGION2021-05-27 16:19',\n",
       " 'earthquake2021-05-27\\xa0\\xa0\\xa014:39:35.92hr 03min ago35.24\\xa0N\\xa0\\xa026.41\\xa0E\\xa0\\xa010ML2.9\\xa0CRETE, GREECE2021-05-27 15:14',\n",
       " 'earthquake2021-05-27\\xa0\\xa0\\xa013:40:54.03hr 02min ago24.07\\xa0S\\xa0\\xa067.37\\xa0W\\xa0\\xa0212ML4.0\\xa0SALTA, ARGENTINA2021-05-27 14:17',\n",
       " 'earthquake2021-05-27\\xa0\\xa0\\xa013:35:06.33hr 07min ago36.68\\xa0N\\xa0\\xa07.48\\xa0W\\xa0\\xa029ML1.9\\xa0STRAIT OF GIBRALTAR2021-05-27 13:52',\n",
       " '2IVearthquake2021-05-27\\xa0\\xa0\\xa013:30:52.43hr 12min ago27.04\\xa0S\\xa0\\xa070.73\\xa0W\\xa0\\xa069ML4.3\\xa0ATACAMA, CHILE2021-05-27 15:11',\n",
       " 'earthquake2021-05-27\\xa0\\xa0\\xa013:03:35.43hr 39min ago36.43\\xa0N\\xa0\\xa027.09\\xa0E\\xa0\\xa010ML2.3\\xa0DODECANESE IS.-TURKEY BORDER REG2021-05-27 15:06',\n",
       " 'earthquake2021-05-27\\xa0\\xa0\\xa012:40:43.44hr 02min ago47.31\\xa0N\\xa0\\xa0122.39\\xa0W\\xa0\\xa016Md2.2\\xa0SEATTLE-TACOMA AREA, WASHINGTON2021-05-27 12:43',\n",
       " 'earthquake2021-05-27\\xa0\\xa0\\xa012:21:49.14hr 21min ago19.23\\xa0N\\xa0\\xa0155.41\\xa0W\\xa0\\xa033Ml2.1\\xa0ISLAND OF HAWAII, HAWAII2021-05-27 12:27',\n",
       " 'earthquake2021-05-27\\xa0\\xa0\\xa012:20:40.84hr 22min ago19.23\\xa0N\\xa0\\xa0155.42\\xa0W\\xa0\\xa032Ml2.1\\xa0ISLAND OF HAWAII, HAWAII2021-05-27 12:26',\n",
       " 'earthquake2021-05-27\\xa0\\xa0\\xa012:14:01.94hr 28min ago17.93\\xa0N\\xa0\\xa066.85\\xa0W\\xa0\\xa013Md2.9\\xa0PUERTO RICO REGION2021-05-27 12:31',\n",
       " '1Fearthquake2021-05-27\\xa0\\xa0\\xa011:56:19.44hr 46min ago37.02\\xa0N\\xa0\\xa027.95\\xa0E\\xa0\\xa09ML3.0\\xa0WESTERN TURKEY2021-05-27 12:23',\n",
       " 'earthquake2021-05-27\\xa0\\xa0\\xa011:35:55.05hr 07min ago24.26\\xa0S\\xa0\\xa066.97\\xa0W\\xa0\\xa0208 M3.1\\xa0SALTA, ARGENTINA2021-05-27 11:41']"
      ]
     },
     "execution_count": 26,
     "metadata": {},
     "output_type": "execute_result"
    }
   ],
   "source": [
    "last_20_earthquakes_list=[a.getText().strip() for a in earthquakes_soup[0:19]]\n",
    "last_20_earthquakes_list"
   ]
  },
  {
   "cell_type": "code",
   "execution_count": 6,
   "metadata": {},
   "outputs": [
    {
     "name": "stdout",
     "output_type": "stream",
     "text": [
      "11 ['2021-05-27', '17:16:57.7', '04min ago', '34.16', 'N', '116.45', 'W', '6', 'Ml', '2.2', 'SOUTHERN CALIFORNIA']\n",
      "++++++++++++++++++++++++++++++++++++++++++++++++++\n",
      "\n",
      "11 ['2021-05-27', '16:59:21.0', '21min ago', '24.08', 'S', '67.11', 'W', '193', ' M', '3.5', 'SALTA, ARGENTINA']\n",
      "++++++++++++++++++++++++++++++++++++++++++++++++++\n",
      "\n",
      "11 ['2021-05-27', '16:55:11.2', '25min ago', '48.28', 'N', '122.65', 'W', '20', 'Ml', '2.4', 'PUGET SOUND REGION, WASHINGTON']\n",
      "++++++++++++++++++++++++++++++++++++++++++++++++++\n",
      "\n",
      "11 ['2021-05-27', '16:47:28.0', '33min ago', '30.70', 'S', '71.40', 'W', '51', 'ML', '3.9', 'COQUIMBO, CHILE']\n",
      "++++++++++++++++++++++++++++++++++++++++++++++++++\n",
      "\n",
      "11 ['2021-05-27', '16:36:00.0', '45min ago', '1.56', 'S', '120.16', 'E', '10', ' M', '3.1', 'SULAWESI, INDONESIA']\n",
      "++++++++++++++++++++++++++++++++++++++++++++++++++\n",
      "\n",
      "11 ['2021-05-27', '16:18:12.6', '1hr 02min ago', '24.75', 'N', '122.61', 'E', '30', 'mb', '4.7', 'TAIWAN REGION']\n",
      "++++++++++++++++++++++++++++++++++++++++++++++++++\n",
      "\n",
      "11 ['2021-05-27', '16:09:31.9', '1hr 11min ago', '38.37', 'S', '175.92', 'E', '144', 'ML', '3.1', 'NORTH ISLAND OF NEW ZEALAND']\n",
      "++++++++++++++++++++++++++++++++++++++++++++++++++\n",
      "\n",
      "11 ['2021-05-27', '16:06:32.0', '1hr 14min ago', '40.03', 'N', '40.10', 'E', '10', 'ML', '2.5', 'EASTERN TURKEY']\n",
      "++++++++++++++++++++++++++++++++++++++++++++++++++\n",
      "\n",
      "11 ['2021-05-27', '16:01:22.0', '1hr 19min ago', '7.93', 'N', '82.12', 'W', '10', ' M', '4.3', 'SOUTH OF PANAMA']\n",
      "++++++++++++++++++++++++++++++++++++++++++++++++++\n",
      "\n",
      "11 ['2021-05-27', '15:50:11.0', '1hr 30min ago', '38.14', 'N', '118.00', 'W', '4', 'ml', '2.2', 'NEVADA']\n",
      "++++++++++++++++++++++++++++++++++++++++++++++++++\n",
      "\n",
      "11 ['2021-05-27', '15:49:07.6', '1hr 31min ago', '36.26', 'N', '22.03', 'E', '5', 'ML', '3.0', 'SOUTHERN GREECE']\n",
      "++++++++++++++++++++++++++++++++++++++++++++++++++\n",
      "\n",
      "11 ['2021-05-27', '15:40:37.3', '1hr 40min ago', '37.58', 'N', '118.94', 'W', '6', 'ml', '2.5', 'CENTRAL CALIFORNIA']\n",
      "++++++++++++++++++++++++++++++++++++++++++++++++++\n",
      "\n",
      "11 ['2021-05-27', '15:37:43.0', '1hr 43min ago', '31.97', 'S', '71.50', 'W', '42', 'ML', '2.9', 'COQUIMBO, CHILE']\n",
      "++++++++++++++++++++++++++++++++++++++++++++++++++\n",
      "\n",
      "11 ['2021-05-27', '15:26:52.0', '1hr 54min ago', '17.98', 'N', '66.83', 'W', '17', 'Md', '2.3', 'PUERTO RICO']\n",
      "++++++++++++++++++++++++++++++++++++++++++++++++++\n",
      "\n",
      "11 ['2021-05-27', '15:18:30.0', '2hr 02min ago', '36.50', 'N', '141.10', 'E', '50', ' M', '3.7', 'NEAR EAST COAST OF HONSHU, JAPAN']\n",
      "++++++++++++++++++++++++++++++++++++++++++++++++++\n",
      "\n",
      "11 ['2021-05-27', '15:18:26.4', '2hr 02min ago', '35.63', 'N', '117.41', 'W', '6', 'Ml', '3.0', 'SOUTHERN CALIFORNIA']\n",
      "++++++++++++++++++++++++++++++++++++++++++++++++++\n",
      "\n",
      "11 ['2021-05-27', '15:14:07.0', '2hr 06min ago', '1.11', 'N', '96.86', 'E', '15', ' M', '4.0', 'NIAS REGION, INDONESIA']\n",
      "++++++++++++++++++++++++++++++++++++++++++++++++++\n",
      "\n",
      "11 ['2021-05-27', '15:11:04.0', '2hr 10min ago', '33.62', 'S', '68.86', 'W', '172', ' M', '3.9', 'MENDOZA, ARGENTINA']\n",
      "++++++++++++++++++++++++++++++++++++++++++++++++++\n",
      "\n",
      "11 ['2021-05-27', '14:59:57.0', '2hr 21min ago', '1.99', 'S', '79.74', 'W', '181', ' M', '4.0', 'ECUADOR']\n",
      "++++++++++++++++++++++++++++++++++++++++++++++++++\n",
      "\n",
      "11 ['2021-05-27', '14:59:45.4', '2hr 21min ago', '35.38', 'N', '32.40', 'E', '15', 'ML', '2.7', 'CYPRUS REGION']\n",
      "++++++++++++++++++++++++++++++++++++++++++++++++++\n",
      "\n",
      "11 ['2021-05-27', '14:58:54.2', '2hr 22min ago', '34.68', 'N', '3.75', 'W', '1', 'ML', '2.4', 'MOROCCO']\n",
      "++++++++++++++++++++++++++++++++++++++++++++++++++\n",
      "\n",
      "11 ['2021-05-27', '14:39:35.9', '2hr 41min ago', '35.24', 'N', '26.41', 'E', '10', 'ML', '2.9', 'CRETE, GREECE']\n",
      "++++++++++++++++++++++++++++++++++++++++++++++++++\n",
      "\n",
      "11 ['2021-05-27', '14:19:00.1', '3hr 02min ago', '35.31', 'N', '119.21', 'W', '24', 'Ml', '3.1', 'CENTRAL CALIFORNIA']\n",
      "++++++++++++++++++++++++++++++++++++++++++++++++++\n",
      "\n",
      "11 ['2021-05-27', '13:40:54.0', '3hr 40min ago', '24.07', 'S', '67.37', 'W', '212', 'ML', '4.0', 'SALTA, ARGENTINA']\n",
      "++++++++++++++++++++++++++++++++++++++++++++++++++\n",
      "\n",
      "11 ['2021-05-27', '13:36:06.0', '3hr 44min ago', '42.13', 'N', '7.50', 'W', '1', 'ML', '2.0', 'SPAIN']\n",
      "++++++++++++++++++++++++++++++++++++++++++++++++++\n",
      "\n",
      "11 ['2021-05-27', '13:35:06.3', '3hr 45min ago', '36.68', 'N', '7.48', 'W', '29', 'ML', '1.9', 'STRAIT OF GIBRALTAR']\n",
      "++++++++++++++++++++++++++++++++++++++++++++++++++\n",
      "\n",
      "11 ['2021-05-27', '13:34:15.8', '3hr 46min ago', '19.24', 'N', '155.41', 'W', '33', 'Ml', '2.0', 'ISLAND OF HAWAII, HAWAII']\n",
      "++++++++++++++++++++++++++++++++++++++++++++++++++\n",
      "\n",
      "11 ['2021-05-27', '13:30:52.4', '3hr 50min ago', '27.04', 'S', '70.73', 'W', '69', 'ML', '4.3', 'ATACAMA, CHILE']\n",
      "++++++++++++++++++++++++++++++++++++++++++++++++++\n",
      "\n",
      "11 ['2021-05-27', '13:06:07.8', '4hr 14min ago', '34.46', 'N', '99.19', 'E', '10', 'mb', '5.2', 'SOUTHERN QINGHAI, CHINA']\n",
      "++++++++++++++++++++++++++++++++++++++++++++++++++\n",
      "\n",
      "11 ['2021-05-27', '13:03:35.4', '4hr 17min ago', '36.43', 'N', '27.09', 'E', '10', 'ML', '2.3', 'DODECANESE IS.-TURKEY BORDER REG']\n",
      "++++++++++++++++++++++++++++++++++++++++++++++++++\n",
      "\n",
      "11 ['2021-05-27', '12:41:52.0', '4hr 39min ago', '24.06', 'S', '67.17', 'W', '226', 'ML', '2.8', 'SALTA, ARGENTINA']\n",
      "++++++++++++++++++++++++++++++++++++++++++++++++++\n",
      "\n",
      "11 ['2021-05-27', '12:40:43.4', '4hr 40min ago', '47.31', 'N', '122.39', 'W', '16', 'Md', '2.2', 'SEATTLE-TACOMA AREA, WASHINGTON']\n",
      "++++++++++++++++++++++++++++++++++++++++++++++++++\n",
      "\n",
      "11 ['2021-05-27', '12:28:56.0', '4hr 52min ago', '7.28', 'S', '107.36', 'E', '128', ' M', '2.5', 'JAVA, INDONESIA']\n",
      "++++++++++++++++++++++++++++++++++++++++++++++++++\n",
      "\n",
      "11 ['2021-05-27', '12:21:49.1', '4hr 59min ago', '19.23', 'N', '155.41', 'W', '33', 'Ml', '2.1', 'ISLAND OF HAWAII, HAWAII']\n",
      "++++++++++++++++++++++++++++++++++++++++++++++++++\n",
      "\n",
      "11 ['2021-05-27', '12:21:42.0', '4hr 59min ago', '51.60', 'N', '100.19', 'E', '10', 'mb', '4.1', 'RUSSIA-MONGOLIA BORDER REGION']\n",
      "++++++++++++++++++++++++++++++++++++++++++++++++++\n",
      "\n",
      "11 ['2021-05-27', '12:20:40.8', '5hr 00min ago', '19.23', 'N', '155.42', 'W', '32', 'Ml', '2.1', 'ISLAND OF HAWAII, HAWAII']\n",
      "++++++++++++++++++++++++++++++++++++++++++++++++++\n",
      "\n",
      "11 ['2021-05-27', '12:18:38.0', '5hr 02min ago', '19.25', 'N', '155.41', 'W', '32', 'Ml', '2.5', 'ISLAND OF HAWAII, HAWAII']\n",
      "++++++++++++++++++++++++++++++++++++++++++++++++++\n",
      "\n",
      "11 ['2021-05-27', '12:14:01.9', '5hr 07min ago', '17.93', 'N', '66.85', 'W', '13', 'Md', '2.9', 'PUERTO RICO REGION']\n",
      "++++++++++++++++++++++++++++++++++++++++++++++++++\n",
      "\n",
      "11 ['2021-05-27', '12:10:13.0', '5hr 10min ago', '5.41', 'S', '103.96', 'E', '50', ' M', '2.7', 'SOUTHERN SUMATRA, INDONESIA']\n",
      "++++++++++++++++++++++++++++++++++++++++++++++++++\n",
      "\n",
      "11 ['2021-05-27', '11:56:19.4', '5hr 24min ago', '37.02', 'N', '27.95', 'E', '9', 'ML', '3.0', 'WESTERN TURKEY']\n",
      "++++++++++++++++++++++++++++++++++++++++++++++++++\n",
      "\n",
      "11 ['2021-05-27', '11:55:16.0', '5hr 25min ago', '32.15', 'S', '70.59', 'W', '116', 'ML', '3.6', 'COQUIMBO, CHILE']\n",
      "++++++++++++++++++++++++++++++++++++++++++++++++++\n",
      "\n",
      "11 ['2021-05-27', '11:35:55.0', '5hr 45min ago', '24.26', 'S', '66.97', 'W', '208', ' M', '3.1', 'SALTA, ARGENTINA']\n",
      "++++++++++++++++++++++++++++++++++++++++++++++++++\n",
      "\n",
      "11 ['2021-05-27', '11:35:31.3', '5hr 45min ago', '19.18', 'N', '155.44', 'W', '31', 'Ml', '2.2', 'ISLAND OF HAWAII, HAWAII']\n",
      "++++++++++++++++++++++++++++++++++++++++++++++++++\n",
      "\n",
      "11 ['2021-05-27', '11:28:29.1', '5hr 52min ago', '34.62', 'N', '3.97', 'W', '10', 'ML', '2.8', 'MOROCCO']\n",
      "++++++++++++++++++++++++++++++++++++++++++++++++++\n",
      "\n",
      "11 ['2021-05-27', '11:17:58.5', '6hr 03min ago', '45.90', 'N', '7.01', 'E', '7', 'ML', '1.2', 'NORTHERN ITALY']\n",
      "++++++++++++++++++++++++++++++++++++++++++++++++++\n",
      "\n",
      "11 ['2021-05-27', '11:16:03.5', '6hr 05min ago', '39.83', 'N', '29.72', 'E', '14', 'ML', '2.0', 'WESTERN TURKEY']\n",
      "++++++++++++++++++++++++++++++++++++++++++++++++++\n",
      "\n",
      "11 ['2021-05-27', '10:35:44.5', '6hr 45min ago', '19.22', 'N', '155.44', 'W', '32', 'Ml', '2.2', 'ISLAND OF HAWAII, HAWAII']\n",
      "++++++++++++++++++++++++++++++++++++++++++++++++++\n",
      "\n",
      "11 ['2021-05-27', '10:05:17.8', '7hr 15min ago', '19.24', 'N', '155.41', 'W', '32', 'Ml', '2.4', 'ISLAND OF HAWAII, HAWAII']\n",
      "++++++++++++++++++++++++++++++++++++++++++++++++++\n",
      "\n",
      "11 ['2021-05-27', '09:52:30.0', '7hr 28min ago', '16.32', 'N', '98.02', 'W', '5', ' M', '3.5', 'OAXACA, MEXICO']\n",
      "++++++++++++++++++++++++++++++++++++++++++++++++++\n",
      "\n",
      "11 ['2021-05-27', '09:48:58.1', '7hr 32min ago', '40.46', 'N', '21.00', 'E', '12', 'ML', '2.1', 'GREECE']\n",
      "++++++++++++++++++++++++++++++++++++++++++++++++++\n",
      "\n"
     ]
    }
   ],
   "source": [
    "final_rows = []\n",
    "\n",
    "for r in rows:\n",
    "    cells = r.find_all(\"td\")\n",
    "    clean_cells = []\n",
    "    \n",
    "    for c in cells:\n",
    "    \n",
    "        if c.find(\"i\"):\n",
    "            day = c.find(\"a\").text.split()[0]\n",
    "            hour = c.find(\"a\").text.split()[1]\n",
    "            time_ago = c.find_all(\"i\")[1].text\n",
    "            \n",
    "            clean_cells.append(day)\n",
    "            clean_cells.append(hour)\n",
    "            clean_cells.append(time_ago)\n",
    "        else:            \n",
    "            c_c = c.text.strip(\"\\xa0\")\n",
    "            clean_cells.append(c_c)\n",
    "\n",
    "    clean_cells=clean_cells[3:-1]\n",
    "    final_rows.append(clean_cells)\n",
    "    print(len(clean_cells),clean_cells)\n",
    "    print(\"+\"*50)\n",
    "    print(\"\")"
   ]
  },
  {
   "cell_type": "code",
   "execution_count": 7,
   "metadata": {},
   "outputs": [
    {
     "data": {
      "text/html": [
       "<div>\n",
       "<style scoped>\n",
       "    .dataframe tbody tr th:only-of-type {\n",
       "        vertical-align: middle;\n",
       "    }\n",
       "\n",
       "    .dataframe tbody tr th {\n",
       "        vertical-align: top;\n",
       "    }\n",
       "\n",
       "    .dataframe thead th {\n",
       "        text-align: right;\n",
       "    }\n",
       "</style>\n",
       "<table border=\"1\" class=\"dataframe\">\n",
       "  <thead>\n",
       "    <tr style=\"text-align: right;\">\n",
       "      <th></th>\n",
       "      <th>DAY</th>\n",
       "      <th>HOUR</th>\n",
       "      <th>TIME AGO</th>\n",
       "      <th>LATITUDE</th>\n",
       "      <th>N/S</th>\n",
       "      <th>LONGITUDE</th>\n",
       "      <th>E/W</th>\n",
       "      <th>DEPTH</th>\n",
       "      <th>MAG TYPE</th>\n",
       "      <th>MAG</th>\n",
       "      <th>REGION</th>\n",
       "    </tr>\n",
       "  </thead>\n",
       "  <tbody>\n",
       "    <tr>\n",
       "      <th>0</th>\n",
       "      <td>2021-05-27</td>\n",
       "      <td>17:16:57.7</td>\n",
       "      <td>04min ago</td>\n",
       "      <td>34.16</td>\n",
       "      <td>N</td>\n",
       "      <td>116.45</td>\n",
       "      <td>W</td>\n",
       "      <td>6</td>\n",
       "      <td>Ml</td>\n",
       "      <td>2.2</td>\n",
       "      <td>SOUTHERN CALIFORNIA</td>\n",
       "    </tr>\n",
       "    <tr>\n",
       "      <th>1</th>\n",
       "      <td>2021-05-27</td>\n",
       "      <td>16:59:21.0</td>\n",
       "      <td>21min ago</td>\n",
       "      <td>24.08</td>\n",
       "      <td>S</td>\n",
       "      <td>67.11</td>\n",
       "      <td>W</td>\n",
       "      <td>193</td>\n",
       "      <td>M</td>\n",
       "      <td>3.5</td>\n",
       "      <td>SALTA, ARGENTINA</td>\n",
       "    </tr>\n",
       "    <tr>\n",
       "      <th>2</th>\n",
       "      <td>2021-05-27</td>\n",
       "      <td>16:55:11.2</td>\n",
       "      <td>25min ago</td>\n",
       "      <td>48.28</td>\n",
       "      <td>N</td>\n",
       "      <td>122.65</td>\n",
       "      <td>W</td>\n",
       "      <td>20</td>\n",
       "      <td>Ml</td>\n",
       "      <td>2.4</td>\n",
       "      <td>PUGET SOUND REGION, WASHINGTON</td>\n",
       "    </tr>\n",
       "    <tr>\n",
       "      <th>3</th>\n",
       "      <td>2021-05-27</td>\n",
       "      <td>16:47:28.0</td>\n",
       "      <td>33min ago</td>\n",
       "      <td>30.70</td>\n",
       "      <td>S</td>\n",
       "      <td>71.40</td>\n",
       "      <td>W</td>\n",
       "      <td>51</td>\n",
       "      <td>ML</td>\n",
       "      <td>3.9</td>\n",
       "      <td>COQUIMBO, CHILE</td>\n",
       "    </tr>\n",
       "    <tr>\n",
       "      <th>4</th>\n",
       "      <td>2021-05-27</td>\n",
       "      <td>16:36:00.0</td>\n",
       "      <td>45min ago</td>\n",
       "      <td>1.56</td>\n",
       "      <td>S</td>\n",
       "      <td>120.16</td>\n",
       "      <td>E</td>\n",
       "      <td>10</td>\n",
       "      <td>M</td>\n",
       "      <td>3.1</td>\n",
       "      <td>SULAWESI, INDONESIA</td>\n",
       "    </tr>\n",
       "    <tr>\n",
       "      <th>5</th>\n",
       "      <td>2021-05-27</td>\n",
       "      <td>16:18:12.6</td>\n",
       "      <td>1hr 02min ago</td>\n",
       "      <td>24.75</td>\n",
       "      <td>N</td>\n",
       "      <td>122.61</td>\n",
       "      <td>E</td>\n",
       "      <td>30</td>\n",
       "      <td>mb</td>\n",
       "      <td>4.7</td>\n",
       "      <td>TAIWAN REGION</td>\n",
       "    </tr>\n",
       "    <tr>\n",
       "      <th>6</th>\n",
       "      <td>2021-05-27</td>\n",
       "      <td>16:09:31.9</td>\n",
       "      <td>1hr 11min ago</td>\n",
       "      <td>38.37</td>\n",
       "      <td>S</td>\n",
       "      <td>175.92</td>\n",
       "      <td>E</td>\n",
       "      <td>144</td>\n",
       "      <td>ML</td>\n",
       "      <td>3.1</td>\n",
       "      <td>NORTH ISLAND OF NEW ZEALAND</td>\n",
       "    </tr>\n",
       "    <tr>\n",
       "      <th>7</th>\n",
       "      <td>2021-05-27</td>\n",
       "      <td>16:06:32.0</td>\n",
       "      <td>1hr 14min ago</td>\n",
       "      <td>40.03</td>\n",
       "      <td>N</td>\n",
       "      <td>40.10</td>\n",
       "      <td>E</td>\n",
       "      <td>10</td>\n",
       "      <td>ML</td>\n",
       "      <td>2.5</td>\n",
       "      <td>EASTERN TURKEY</td>\n",
       "    </tr>\n",
       "    <tr>\n",
       "      <th>8</th>\n",
       "      <td>2021-05-27</td>\n",
       "      <td>16:01:22.0</td>\n",
       "      <td>1hr 19min ago</td>\n",
       "      <td>7.93</td>\n",
       "      <td>N</td>\n",
       "      <td>82.12</td>\n",
       "      <td>W</td>\n",
       "      <td>10</td>\n",
       "      <td>M</td>\n",
       "      <td>4.3</td>\n",
       "      <td>SOUTH OF PANAMA</td>\n",
       "    </tr>\n",
       "    <tr>\n",
       "      <th>9</th>\n",
       "      <td>2021-05-27</td>\n",
       "      <td>15:50:11.0</td>\n",
       "      <td>1hr 30min ago</td>\n",
       "      <td>38.14</td>\n",
       "      <td>N</td>\n",
       "      <td>118.00</td>\n",
       "      <td>W</td>\n",
       "      <td>4</td>\n",
       "      <td>ml</td>\n",
       "      <td>2.2</td>\n",
       "      <td>NEVADA</td>\n",
       "    </tr>\n",
       "    <tr>\n",
       "      <th>10</th>\n",
       "      <td>2021-05-27</td>\n",
       "      <td>15:49:07.6</td>\n",
       "      <td>1hr 31min ago</td>\n",
       "      <td>36.26</td>\n",
       "      <td>N</td>\n",
       "      <td>22.03</td>\n",
       "      <td>E</td>\n",
       "      <td>5</td>\n",
       "      <td>ML</td>\n",
       "      <td>3.0</td>\n",
       "      <td>SOUTHERN GREECE</td>\n",
       "    </tr>\n",
       "    <tr>\n",
       "      <th>11</th>\n",
       "      <td>2021-05-27</td>\n",
       "      <td>15:40:37.3</td>\n",
       "      <td>1hr 40min ago</td>\n",
       "      <td>37.58</td>\n",
       "      <td>N</td>\n",
       "      <td>118.94</td>\n",
       "      <td>W</td>\n",
       "      <td>6</td>\n",
       "      <td>ml</td>\n",
       "      <td>2.5</td>\n",
       "      <td>CENTRAL CALIFORNIA</td>\n",
       "    </tr>\n",
       "    <tr>\n",
       "      <th>12</th>\n",
       "      <td>2021-05-27</td>\n",
       "      <td>15:37:43.0</td>\n",
       "      <td>1hr 43min ago</td>\n",
       "      <td>31.97</td>\n",
       "      <td>S</td>\n",
       "      <td>71.50</td>\n",
       "      <td>W</td>\n",
       "      <td>42</td>\n",
       "      <td>ML</td>\n",
       "      <td>2.9</td>\n",
       "      <td>COQUIMBO, CHILE</td>\n",
       "    </tr>\n",
       "    <tr>\n",
       "      <th>13</th>\n",
       "      <td>2021-05-27</td>\n",
       "      <td>15:26:52.0</td>\n",
       "      <td>1hr 54min ago</td>\n",
       "      <td>17.98</td>\n",
       "      <td>N</td>\n",
       "      <td>66.83</td>\n",
       "      <td>W</td>\n",
       "      <td>17</td>\n",
       "      <td>Md</td>\n",
       "      <td>2.3</td>\n",
       "      <td>PUERTO RICO</td>\n",
       "    </tr>\n",
       "    <tr>\n",
       "      <th>14</th>\n",
       "      <td>2021-05-27</td>\n",
       "      <td>15:18:30.0</td>\n",
       "      <td>2hr 02min ago</td>\n",
       "      <td>36.50</td>\n",
       "      <td>N</td>\n",
       "      <td>141.10</td>\n",
       "      <td>E</td>\n",
       "      <td>50</td>\n",
       "      <td>M</td>\n",
       "      <td>3.7</td>\n",
       "      <td>NEAR EAST COAST OF HONSHU, JAPAN</td>\n",
       "    </tr>\n",
       "    <tr>\n",
       "      <th>15</th>\n",
       "      <td>2021-05-27</td>\n",
       "      <td>15:18:26.4</td>\n",
       "      <td>2hr 02min ago</td>\n",
       "      <td>35.63</td>\n",
       "      <td>N</td>\n",
       "      <td>117.41</td>\n",
       "      <td>W</td>\n",
       "      <td>6</td>\n",
       "      <td>Ml</td>\n",
       "      <td>3.0</td>\n",
       "      <td>SOUTHERN CALIFORNIA</td>\n",
       "    </tr>\n",
       "    <tr>\n",
       "      <th>16</th>\n",
       "      <td>2021-05-27</td>\n",
       "      <td>15:14:07.0</td>\n",
       "      <td>2hr 06min ago</td>\n",
       "      <td>1.11</td>\n",
       "      <td>N</td>\n",
       "      <td>96.86</td>\n",
       "      <td>E</td>\n",
       "      <td>15</td>\n",
       "      <td>M</td>\n",
       "      <td>4.0</td>\n",
       "      <td>NIAS REGION, INDONESIA</td>\n",
       "    </tr>\n",
       "    <tr>\n",
       "      <th>17</th>\n",
       "      <td>2021-05-27</td>\n",
       "      <td>15:11:04.0</td>\n",
       "      <td>2hr 10min ago</td>\n",
       "      <td>33.62</td>\n",
       "      <td>S</td>\n",
       "      <td>68.86</td>\n",
       "      <td>W</td>\n",
       "      <td>172</td>\n",
       "      <td>M</td>\n",
       "      <td>3.9</td>\n",
       "      <td>MENDOZA, ARGENTINA</td>\n",
       "    </tr>\n",
       "    <tr>\n",
       "      <th>18</th>\n",
       "      <td>2021-05-27</td>\n",
       "      <td>14:59:57.0</td>\n",
       "      <td>2hr 21min ago</td>\n",
       "      <td>1.99</td>\n",
       "      <td>S</td>\n",
       "      <td>79.74</td>\n",
       "      <td>W</td>\n",
       "      <td>181</td>\n",
       "      <td>M</td>\n",
       "      <td>4.0</td>\n",
       "      <td>ECUADOR</td>\n",
       "    </tr>\n",
       "  </tbody>\n",
       "</table>\n",
       "</div>"
      ],
      "text/plain": [
       "           DAY        HOUR       TIME AGO LATITUDE N/S LONGITUDE E/W DEPTH  \\\n",
       "0   2021-05-27  17:16:57.7      04min ago    34.16   N    116.45   W     6   \n",
       "1   2021-05-27  16:59:21.0      21min ago    24.08   S     67.11   W   193   \n",
       "2   2021-05-27  16:55:11.2      25min ago    48.28   N    122.65   W    20   \n",
       "3   2021-05-27  16:47:28.0      33min ago    30.70   S     71.40   W    51   \n",
       "4   2021-05-27  16:36:00.0      45min ago     1.56   S    120.16   E    10   \n",
       "5   2021-05-27  16:18:12.6  1hr 02min ago    24.75   N    122.61   E    30   \n",
       "6   2021-05-27  16:09:31.9  1hr 11min ago    38.37   S    175.92   E   144   \n",
       "7   2021-05-27  16:06:32.0  1hr 14min ago    40.03   N     40.10   E    10   \n",
       "8   2021-05-27  16:01:22.0  1hr 19min ago     7.93   N     82.12   W    10   \n",
       "9   2021-05-27  15:50:11.0  1hr 30min ago    38.14   N    118.00   W     4   \n",
       "10  2021-05-27  15:49:07.6  1hr 31min ago    36.26   N     22.03   E     5   \n",
       "11  2021-05-27  15:40:37.3  1hr 40min ago    37.58   N    118.94   W     6   \n",
       "12  2021-05-27  15:37:43.0  1hr 43min ago    31.97   S     71.50   W    42   \n",
       "13  2021-05-27  15:26:52.0  1hr 54min ago    17.98   N     66.83   W    17   \n",
       "14  2021-05-27  15:18:30.0  2hr 02min ago    36.50   N    141.10   E    50   \n",
       "15  2021-05-27  15:18:26.4  2hr 02min ago    35.63   N    117.41   W     6   \n",
       "16  2021-05-27  15:14:07.0  2hr 06min ago     1.11   N     96.86   E    15   \n",
       "17  2021-05-27  15:11:04.0  2hr 10min ago    33.62   S     68.86   W   172   \n",
       "18  2021-05-27  14:59:57.0  2hr 21min ago     1.99   S     79.74   W   181   \n",
       "\n",
       "   MAG TYPE  MAG                            REGION  \n",
       "0        Ml  2.2               SOUTHERN CALIFORNIA  \n",
       "1         M  3.5                  SALTA, ARGENTINA  \n",
       "2        Ml  2.4    PUGET SOUND REGION, WASHINGTON  \n",
       "3        ML  3.9                   COQUIMBO, CHILE  \n",
       "4         M  3.1               SULAWESI, INDONESIA  \n",
       "5        mb  4.7                     TAIWAN REGION  \n",
       "6        ML  3.1       NORTH ISLAND OF NEW ZEALAND  \n",
       "7        ML  2.5                    EASTERN TURKEY  \n",
       "8         M  4.3                   SOUTH OF PANAMA  \n",
       "9        ml  2.2                            NEVADA  \n",
       "10       ML  3.0                   SOUTHERN GREECE  \n",
       "11       ml  2.5                CENTRAL CALIFORNIA  \n",
       "12       ML  2.9                   COQUIMBO, CHILE  \n",
       "13       Md  2.3                       PUERTO RICO  \n",
       "14        M  3.7  NEAR EAST COAST OF HONSHU, JAPAN  \n",
       "15       Ml  3.0               SOUTHERN CALIFORNIA  \n",
       "16        M  4.0            NIAS REGION, INDONESIA  \n",
       "17        M  3.9                MENDOZA, ARGENTINA  \n",
       "18        M  4.0                           ECUADOR  "
      ]
     },
     "execution_count": 7,
     "metadata": {},
     "output_type": "execute_result"
    }
   ],
   "source": [
    "earth_df = pd.DataFrame(final_rows[0:19],\n",
    "                   columns=['DAY', 'HOUR', 'TIME AGO',\"LATITUDE\",\"N/S\",\"LONGITUDE\",\"E/W\",\"DEPTH\",\"MAG TYPE\",\"MAG\",\"REGION\"])\n",
    "earth_df"
   ]
  },
  {
   "cell_type": "markdown",
   "metadata": {},
   "source": [
    "#### Display the date, days, title, city, country of next 25 hackathon events as a Pandas dataframe table"
   ]
  },
  {
   "cell_type": "code",
   "execution_count": 32,
   "metadata": {},
   "outputs": [],
   "source": [
    "# This is the url you will scrape in this exercise\n",
    "url ='https://hackevents.co/hackathons'\n",
    "url_hack = 'https://hackevents.co/search/anything/anywhere/anytime' "
   ]
  },
  {
   "cell_type": "code",
   "execution_count": 33,
   "metadata": {},
   "outputs": [],
   "source": [
    "#your code\n"
   ]
  },
  {
   "cell_type": "code",
   "execution_count": null,
   "metadata": {},
   "outputs": [],
   "source": []
  },
  {
   "cell_type": "markdown",
   "metadata": {},
   "source": [
    "#### List all language names and number of related articles in the order they appear in wikipedia.org"
   ]
  },
  {
   "cell_type": "code",
   "execution_count": 8,
   "metadata": {},
   "outputs": [
    {
     "data": {
      "text/plain": [
       "<!DOCTYPE html>\n",
       "\n",
       "<html class=\"no-js\" lang=\"en\">\n",
       "<head>\n",
       "<meta charset=\"utf-8\"/>\n",
       "<title>Wikipedia</title>\n",
       "<meta content=\"Wikipedia is a free online encyclopedia, created and edited by volunteers around the world and hosted by the Wikimedia Foundation.\" name=\"description\"/>\n",
       "<script>\n",
       "document.documentElement.className = document.documentElement.className.replace( /(^|\\s)no-js(\\s|$)/, \"$1js-enabled$2\" );\n",
       "</script>\n",
       "<meta content=\"initial-scale=1,user-scalable=yes\" name=\"viewport\"/>\n",
       "<link href=\"/static/apple-touch/wikipedia.png\" rel=\"apple-touch-icon\"/>\n",
       "<link href=\"/static/favicon/wikipedia.ico\" rel=\"shortcut icon\"/>\n",
       "<link href=\"//creativecommons.org/licenses/by-sa/3.0/\" rel=\"license\"/>\n",
       "<style>\n",
       ".sprite{background-image:linear-gradient(transparent,transparent),url(portal/wikipedia.org/assets/img/sprite-d7502d35.svg);background-repeat:no-repeat;display:inline-block;vertical-align:middle}.svg-Commons-logo_sister{background-position:0 0;width:47px;height:47px}.svg-MediaWiki-logo_sister{background-position:0 -47px;width:42px;height:42px}.svg-Meta-Wiki-logo_sister{background-position:0 -89px;width:37px;height:37px}.svg-Wikibooks-logo_sister{background-position:0 -126px;width:37px;height:37px}.svg-Wikidata-logo_sister{background-position:0 -163px;width:49px;height:49px}.svg-Wikimedia-logo_black{background-position:0 -212px;width:42px;height:42px}.svg-Wikipedia_wordmark{background-position:0 -254px;width:176px;height:32px}.svg-Wikiquote-logo_sister{background-position:0 -286px;width:42px;height:42px}.svg-Wikisource-logo_sister{background-position:0 -328px;width:39px;height:39px}.svg-Wikispecies-logo_sister{background-position:0 -367px;width:42px;height:42px}.svg-Wikiversity-logo_sister{background-position:0 -409px;width:43px;height:37px}.svg-Wikivoyage-logo_sister{background-position:0 -446px;width:36px;height:36px}.svg-Wiktionary-logo_sister{background-position:0 -482px;width:37px;height:37px}.svg-arrow-down{background-position:0 -519px;width:12px;height:8px}.svg-arrow-down-blue{background-position:0 -527px;width:14px;height:14px}.svg-badge_google_play_store{background-position:0 -541px;width:124px;height:38px}.svg-badge_ios_app_store{background-position:0 -579px;width:110px;height:38px}.svg-language-icon{background-position:0 -617px;width:22px;height:22px}.svg-noimage{background-position:0 -639px;width:58px;height:58px}.svg-search-icon{background-position:0 -697px;width:22px;height:22px}.svg-wikipedia_app_tile{background-position:0 -719px;width:42px;height:42px}\n",
       "</style>\n",
       "<style>\n",
       "html{font-family:sans-serif;-ms-text-size-adjust:100%;-webkit-text-size-adjust:100%;font-size:62.5%}body{margin:0}article,aside,details,figcaption,figure,footer,header,hgroup,main,menu,nav,section,summary{display:block}audio,canvas,progress,video{display:inline-block;vertical-align:baseline}audio:not([controls]){display:none;height:0}[hidden],template{display:none}a{background-color:transparent}a:active,a:hover{outline:0}abbr[title]{border-bottom:1px dotted}b,strong{font-weight:700}dfn{font-style:italic}h1{font-size:32px;font-size:3.2rem;margin:1.2rem 0}mark{background:#fc3;color:#000}small{font-size:13px;font-size:1.3rem}sub,sup{font-size:75%;line-height:0;position:relative;vertical-align:baseline}sup{top:-.5em}sub{bottom:-.25em}svg:not(:root){overflow:hidden}figure{margin:1.6rem 4rem}hr{-webkit-box-sizing:content-box;-moz-box-sizing:content-box;box-sizing:content-box}pre{overflow:auto}code,kbd,pre,samp{font-family:monospace,monospace;font-size:14px;font-size:1.4rem}button,input,optgroup,select,textarea{color:inherit;font:inherit;margin:0}button{overflow:visible}button,select{text-transform:none}button,html input[type=button],input[type=reset],input[type=submit]{-webkit-appearance:button;cursor:pointer}button[disabled],html input[disabled]{cursor:default}button::-moz-focus-inner,input::-moz-focus-inner{border:0;padding:0}input{line-height:normal}input[type=checkbox],input[type=radio]{-webkit-box-sizing:border-box;-moz-box-sizing:border-box;box-sizing:border-box;padding:0}input[type=number]::-webkit-inner-spin-button,input[type=number]::-webkit-outer-spin-button{height:auto}input[type=search]{-webkit-appearance:none;-webkit-box-sizing:content-box;-moz-box-sizing:content-box;box-sizing:content-box}input[type=search]::-webkit-search-cancel-button,input[type=search]::-webkit-search-decoration{-webkit-appearance:none}input[type=search]:focus{outline-offset:-2px}fieldset{border:1px solid #a2a9b1;margin:0 .2rem;padding:.6rem 1rem 1.2rem}legend{border:0;padding:0}textarea{overflow:auto}optgroup{font-weight:700}table{border-collapse:collapse;border-spacing:0}td,th{padding:0}.hidden,[hidden]{display:none!important}.screen-reader-text{display:block;position:absolute!important;clip:rect(1px,1px,1px,1px);width:1px;height:1px;margin:-1px;border:0;padding:0;overflow:hidden}body{background-color:#fff;font-family:-apple-system,BlinkMacSystemFont,Segoe UI,Roboto,Lato,Helvetica,Arial,sans-serif;font-size:14px;font-size:1.4rem;line-height:1.5;margin:.4rem 0 1.6rem}a{-ms-touch-action:manipulation;touch-action:manipulation}a,a:active,a:focus{unicode-bidi:embed;outline:0;color:#36c;text-decoration:none}a:focus{outline:1px solid #36c}a:hover{text-decoration:underline}img{vertical-align:middle}hr,img{border:0}hr{clear:both;height:0;border-bottom:1px solid #c8ccd1;margin:.26rem 1.3rem}.pure-button{display:inline-block;zoom:1;line-height:normal;white-space:nowrap;text-align:center;cursor:pointer;-webkit-user-drag:none;-webkit-user-select:none;-moz-user-select:none;-ms-user-select:none;user-select:none;-webkit-box-sizing:border-box;-moz-box-sizing:border-box;box-sizing:border-box;background-color:#f8f9fa;color:#202122;position:relative;min-height:19.2px;min-height:1.92rem;min-width:16px;min-width:1.6rem;margin:.16rem 0;border:1px solid #a2a9b1;-moz-border-radius:2px;border-radius:2px;padding:.8rem 1.6rem;font-family:inherit;font-size:inherit;font-weight:700;text-decoration:none;vertical-align:top;-webkit-transition:background .1s ease,color .1s ease,border-color .1s ease,-webkit-box-shadow .1s ease;transition:background .1s ease,color .1s ease,border-color .1s ease,-webkit-box-shadow .1s ease;-o-transition:background .1s ease,color .1s ease,border-color .1s ease,box-shadow .1s ease;-moz-transition:background .1s ease,color .1s ease,border-color .1s ease,box-shadow .1s ease,-moz-box-shadow .1s ease;transition:background .1s ease,color .1s ease,border-color .1s ease,box-shadow .1s ease;transition:background .1s ease,color .1s ease,border-color .1s ease,box-shadow .1s ease,-webkit-box-shadow .1s ease,-moz-box-shadow .1s ease}.pure-button::-moz-focus-inner{padding:0;border:0}.pure-button-hover,.pure-button:hover{background-color:#fff;border-color:#a2a9b1;color:#404244}.pure-button-active,.pure-button:active{background-color:#c8ccd1;border-color:#72777d;color:#000}.pure-button:focus{outline:0;border-color:#36c;-webkit-box-shadow:inset 0 0 0 1px #36c;-moz-box-shadow:inset 0 0 0 1px #36c;box-shadow:inset 0 0 0 1px #36c}.pure-button-primary-progressive{background-color:#36c;border-color:#36c;color:#fff}.pure-button-primary-progressive:hover{background:#447ff5;border-color:#447ff5}.pure-button-primary-progressive:active{background-color:#2a4b8d;border-color:#2a4b8d;-webkit-box-shadow:none;-moz-box-shadow:none;box-shadow:none;color:#fff}.pure-button-primary-progressive:focus{-webkit-box-shadow:inset 0 0 0 1px #36c,inset 0 0 0 2px #fff;-moz-box-shadow:inset 0 0 0 1px #36c,inset 0 0 0 2px #fff;box-shadow:inset 0 0 0 1px #36c,inset 0 0 0 2px #fff;border-color:#36c}.pure-form input[type=search]{background-color:#fff;display:inline-block;-webkit-box-sizing:border-box;-moz-box-sizing:border-box;box-sizing:border-box;border:1px solid #a2a9b1;-moz-border-radius:2px;border-radius:2px;padding:.8rem;-webkit-box-shadow:inset 0 0 0 1px #fff;-moz-box-shadow:inset 0 0 0 1px #fff;box-shadow:inset 0 0 0 1px #fff;vertical-align:middle}.pure-form input:focus:invalid{color:#b32424;border-color:#d33}.pure-form fieldset{margin:0;padding:.56rem 0 1.2rem;border:0}@media only screen and (max-width:480px){.pure-form input[type=search]{display:block}}.central-textlogo-wrapper{display:inline-block;vertical-align:bottom}.central-textlogo{position:relative;margin:4rem auto .5rem;width:270px;font-family:Linux Libertine,Hoefler Text,Georgia,Times New Roman,Times,serif;font-size:30px;font-size:3rem;font-weight:400;line-height:33px;line-height:3.3rem;text-align:center;-moz-font-feature-settings:\"ss05=1\";-moz-font-feature-settings:\"ss05\";-webkit-font-feature-settings:\"ss05\";-ms-font-feature-settings:\"ss05\";font-feature-settings:\"ss05\"}.localized-slogan{display:block;font-family:Linux Libertine,Georgia,Times,serif;font-size:15px;font-size:1.5rem;font-weight:400}.central-textlogo__image{color:transparent;display:inline-block;overflow:hidden;text-indent:-10000px}.central-featured-logo{position:absolute;top:158px;left:35px}@media (max-width:480px){.central-textlogo{position:relative;height:70px;width:auto;margin:2rem 0 0;text-align:center;line-height:25px;line-height:2.5rem;text-indent:-10px;text-indent:-1rem}.central-textlogo-wrapper{position:relative;top:12px;text-indent:2px;text-indent:.2rem}.svg-Wikipedia_wordmark{width:150px;height:25px;background-position:0 -218px;-webkit-background-size:100% 100%;-moz-background-size:100%;background-size:100%}.localized-slogan{font-size:14px;font-size:1.4rem}.central-featured-logo{position:relative;display:inline-block;width:57px;height:auto;left:0;top:0}}@media (max-width:240px){.central-textlogo__image{height:auto}}.central-featured{position:relative;height:325px;height:32.5rem;width:546px;width:54.6rem;max-width:100%;margin:0 auto;text-align:center;vertical-align:middle}.central-featured-lang{position:absolute;width:156px;width:15.6rem}.central-featured-lang .link-box{display:block;padding:0;text-decoration:none;white-space:normal}.central-featured-lang .link-box:hover strong{text-decoration:underline}.central-featured-lang :hover{background-color:#eaecf0}.central-featured-lang strong{display:block;font-size:16px;font-size:1.6rem}.central-featured-lang small{color:#54595d;display:inline-block;font-size:13px;font-size:1.3rem;line-height:1.6}.central-featured-lang em{font-style:italic}.central-featured-lang .emNonItalicLang{font-style:normal}.lang1{top:0;right:60%}.lang2{top:0;left:60%}.lang3{top:20%;right:70%}.lang4{top:20%;left:70%}.lang5{top:40%;right:72%}.lang6{top:40%;left:72%}.lang7{top:60%;right:70%}.lang8{top:60%;left:70%}.lang9{top:80%;right:60%}.lang10{top:80%;left:60%}@media (max-width:480px){.central-featured{width:auto;height:auto;margin-top:7rem;font-size:13px;font-size:1.3rem;text-align:left}.central-featured:after{content:\" \";display:block;visibility:hidden;clear:both;height:0;font-size:0}.central-featured-lang{display:block;float:left;position:relative;top:auto;left:auto;right:auto;-webkit-box-sizing:border-box;-moz-box-sizing:border-box;box-sizing:border-box;height:64px;height:6.4rem;width:33%;margin:0 0 16px;padding:0 1.6rem;font-size:14px;font-size:1.4rem;text-align:center}.central-featured-lang strong{font-size:14px;font-size:1.4rem;margin-bottom:4px}.central-featured-lang small{line-height:1.4}}@media (max-width:375px){.central-featured-lang{font-size:13px;font-size:1.3rem}}@media (max-width:240px){.central-featured-lang{width:100%}}.search-container{float:none;max-width:95%;width:540px;margin:.4rem auto 1.95rem;text-align:center;vertical-align:middle}.search-container fieldset{word-spacing:-4px}.search-container button{min-height:44px;min-height:4.4rem;margin:0;-moz-border-radius:0 2px 2px 0;border-radius:0 2px 2px 0;padding:.8rem 1.6rem;font-size:16px;font-size:1.6rem;z-index:2}.search-container button .svg-search-icon{text-indent:-9999px}.search-container input[type=search]::-webkit-search-results-button,.search-container input[type=search]::-webkit-search-results-decoration{-webkit-appearance:none}.search-container input::-webkit-calendar-picker-indicator{display:none}.search-container .sprite.svg-arrow-down{position:absolute;top:8px;top:.8rem;right:6px;right:.6rem}#searchInput{-webkit-appearance:none;width:100%;height:44px;height:4.4rem;border-width:1px 0 1px 1px;-moz-border-radius:2px 0 0 2px;border-radius:2px 0 0 2px;padding:.8rem 9.6rem .8rem 1.2rem;font-size:16px;font-size:1.6rem;line-height:1.6;-webkit-transition:background .1s ease,border-color .1s ease,-webkit-box-shadow .1s ease;transition:background .1s ease,border-color .1s ease,-webkit-box-shadow .1s ease;-o-transition:background .1s ease,border-color .1s ease,box-shadow .1s ease;-moz-transition:background .1s ease,border-color .1s ease,box-shadow .1s ease,-moz-box-shadow .1s ease;transition:background .1s ease,border-color .1s ease,box-shadow .1s ease;transition:background .1s ease,border-color .1s ease,box-shadow .1s ease,-webkit-box-shadow .1s ease,-moz-box-shadow .1s ease}#searchInput:hover{border-color:#72777d}#searchInput:focus{border-color:#36c;-webkit-box-shadow:inset 0 0 0 1px #36c;-moz-box-shadow:inset 0 0 0 1px #36c;box-shadow:inset 0 0 0 1px #36c;outline:0}.search-container .search-input{display:inline-block;position:relative;width:73%;vertical-align:top}@media only screen and (max-width:480px){.search-container .pure-form fieldset{margin-left:1rem;margin-right:6.6rem}.search-container .search-input{width:100%;margin-right:-6.6rem}.search-container .pure-form button{float:right;right:-56px;right:-5.6rem}}.suggestions-dropdown{background-color:#fff;display:inline-block;position:absolute;left:0;z-index:2;margin:0;padding:0;border:1px solid #a2a9b1;border-top:0;-webkit-box-shadow:0 2px 2px 0 rgba(0,0,0,.25);-moz-box-shadow:0 2px 2px 0 rgba(0,0,0,.25);box-shadow:0 2px 2px 0 rgba(0,0,0,.25);list-style-type:none;word-spacing:normal}.suggestion-link,.suggestions-dropdown{-webkit-box-sizing:border-box;-moz-box-sizing:border-box;box-sizing:border-box;width:100%;text-align:left}.suggestion-link{display:block;position:relative;min-height:70px;min-height:7rem;padding:1rem 1rem 1rem 8.5rem;border-bottom:1px solid #eaecf0;color:inherit;text-decoration:none;text-align:initial;white-space:normal}.suggestion-link.active{background-color:#eaf3ff}a.suggestion-link:hover{text-decoration:none}a.suggestion-link:active,a.suggestion-link:focus{outline:0;white-space:normal}.suggestion-thumbnail{background-color:#eaecf0;background-image:url(portal/wikipedia.org/assets/img/noimage.png);background-image:-webkit-linear-gradient(transparent,transparent),url(\"data:image/svg+xml;charset=utf-8,%3Csvg xmlns='http://www.w3.org/2000/svg' viewBox='0 0 56 56'%3E%3Cpath fill='%23eee' d='M0 0h56v56H0z'/%3E%3Cpath fill='%23999' d='M36.4 13.5H17.8v24.9c0 1.4.9 2.3 2.3 2.3h18.7v-25c.1-1.4-1-2.2-2.4-2.2zM30.2 17h5.1v6.4h-5.1V17zm-8.8 0h6v1.8h-6V17zm0 4.6h6v1.8h-6v-1.8zm0 15.5v-1.8h13.8v1.8H21.4zm13.8-4.5H21.4v-1.8h13.8v1.8zm0-4.7H21.4v-1.8h13.8v1.8z'/%3E%3C/svg%3E\");background-image:-webkit-linear-gradient(transparent,transparent),url(portal/wikipedia.org/assets/img/noimage.svg) !ie;background-image:-webkit-gradient(linear,left top,left bottom,from(transparent),to(transparent)),url(\"data:image/svg+xml;charset=utf-8,%3Csvg xmlns='http://www.w3.org/2000/svg' viewBox='0 0 56 56'%3E%3Cpath fill='%23eee' d='M0 0h56v56H0z'/%3E%3Cpath fill='%23999' d='M36.4 13.5H17.8v24.9c0 1.4.9 2.3 2.3 2.3h18.7v-25c.1-1.4-1-2.2-2.4-2.2zM30.2 17h5.1v6.4h-5.1V17zm-8.8 0h6v1.8h-6V17zm0 4.6h6v1.8h-6v-1.8zm0 15.5v-1.8h13.8v1.8H21.4zm13.8-4.5H21.4v-1.8h13.8v1.8zm0-4.7H21.4v-1.8h13.8v1.8z'/%3E%3C/svg%3E\");background-image:-moz- oldlinear-gradient(transparent,transparent),url(\"data:image/svg+xml;charset=utf-8,%3Csvg xmlns='http://www.w3.org/2000/svg' viewBox='0 0 56 56'%3E%3Cpath fill='%23eee' d='M0 0h56v56H0z'/%3E%3Cpath fill='%23999' d='M36.4 13.5H17.8v24.9c0 1.4.9 2.3 2.3 2.3h18.7v-25c.1-1.4-1-2.2-2.4-2.2zM30.2 17h5.1v6.4h-5.1V17zm-8.8 0h6v1.8h-6V17zm0 4.6h6v1.8h-6v-1.8zm0 15.5v-1.8h13.8v1.8H21.4zm13.8-4.5H21.4v-1.8h13.8v1.8zm0-4.7H21.4v-1.8h13.8v1.8z'/%3E%3C/svg%3E\");background-image:-o-linear-gradient(transparent,transparent),url(\"data:image/svg+xml;charset=utf-8,%3Csvg xmlns='http://www.w3.org/2000/svg' viewBox='0 0 56 56'%3E%3Cpath fill='%23eee' d='M0 0h56v56H0z'/%3E%3Cpath fill='%23999' d='M36.4 13.5H17.8v24.9c0 1.4.9 2.3 2.3 2.3h18.7v-25c.1-1.4-1-2.2-2.4-2.2zM30.2 17h5.1v6.4h-5.1V17zm-8.8 0h6v1.8h-6V17zm0 4.6h6v1.8h-6v-1.8zm0 15.5v-1.8h13.8v1.8H21.4zm13.8-4.5H21.4v-1.8h13.8v1.8zm0-4.7H21.4v-1.8h13.8v1.8z'/%3E%3C/svg%3E\");background-image:linear-gradient(transparent,transparent),url(\"data:image/svg+xml;charset=utf-8,%3Csvg xmlns='http://www.w3.org/2000/svg' viewBox='0 0 56 56'%3E%3Cpath fill='%23eee' d='M0 0h56v56H0z'/%3E%3Cpath fill='%23999' d='M36.4 13.5H17.8v24.9c0 1.4.9 2.3 2.3 2.3h18.7v-25c.1-1.4-1-2.2-2.4-2.2zM30.2 17h5.1v6.4h-5.1V17zm-8.8 0h6v1.8h-6V17zm0 4.6h6v1.8h-6v-1.8zm0 15.5v-1.8h13.8v1.8H21.4zm13.8-4.5H21.4v-1.8h13.8v1.8zm0-4.7H21.4v-1.8h13.8v1.8z'/%3E%3C/svg%3E\");background-image:-webkit-gradient(linear,left top,left bottom,from(transparent),to(transparent)),url(portal/wikipedia.org/assets/img/noimage.svg) !ie;background-image:-moz- oldlinear-gradient(transparent,transparent),url(portal/wikipedia.org/assets/img/noimage.svg) !ie;background-image:-o-linear-gradient(transparent,transparent),url(portal/wikipedia.org/assets/img/noimage.svg) !ie;background-image:linear-gradient(transparent,transparent),url(portal/wikipedia.org/assets/img/noimage.svg) !ie;background-image:-o-linear-gradient(transparent,transparent),url(portal/wikipedia.org/assets/img/noimage.png);background-position:50%;background-repeat:no-repeat;-webkit-background-size:100% auto;-moz-background-size:100% auto;background-size:100% auto;-webkit-background-size:cover;-moz-background-size:cover;background-size:cover;height:100%;width:70px;width:7rem;position:absolute;top:0;left:0}.suggestion-title{margin:0 0 .78rem;color:#54595d;font-size:16px;font-size:1.6rem;line-height:18.72px;line-height:1.872rem}.suggestion-link.active .suggestion-title{color:#36c}.suggestion-highlight{font-style:normal;text-decoration:underline}.suggestion-description{color:#72777d;margin:0;font-size:13px;font-size:1.3rem;line-height:14.299px;line-height:1.43rem}.styled-select{display:none;position:absolute;top:10px;top:1rem;bottom:12px;bottom:1.2rem;right:12px;right:1.2rem;max-width:95px;max-width:9.5rem;height:24px;height:2.4rem;-moz-border-radius:2px;border-radius:2px}.styled-select:hover{background-color:#f8f9fa}.styled-select .hide-arrow{right:32px;right:3.2rem;max-width:68px;max-width:6.8rem;height:24px;height:2.4rem;overflow:hidden;text-align:right}.styled-select select{background:transparent;display:inline;overflow:hidden;height:24px;height:2.4rem;min-width:110px;min-width:11rem;max-width:110px;max-width:11rem;width:110px;width:11rem;outline:0;-webkit-box-sizing:border-box;-moz-box-sizing:border-box;box-sizing:border-box;border:0;line-height:24px;line-height:2.4rem;-webkit-appearance:none;-moz-appearance:window;text-indent:.01px;-o-text-overflow:\"\";text-overflow:\"\";opacity:0;-moz-appearance:none;appearance:none;cursor:pointer}.styled-select.no-js{width:95px;width:9.5rem}.styled-select.no-js select{opacity:1;margin:0;padding:0 2.4rem 0 .8rem;color:#54595d}.styled-select.no-js .hide-arrow{width:68px;width:6.8rem}.search-container .styled-select.no-js .js-langpicker-label{display:none}.styled-select.js-enabled .hide-arrow{padding:0 2.4rem 0 .8rem}.styled-select.js-enabled select{background:transparent;position:absolute;top:0;left:0;height:100%;z-index:1;width:100%;border:0;margin:0;padding:0 2.4rem;color:transparent;color:hsla(0,0%,100%,0)}.styled-select.js-enabled select option{color:#54595d}.styled-select.js-enabled select:hover{background-color:transparent}.styled-select-active-helper{display:none}.styled-select.js-enabled select:focus+.styled-select-active-helper{display:block;position:absolute;top:0;left:0;z-index:0;width:100%;height:100%;outline:1px solid #36c}.search-container .js-langpicker-label{display:inline-block;margin:0;color:#54595d;font-size:13px;font-size:1.3rem;line-height:24px;line-height:2.4rem;text-transform:uppercase}.styled-select select:hover{background-color:#f8f9fa}.styled-select select::-ms-expand{display:none}.styled-select select:focus{outline:0;-webkit-box-shadow:none;-moz-box-shadow:none;box-shadow:none}@-moz-document url-prefix(){.styled-select select{width:110%}}.other-projects{display:inline-block;width:65%}.other-project{float:left;position:relative;width:33%;height:90px;height:9rem}.other-project-link{display:inline-block;min-height:50px;width:90%;padding:1em;white-space:nowrap}.other-project-link:hover{background-color:#eaecf0}a.other-project-link{text-decoration:none}.other-project-icon{display:inline-block;width:50px;text-align:center}.svg-Wikinews-logo_sister{background-image:url(portal/wikipedia.org/assets/img/Wikinews-logo_sister.png);background-position:0 0;-webkit-background-size:47px 26px;-moz-background-size:47px 26px;background-size:47px 26px;width:47px;height:26px}@media (-o-min-device-pixel-ratio:5/4),(-webkit-min-device-pixel-ratio:1.25),(min-resolution:120dpi){.svg-Wikinews-logo_sister{background-image:url(portal/wikipedia.org/assets/img/Wikinews-logo_sister@2x.png)}}.other-project-text,.other-project .sprite-project-logos{display:inline-block}.other-project-text{max-width:65%;font-size:14px;font-size:1.4rem;vertical-align:middle;white-space:normal}.other-project-tagline,.other-project-title{display:block}.other-project-tagline{color:#54595d;font-size:13px;font-size:1.3rem}@media screen and (max-width:768px){.other-projects{width:100%}.other-project{width:33%}}@media screen and (max-width:480px){.other-project{width:50%}.other-project-tagline{-webkit-hyphens:auto;-moz-hyphens:auto;-ms-hyphens:auto;hyphens:auto}}@media screen and (max-width:320px){.other-project-text{margin-right:5px;font-size:13px;font-size:1.3rem}}.lang-list-container{background-color:#f8f9fa;overflow:hidden;position:relative;-webkit-box-sizing:border-box;-moz-box-sizing:border-box;box-sizing:border-box;max-height:0;width:80%;margin:-1.6rem auto 4.8rem;-webkit-transition:max-height .5s ease-out .16s,visibility .5s ease-in 1s;-o-transition:max-height .5s ease-out .16s,visibility .5s ease-in 1s;-moz-transition:max-height .5s ease-out .16s,visibility .5s ease-in 1s;transition:max-height .5s ease-out .16s,visibility .5s ease-in 1s}.js-enabled .lang-list-container{visibility:hidden}.lang-list-active .lang-list-container,.no-js .lang-list-container{visibility:visible;max-height:10000px;-webkit-transition:max-height 1s ease-in .2s,visibility 1000s ease-in 0ms;-o-transition:max-height 1s ease-in .2s,visibility 1000s ease-in 0ms;-moz-transition:max-height 1s ease-in .2s,visibility 1000s ease-in 0ms;transition:max-height 1s ease-in .2s,visibility 1000s ease-in 0ms}.no-js .lang-list-button{display:none}.lang-list-button-wrapper{text-align:center}.lang-list-button{background-color:#f8f9fa;display:inline;position:relative;z-index:1;margin:0 auto;padding:.6rem 1.2rem;outline:16px solid #fff;outline:1.6rem solid #fff;border:1px solid #a2a9b1;-moz-border-radius:2px;border-radius:2px;color:#36c;font-size:14px;font-size:1.4rem;font-weight:700;line-height:1;-webkit-transition:outline-width .1s ease-in .5s;-o-transition:outline-width .1s ease-in .5s;-moz-transition:outline-width .1s ease-in .5s;transition:outline-width .1s ease-in .5s}.lang-list-button:hover{background-color:#fff;border-color:#a2a9b1}.lang-list-button:focus{border-color:#36c;-webkit-box-shadow:inset 0 0 0 1px #36c;-moz-box-shadow:inset 0 0 0 1px #36c;box-shadow:inset 0 0 0 1px #36c}.lang-list-active .lang-list-button{background-color:#fff;outline:1px solid #fff;border-color:#72777d;-webkit-transition-delay:0s;-moz-transition-delay:0s;-o-transition-delay:0s;transition-delay:0s}.lang-list-button-text{padding:0 .64rem;vertical-align:middle}.lang-list-button i{display:inline-block;vertical-align:middle}.no-js .lang-list-border,.no-js .lang-list-button{display:none}.lang-list-border{background-color:#c8ccd1;display:block;position:relative;max-width:460px;width:80%;margin:-1.6rem auto 1.6rem;height:1px;-webkit-transition:max-width .2s ease-out .4s;-o-transition:max-width .2s ease-out .4s;-moz-transition:max-width .2s ease-out .4s;transition:max-width .2s ease-out .4s}.lang-list-active .lang-list-border{max-width:85%;-webkit-transition-delay:0s;-moz-transition-delay:0s;-o-transition-delay:0s;transition-delay:0s}.no-js .lang-list-content{padding:0}.lang-list-content{position:relative;-webkit-box-sizing:border-box;-moz-box-sizing:border-box;box-sizing:border-box;width:100%;padding:1.6rem 1.6rem 0}.svg-arrow-down-blue{-webkit-transition:-webkit-transform .2s ease-out;transition:-webkit-transform .2s ease-out;-o-transition:transform .2s ease-out;-moz-transition:transform .2s ease-out,-moz-transform .2s ease-out;transition:transform .2s ease-out;transition:transform .2s ease-out,-webkit-transform .2s ease-out,-moz-transform .2s ease-out}.lang-list-active .svg-arrow-down-blue{-webkit-transform:rotate(180deg);-moz-transform:rotate(180deg);-ms-transform:rotate(180deg);transform:rotate(180deg)}.langlist{width:auto;margin:1.6rem 0;text-align:left}.langlist-others{font-weight:700;text-align:center}.hlist ul{margin:0;padding:0}.hlist li,.hlist ul ul{display:inline}.hlist li:before{content:\" · \";font-weight:700}.hlist li:first-child:before{content:none}.hlist li>ul:before{content:\"\\00a0(\"}.hlist li>ul:after{content:\") \"}.langlist>ul{-webkit-column-width:11.2rem;-moz-column-width:11.2rem;column-width:11.2rem}.langlist>ul>li{display:block;line-height:1.7;-webkit-column-break-inside:avoid;page-break-inside:avoid;break-inside:avoid}.no-js .langlist>ul{text-align:center;list-style-type:circle}.no-js .langlist>ul>li{display:inline-block;padding:0 .8rem}.langlist>ul>li:before{content:none}.langlist>ul>li a{white-space:normal}@media (max-width:480px){.langlist{font-size:inherit}.langlist a{word-wrap:break-word;white-space:normal}.lang-list-container{width:auto;margin-left:.8rem;margin-right:.8rem}.bookshelf{overflow:visible}}.bookshelf{display:block;border-top:1px solid #c8ccd1;-webkit-box-shadow:0 -1px 0 #fff;-moz-box-shadow:0 -1px 0 #fff;box-shadow:0 -1px 0 #fff;text-align:center;white-space:nowrap}.bookshelf .text{background-color:#f8f9fa;position:relative;top:-11.2px;top:-1.12rem;font-weight:400;padding:0 .8rem}.bookshelf-container{display:block;overflow:visible;width:100%;height:1px;margin:2.4rem 0 1.6rem;font-size:13px;font-size:1.3rem;font-weight:700;line-height:1.5}@media (max-width:480px){.bookshelf{width:auto;left:auto}.bookshelf-container{text-align:left;width:auto}}.app-badges .footer-sidebar-content{background-color:#f8f9fa}.app-badges .footer-sidebar-text{padding-top:.8rem;padding-bottom:.8rem}.app-badges .sprite.footer-sidebar-icon{top:8px;top:.8rem}.app-badges ul{margin:0;padding:0;list-style-type:none}.app-badge{display:inline-block}.app-badge a{color:transparent}@media screen and (max-width:768px){.app-badges .footer-sidebar-content{text-align:center}.app-badges .sprite.footer-sidebar-icon{display:inline-block;position:relative;margin:0;top:-3px;left:0;vertical-align:middle;-webkit-transform:scale(.7);-moz-transform:scale(.7);-ms-transform:scale(.7);transform:scale(.7)}}.footer{overflow:hidden;max-width:100%;margin:0 auto;padding:4.16rem 1.28rem 1.28rem;font-size:13px;font-size:1.3rem}.footer:after,.footer:before{content:\" \";display:table}.footer:after{clear:both}.footer-sidebar{width:35%;float:left;clear:left;margin-bottom:3.2rem;vertical-align:top}.footer-sidebar-content{position:relative;max-width:350px;margin:0 auto}.sprite.footer-sidebar-icon{position:absolute;top:0;left:8px;left:.8rem}.footer-sidebar-text{position:relative;margin:0;padding-left:6rem;padding-right:2rem;color:#54595d}.site-license{color:#54595d;text-align:center}.site-license small:after{content:\"\\2022\";display:inline-block;font-size:13px;font-size:1.3rem;line-height:inherit;margin-left:.8rem;margin-right:.5rem}.site-license small:last-child:after{display:none}@media screen and (max-width:768px){.footer{display:-webkit-box;display:-webkit-flex;display:-moz-box;display:-ms-flexbox;display:flex;-webkit-box-orient:vertical;-webkit-box-direction:normal;-webkit-flex-direction:column;-moz-box-orient:vertical;-moz-box-direction:normal;-ms-flex-direction:column;flex-direction:column;padding-top:1.28rem}.footer .footer-sidebar{-webkit-box-ordinal-group:1;-moz-box-ordinal-group:1;-webkit-order:1;-ms-flex-order:1;order:1}.footer .other-projects{-webkit-box-ordinal-group:2;-moz-box-ordinal-group:2;-webkit-order:2;-ms-flex-order:2;order:2}.footer .app-badges{-webkit-box-ordinal-group:3;-moz-box-ordinal-group:3;-webkit-order:3;-ms-flex-order:3;order:3}.footer-sidebar{width:100%}.sprite.footer-sidebar-icon{display:block;position:relative;left:0;margin:0 auto 1.28rem}.footer-sidebar-content{max-width:none}.footer-sidebar-text{margin:0;padding:0;text-align:center}}@media screen and (max-width:480px){.footer{padding:.96rem .64rem 1.28rem}}@media (max-width:480px){.search-container{margin-top:0;height:78px;height:7.8rem;position:absolute;top:96px;top:9.6rem;left:0;right:0;max-width:100%;width:auto;padding:0;text-align:left}.search-container label{display:none}.search-form #searchInput{max-width:40%;vertical-align:middle}.search-form .formBtn{max-width:25%;vertical-align:middle}form fieldset{margin:0;border-left:0;border-right:0}hr{margin-top:.65rem}}@media (-o-min-device-pixel-ratio:2/1),(-webkit-min-device-pixel-ratio:2),(min--moz-device-pixel-ratio:2),(min-resolution:2dppx),(min-resolution:192dpi){hr{border-bottom-width:.5px}}@supports (-webkit-marquee-style:slide){hr{border-bottom-width:1px}}.js-enabled .central-featured,.js-enabled .jsl10n{visibility:hidden}.jsl10n-visible .central-featured,.jsl10n-visible .jsl10n{visibility:visible}@media print{body{background-color:transparent}a{color:#000!important;background:none!important;padding:0!important}a:link,a:visited{color:#520;background:transparent}img{border:0}}\n",
       "</style>\n",
       "<link href=\"//upload.wikimedia.org\" rel=\"preconnect\"/>\n",
       "</head>\n",
       "<body id=\"www-wikipedia-org\">\n",
       "<div class=\"central-textlogo\" style=\"font-size: 1em;\">\n",
       "<img alt=\"Wikipedia\" class=\"central-featured-logo\" height=\"183\" src=\"portal/wikipedia.org/assets/img/Wikipedia-logo-v2.png\" srcset=\"portal/wikipedia.org/assets/img/Wikipedia-logo-v2@1.5x.png 1.5x, portal/wikipedia.org/assets/img/Wikipedia-logo-v2@2x.png 2x\" width=\"200\"/>\n",
       "<h1 class=\"central-textlogo-wrapper\">\n",
       "<span class=\"central-textlogo__image sprite svg-Wikipedia_wordmark\">\n",
       "Wikipedia\n",
       "</span>\n",
       "<strong class=\"jsl10n localized-slogan\" data-jsl10n=\"slogan\">The Free Encyclopedia</strong>\n",
       "</h1>\n",
       "</div>\n",
       "<div class=\"central-featured\" data-el-section=\"primary links\">\n",
       "<!-- #1. en.wikipedia.org - 1 760 237 000 views/day -->\n",
       "<div class=\"central-featured-lang lang1\" dir=\"ltr\" lang=\"en\">\n",
       "<a class=\"link-box\" data-slogan=\"The Free Encyclopedia\" href=\"//en.wikipedia.org/\" id=\"js-link-box-en\" title=\"English — Wikipedia — The Free Encyclopedia\">\n",
       "<strong>English</strong>\n",
       "<small><bdi dir=\"ltr\">6 299 000+</bdi> <span>articles</span></small>\n",
       "</a>\n",
       "</div>\n",
       "<!-- #2. ja.wikipedia.org - 269 177 000 views/day -->\n",
       "<div class=\"central-featured-lang lang2\" dir=\"ltr\" lang=\"ja\">\n",
       "<a class=\"link-box\" data-slogan=\"フリー百科事典\" href=\"//ja.wikipedia.org/\" id=\"js-link-box-ja\" title=\"Nihongo — ウィキペディア — フリー百科事典\">\n",
       "<strong>日本語</strong>\n",
       "<small><bdi dir=\"ltr\">1 268 000+</bdi> <span>記事</span></small>\n",
       "</a>\n",
       "</div>\n",
       "<!-- #3. es.wikipedia.org - 251 014 000 views/day -->\n",
       "<div class=\"central-featured-lang lang3\" dir=\"ltr\" lang=\"es\">\n",
       "<a class=\"link-box\" data-slogan=\"La enciclopedia libre\" href=\"//es.wikipedia.org/\" id=\"js-link-box-es\" title=\"Español — Wikipedia — La enciclopedia libre\">\n",
       "<strong>Español</strong>\n",
       "<small><bdi dir=\"ltr\">1 684 000+</bdi> <span>artículos</span></small>\n",
       "</a>\n",
       "</div>\n",
       "<!-- #4. de.wikipedia.org - 234 055 000 views/day -->\n",
       "<div class=\"central-featured-lang lang4\" dir=\"ltr\" lang=\"de\">\n",
       "<a class=\"link-box\" data-slogan=\"Die freie Enzyklopädie\" href=\"//de.wikipedia.org/\" id=\"js-link-box-de\" title=\"Deutsch — Wikipedia — Die freie Enzyklopädie\">\n",
       "<strong>Deutsch</strong>\n",
       "<small><bdi dir=\"ltr\">2 576 000+</bdi> <span>Artikel</span></small>\n",
       "</a>\n",
       "</div>\n",
       "<!-- #5. ru.wikipedia.org - 190 301 000 views/day -->\n",
       "<div class=\"central-featured-lang lang5\" dir=\"ltr\" lang=\"ru\">\n",
       "<a class=\"link-box\" data-slogan=\"Свободная энциклопедия\" href=\"//ru.wikipedia.org/\" id=\"js-link-box-ru\" title=\"Russkiy — Википедия — Свободная энциклопедия\">\n",
       "<strong>Русский</strong>\n",
       "<small><bdi dir=\"ltr\">1 724 000+</bdi> <span>статей</span></small>\n",
       "</a>\n",
       "</div>\n",
       "<!-- #6. fr.wikipedia.org - 181 587 000 views/day -->\n",
       "<div class=\"central-featured-lang lang6\" dir=\"ltr\" lang=\"fr\">\n",
       "<a class=\"link-box\" data-slogan=\"L’encyclopédie libre\" href=\"//fr.wikipedia.org/\" id=\"js-link-box-fr\" title=\"Français — Wikipédia — L’encyclopédie libre\">\n",
       "<strong>Français</strong>\n",
       "<small><bdi dir=\"ltr\">2 329 000+</bdi> <span>articles</span></small>\n",
       "</a>\n",
       "</div>\n",
       "<!-- #7. it.wikipedia.org - 132 744 000 views/day -->\n",
       "<div class=\"central-featured-lang lang7\" dir=\"ltr\" lang=\"it\">\n",
       "<a class=\"link-box\" data-slogan=\"L'enciclopedia libera\" href=\"//it.wikipedia.org/\" id=\"js-link-box-it\" title=\"Italiano — Wikipedia — L'enciclopedia libera\">\n",
       "<strong>Italiano</strong>\n",
       "<small><bdi dir=\"ltr\">1 693 000+</bdi> <span>voci</span></small>\n",
       "</a>\n",
       "</div>\n",
       "<!-- #8. zh.wikipedia.org - 117 382 000 views/day -->\n",
       "<div class=\"central-featured-lang lang8\" dir=\"ltr\" lang=\"zh\">\n",
       "<a class=\"link-box\" data-converttitle-hans=\"Zhōngwén — 维基百科 — 自由的百科全书\" data-slogan=\"自由的百科全書\" href=\"//zh.wikipedia.org/\" id=\"js-link-box-zh\" title=\"Zhōngwén — 維基百科 — 自由的百科全書\">\n",
       "<strong>中文</strong>\n",
       "<small><bdi dir=\"ltr\">1 197 000+</bdi> <span data-convert-hans=\"条目\" id=\"zh_art\">條目</span></small>\n",
       "</a>\n",
       "</div>\n",
       "<!-- #9. pt.wikipedia.org - 72 041 000 views/day -->\n",
       "<div class=\"central-featured-lang lang9\" dir=\"ltr\" lang=\"pt\">\n",
       "<a class=\"link-box\" data-slogan=\"A enciclopédia livre\" href=\"//pt.wikipedia.org/\" id=\"js-link-box-pt\" title=\"Português — Wikipédia — A enciclopédia livre\">\n",
       "<strong>Português</strong>\n",
       "<small><bdi dir=\"ltr\">1 066 000+</bdi> <span>artigos</span></small>\n",
       "</a>\n",
       "</div>\n",
       "<!-- #10. pl.wikipedia.org - 60 901 000 views/day -->\n",
       "<div class=\"central-featured-lang lang10\" dir=\"ltr\" lang=\"pl\">\n",
       "<a class=\"link-box\" data-slogan=\"Wolna encyklopedia\" href=\"//pl.wikipedia.org/\" id=\"js-link-box-pl\" title=\"Angielski — Wikipedia — Wolna encyklopedia\">\n",
       "<strong>Polski</strong>\n",
       "<small><bdi dir=\"ltr\">1 473 000+</bdi> <span>haseł</span></small>\n",
       "</a>\n",
       "</div>\n",
       "</div>\n",
       "<div class=\"search-container\">\n",
       "<form action=\"//www.wikipedia.org/search-redirect.php\" class=\"pure-form\" data-el-section=\"search\" id=\"search-form\">\n",
       "<fieldset>\n",
       "<input name=\"family\" type=\"hidden\" value=\"wikipedia\"/>\n",
       "<input id=\"hiddenLanguageInput\" name=\"language\" type=\"hidden\" value=\"en\"/>\n",
       "<div class=\"search-input\" id=\"search-input\">\n",
       "<label class=\"screen-reader-text\" data-jsl10n=\"search-input-label\" for=\"searchInput\">Search Wikipedia</label>\n",
       "<input accesskey=\"F\" autocomplete=\"off\" autofocus=\"autofocus\" dir=\"auto\" id=\"searchInput\" name=\"search\" size=\"20\" type=\"search\"/>\n",
       "<div class=\"styled-select no-js\">\n",
       "<div class=\"hide-arrow\">\n",
       "<select id=\"searchLanguage\" name=\"language\">\n",
       "<option lang=\"pl\" value=\"pl\">Polski</option><!-- Angielski -->\n",
       "<option lang=\"sk\" value=\"sk\">Slovenčina</option><!-- Angličtina -->\n",
       "<option lang=\"ar\" value=\"ar\">العربية</option><!-- Al-ʿArabīyah -->\n",
       "<option lang=\"ast\" value=\"ast\">Asturianu</option>\n",
       "<option lang=\"az\" value=\"az\">Azərbaycanca</option>\n",
       "<option lang=\"bg\" value=\"bg\">Български</option><!-- Bǎlgarski -->\n",
       "<option lang=\"nan\" value=\"nan\">Bân-lâm-gú / Hō-ló-oē</option>\n",
       "<option lang=\"bn\" value=\"bn\">বাংলা</option><!-- Bangla -->\n",
       "<option lang=\"be\" value=\"be\">Беларуская</option><!-- Belaruskaya -->\n",
       "<option lang=\"ca\" value=\"ca\">Català</option>\n",
       "<option lang=\"cs\" value=\"cs\">Čeština</option><!-- čeština -->\n",
       "<option lang=\"cy\" value=\"cy\">Cymraeg</option><!-- Cymraeg -->\n",
       "<option lang=\"da\" value=\"da\">Dansk</option>\n",
       "<option lang=\"de\" value=\"de\">Deutsch</option>\n",
       "<option lang=\"et\" value=\"et\">Eesti</option>\n",
       "<option lang=\"el\" value=\"el\">Ελληνικά</option><!-- Ellīniká -->\n",
       "<option lang=\"en\" selected=\"selected\" value=\"en\">English</option><!-- English -->\n",
       "<option lang=\"es\" value=\"es\">Español</option>\n",
       "<option lang=\"eo\" value=\"eo\">Esperanto</option>\n",
       "<option lang=\"eu\" value=\"eu\">Euskara</option>\n",
       "<option lang=\"fa\" value=\"fa\">فارسی</option><!-- Fārsi -->\n",
       "<option lang=\"fr\" value=\"fr\">Français</option>\n",
       "<option lang=\"gl\" value=\"gl\">Galego</option>\n",
       "<option lang=\"hy\" value=\"hy\">Հայերեն</option><!-- Hayeren -->\n",
       "<option lang=\"hi\" value=\"hi\">हिन्दी</option><!-- Hindī -->\n",
       "<option lang=\"hr\" value=\"hr\">Hrvatski</option>\n",
       "<option lang=\"id\" value=\"id\">Bahasa Indonesia</option>\n",
       "<option lang=\"it\" value=\"it\">Italiano</option>\n",
       "<option lang=\"he\" value=\"he\">עברית</option><!-- Ivrit -->\n",
       "<option lang=\"ka\" value=\"ka\">ქართული</option><!-- Kartuli -->\n",
       "<option lang=\"la\" value=\"la\">Latina</option>\n",
       "<option lang=\"lv\" value=\"lv\">Latviešu</option>\n",
       "<option lang=\"lt\" value=\"lt\">Lietuvių</option>\n",
       "<option lang=\"hu\" value=\"hu\">Magyar</option>\n",
       "<option lang=\"mk\" value=\"mk\">Македонски</option><!-- Makedonski -->\n",
       "<option lang=\"arz\" value=\"arz\">مصرى</option><!-- Maṣrī -->\n",
       "<option lang=\"ms\" value=\"ms\">Bahasa Melayu</option>\n",
       "<option lang=\"min\" value=\"min\">Bahaso Minangkabau</option>\n",
       "<option lang=\"nl\" value=\"nl\">Nederlands</option>\n",
       "<option lang=\"ja\" value=\"ja\">日本語</option><!-- Nihongo -->\n",
       "<option lang=\"nb\" value=\"no\">Norsk (bokmål)</option>\n",
       "<option lang=\"nn\" value=\"nn\">Norsk (nynorsk)</option>\n",
       "<option lang=\"ce\" value=\"ce\">Нохчийн</option><!-- Noxçiyn -->\n",
       "<option lang=\"uz\" value=\"uz\">Oʻzbekcha / Ўзбекча</option>\n",
       "<option lang=\"pt\" value=\"pt\">Português</option>\n",
       "<option lang=\"kk\" value=\"kk\">Қазақша / Qazaqşa / قازاقشا</option>\n",
       "<option lang=\"ro\" value=\"ro\">Română</option><!-- Română -->\n",
       "<option lang=\"ru\" value=\"ru\">Русский</option><!-- Russkiy -->\n",
       "<option lang=\"en\" value=\"simple\">Simple English</option>\n",
       "<option lang=\"ceb\" value=\"ceb\">Sinugboanong Binisaya</option>\n",
       "<option lang=\"sl\" value=\"sl\">Slovenščina</option>\n",
       "<option lang=\"sr\" value=\"sr\">Српски / Srpski</option>\n",
       "<option lang=\"sh\" value=\"sh\">Srpskohrvatski / Српскохрватски</option>\n",
       "<option lang=\"fi\" value=\"fi\">Suomi</option><!-- suomi -->\n",
       "<option lang=\"sv\" value=\"sv\">Svenska</option>\n",
       "<option lang=\"ta\" value=\"ta\">தமிழ்</option><!-- Tamiḻ -->\n",
       "<option lang=\"tt\" value=\"tt\">Татарча / Tatarça</option>\n",
       "<option lang=\"th\" value=\"th\">ภาษาไทย</option><!-- Phasa Thai -->\n",
       "<option lang=\"tg\" value=\"tg\">Тоҷикӣ</option><!-- Tojikī -->\n",
       "<option lang=\"azb\" value=\"azb\">تۆرکجه</option><!-- Türkce -->\n",
       "<option lang=\"tr\" value=\"tr\">Türkçe</option><!-- Türkçe -->\n",
       "<option lang=\"uk\" value=\"uk\">Українська</option><!-- Ukrayins’ka -->\n",
       "<option lang=\"ur\" value=\"ur\">اردو</option><!-- Urdu -->\n",
       "<option lang=\"vi\" value=\"vi\">Tiếng Việt</option>\n",
       "<option lang=\"vo\" value=\"vo\">Volapük</option>\n",
       "<option lang=\"war\" value=\"war\">Winaray</option>\n",
       "<option lang=\"yue\" value=\"zh-yue\">粵語</option><!-- Yuht Yúh / Jyut6 jyu5 -->\n",
       "<option lang=\"zh\" value=\"zh\">中文</option><!-- Zhōngwén -->\n",
       "<option lang=\"my\" value=\"my\">မြန်မာဘာသာ</option><!-- Myanmarsar -->\n",
       "<option lang=\"ko\" value=\"ko\">한국어</option><!-- Hangugeo -->\n",
       "</select>\n",
       "<div class=\"styled-select-active-helper\"></div>\n",
       "</div>\n",
       "<i class=\"sprite svg-arrow-down\"></i>\n",
       "</div>\n",
       "</div>\n",
       "<button class=\"pure-button pure-button-primary-progressive\" type=\"submit\">\n",
       "<i class=\"sprite svg-search-icon\" data-jsl10n=\"search-input-button\">Search</i>\n",
       "</button>\n",
       "<input name=\"go\" type=\"hidden\" value=\"Go\"/>\n",
       "</fieldset>\n",
       "</form>\n",
       "</div>\n",
       "<div class=\"lang-list-button-wrapper\">\n",
       "<button class=\"lang-list-button\" id=\"js-lang-list-button\">\n",
       "<i class=\"sprite svg-language-icon\"></i>\n",
       "<span class=\"lang-list-button-text jsl10n\" data-jsl10n=\"language-button-text\">Read Wikipedia in your language </span>\n",
       "<i class=\"sprite svg-arrow-down-blue\"></i>\n",
       "</button>\n",
       "</div>\n",
       "<div class=\"lang-list-border\"></div>\n",
       "<div class=\"lang-list-container\">\n",
       "<div class=\"lang-list-content\" id=\"js-lang-lists\">\n",
       "<h2 class=\"bookshelf-container\">\n",
       "<span class=\"bookshelf\">\n",
       "<span class=\"text\">\n",
       "<bdi dir=\"ltr\">\n",
       "1 000 000+\n",
       "</bdi>\n",
       "<span class=\"jsl10n\" data-jsl10n=\"entries\">\n",
       "articles\n",
       "</span>\n",
       "</span>\n",
       "</span>\n",
       "</h2>\n",
       "<div class=\"langlist langlist-large hlist\" data-el-section=\"secondary links\">\n",
       "<ul>\n",
       "<li><a href=\"//pl.wikipedia.org/\" lang=\"pl\" title=\"Angielski\">Polski</a></li>\n",
       "<li><a href=\"//ar.wikipedia.org/\" lang=\"ar\" title=\"Al-ʿArabīyah\"><bdi dir=\"rtl\">العربية</bdi></a></li>\n",
       "<li><a href=\"//de.wikipedia.org/\" lang=\"de\">Deutsch</a></li>\n",
       "<li><a href=\"//en.wikipedia.org/\" lang=\"en\" title=\"English\">English</a></li>\n",
       "<li><a href=\"//es.wikipedia.org/\" lang=\"es\">Español</a></li>\n",
       "<li><a href=\"//fr.wikipedia.org/\" lang=\"fr\">Français</a></li>\n",
       "<li><a href=\"//it.wikipedia.org/\" lang=\"it\">Italiano</a></li>\n",
       "<li><a href=\"//arz.wikipedia.org/\" lang=\"arz\" title=\"Maṣrī\"><bdi dir=\"rtl\">مصرى</bdi></a></li>\n",
       "<li><a href=\"//nl.wikipedia.org/\" lang=\"nl\">Nederlands</a></li>\n",
       "<li><a href=\"//ja.wikipedia.org/\" lang=\"ja\" title=\"Nihongo\">日本語</a></li>\n",
       "<li><a href=\"//pt.wikipedia.org/\" lang=\"pt\">Português</a></li>\n",
       "<li><a href=\"//ru.wikipedia.org/\" lang=\"ru\" title=\"Russkiy\">Русский</a></li>\n",
       "<li><a href=\"//ceb.wikipedia.org/\" lang=\"ceb\">Sinugboanong Binisaya</a></li>\n",
       "<li><a href=\"//sv.wikipedia.org/\" lang=\"sv\">Svenska</a></li>\n",
       "<li><a href=\"//uk.wikipedia.org/\" lang=\"uk\" title=\"Ukrayins’ka\">Українська</a></li>\n",
       "<li><a href=\"//vi.wikipedia.org/\" lang=\"vi\">Tiếng Việt</a></li>\n",
       "<li><a href=\"//war.wikipedia.org/\" lang=\"war\">Winaray</a></li>\n",
       "<li><a href=\"//zh.wikipedia.org/\" lang=\"zh\" title=\"Zhōngwén\">中文</a></li>\n",
       "</ul>\n",
       "</div>\n",
       "<h2 class=\"bookshelf-container\">\n",
       "<span class=\"bookshelf\">\n",
       "<span class=\"text\">\n",
       "<bdi dir=\"ltr\">\n",
       "100 000+\n",
       "</bdi>\n",
       "<span class=\"jsl10n\" data-jsl10n=\"entries\">\n",
       "articles\n",
       "</span>\n",
       "</span>\n",
       "</span>\n",
       "</h2>\n",
       "<div class=\"langlist langlist-large hlist\" data-el-section=\"secondary links\">\n",
       "<ul>\n",
       "<li><a href=\"//sk.wikipedia.org/\" lang=\"sk\" title=\"Angličtina\">Slovenčina</a></li>\n",
       "<li><a href=\"//ast.wikipedia.org/\" lang=\"ast\">Asturianu</a></li>\n",
       "<li><a href=\"//az.wikipedia.org/\" lang=\"az\">Azərbaycanca</a></li>\n",
       "<li><a href=\"//bg.wikipedia.org/\" lang=\"bg\" title=\"Bǎlgarski\">Български</a></li>\n",
       "<li><a href=\"//zh-min-nan.wikipedia.org/\" lang=\"nan\">Bân-lâm-gú / Hō-ló-oē</a></li>\n",
       "<li><a href=\"//bn.wikipedia.org/\" lang=\"bn\" title=\"Bangla\">বাংলা</a></li>\n",
       "<li><a href=\"//be.wikipedia.org/\" lang=\"be\" title=\"Belaruskaya\">Беларуская</a></li>\n",
       "<li><a href=\"//ca.wikipedia.org/\" lang=\"ca\">Català</a></li>\n",
       "<li><a href=\"//cs.wikipedia.org/\" lang=\"cs\" title=\"čeština\">Čeština</a></li>\n",
       "<li><a href=\"//cy.wikipedia.org/\" lang=\"cy\" title=\"Cymraeg\">Cymraeg</a></li>\n",
       "<li><a href=\"//da.wikipedia.org/\" lang=\"da\">Dansk</a></li>\n",
       "<li><a href=\"//et.wikipedia.org/\" lang=\"et\">Eesti</a></li>\n",
       "<li><a href=\"//el.wikipedia.org/\" lang=\"el\" title=\"Ellīniká\">Ελληνικά</a></li>\n",
       "<li><a href=\"//eo.wikipedia.org/\" lang=\"eo\">Esperanto</a></li>\n",
       "<li><a href=\"//eu.wikipedia.org/\" lang=\"eu\">Euskara</a></li>\n",
       "<li><a href=\"//fa.wikipedia.org/\" lang=\"fa\" title=\"Fārsi\"><bdi dir=\"rtl\">فارسی</bdi></a></li>\n",
       "<li><a href=\"//gl.wikipedia.org/\" lang=\"gl\">Galego</a></li>\n",
       "<li><a href=\"//hy.wikipedia.org/\" lang=\"hy\" title=\"Hayeren\">Հայերեն</a></li>\n",
       "<li><a href=\"//hi.wikipedia.org/\" lang=\"hi\" title=\"Hindī\">हिन्दी</a></li>\n",
       "<li><a href=\"//hr.wikipedia.org/\" lang=\"hr\">Hrvatski</a></li>\n",
       "<li><a href=\"//id.wikipedia.org/\" lang=\"id\">Bahasa Indonesia</a></li>\n",
       "<li><a href=\"//he.wikipedia.org/\" lang=\"he\" title=\"Ivrit\"><bdi dir=\"rtl\">עברית</bdi></a></li>\n",
       "<li><a href=\"//ka.wikipedia.org/\" lang=\"ka\" title=\"Kartuli\">ქართული</a></li>\n",
       "<li><a href=\"//la.wikipedia.org/\" lang=\"la\">Latina</a></li>\n",
       "<li><a href=\"//lv.wikipedia.org/\" lang=\"lv\">Latviešu</a></li>\n",
       "<li><a href=\"//lt.wikipedia.org/\" lang=\"lt\">Lietuvių</a></li>\n",
       "<li><a href=\"//hu.wikipedia.org/\" lang=\"hu\">Magyar</a></li>\n",
       "<li><a href=\"//mk.wikipedia.org/\" lang=\"mk\" title=\"Makedonski\">Македонски</a></li>\n",
       "<li><a href=\"//ms.wikipedia.org/\" lang=\"ms\">Bahasa Melayu</a></li>\n",
       "<li><a href=\"//min.wikipedia.org/\" lang=\"min\">Bahaso Minangkabau</a></li>\n",
       "<li lang=\"no\">Norsk<ul><li><a href=\"//no.wikipedia.org/\" lang=\"nb\">bokmål</a></li><li><a href=\"//nn.wikipedia.org/\" lang=\"nn\">nynorsk</a></li></ul></li>\n",
       "<li><a href=\"//ce.wikipedia.org/\" lang=\"ce\" title=\"Noxçiyn\">Нохчийн</a></li>\n",
       "<li><a href=\"//uz.wikipedia.org/\" lang=\"uz\">Oʻzbekcha / Ўзбекча</a></li>\n",
       "<li><a href=\"//kk.wikipedia.org/\" lang=\"kk\"><span lang=\"kk-Cyrl\">Қазақша</span> / <span lang=\"kk-Latn\">Qazaqşa</span> / <bdi dir=\"rtl\" lang=\"kk-Arab\">قازاقشا</bdi></a></li>\n",
       "<li><a href=\"//ro.wikipedia.org/\" lang=\"ro\" title=\"Română\">Română</a></li>\n",
       "<li><a href=\"//simple.wikipedia.org/\" lang=\"en\">Simple English</a></li>\n",
       "<li><a href=\"//sl.wikipedia.org/\" lang=\"sl\">Slovenščina</a></li>\n",
       "<li><a href=\"//sr.wikipedia.org/\" lang=\"sr\">Српски / Srpski</a></li>\n",
       "<li><a href=\"//sh.wikipedia.org/\" lang=\"sh\">Srpskohrvatski / Српскохрватски</a></li>\n",
       "<li><a href=\"//fi.wikipedia.org/\" lang=\"fi\" title=\"suomi\">Suomi</a></li>\n",
       "<li><a href=\"//ta.wikipedia.org/\" lang=\"ta\" title=\"Tamiḻ\">தமிழ்</a></li>\n",
       "<li><a href=\"//tt.wikipedia.org/\" lang=\"tt\">Татарча / Tatarça</a></li>\n",
       "<li><a href=\"//th.wikipedia.org/\" lang=\"th\" title=\"Phasa Thai\">ภาษาไทย</a></li>\n",
       "<li><a href=\"//tg.wikipedia.org/\" lang=\"tg\" title=\"Tojikī\">Тоҷикӣ</a></li>\n",
       "<li><a href=\"//azb.wikipedia.org/\" lang=\"azb\" title=\"Türkce\"><bdi dir=\"rtl\">تۆرکجه</bdi></a></li>\n",
       "<li><a href=\"//tr.wikipedia.org/\" lang=\"tr\" title=\"Türkçe\">Türkçe</a></li>\n",
       "<li><a href=\"//ur.wikipedia.org/\" lang=\"ur\" title=\"Urdu\"><bdi dir=\"rtl\">اردو</bdi></a></li>\n",
       "<li><a href=\"//vo.wikipedia.org/\" lang=\"vo\">Volapük</a></li>\n",
       "<li><a data-convert-hans=\"粤语\" href=\"//zh-yue.wikipedia.org/\" id=\"zh-yue_wiki\" lang=\"yue\" title=\"Yuht Yúh / Jyut6 jyu5\">粵語</a></li>\n",
       "<li><a href=\"//my.wikipedia.org/\" lang=\"my\" title=\"Myanmarsar\">မြန်မာဘာသာ</a></li>\n",
       "<li><a href=\"//ko.wikipedia.org/\" lang=\"ko\" title=\"Hangugeo\">한국어</a></li>\n",
       "</ul>\n",
       "</div>\n",
       "<h2 class=\"bookshelf-container\">\n",
       "<span class=\"bookshelf\">\n",
       "<span class=\"text\">\n",
       "<bdi dir=\"ltr\">\n",
       "10 000+\n",
       "</bdi>\n",
       "<span class=\"jsl10n\" data-jsl10n=\"entries\">\n",
       "articles\n",
       "</span>\n",
       "</span>\n",
       "</span>\n",
       "</h2>\n",
       "<div class=\"langlist hlist\" data-el-section=\"secondary links\">\n",
       "<ul>\n",
       "<li><a href=\"//ace.wikipedia.org/\" lang=\"ace\">Bahsa Acèh</a></li>\n",
       "<li><a href=\"//af.wikipedia.org/\" lang=\"af\">Afrikaans</a></li>\n",
       "<li><a href=\"//als.wikipedia.org/\" lang=\"gsw\">Alemannisch</a></li>\n",
       "<li><a href=\"//am.wikipedia.org/\" lang=\"am\" title=\"Āmariññā\">አማርኛ</a></li>\n",
       "<li><a href=\"//an.wikipedia.org/\" lang=\"an\">Aragonés</a></li>\n",
       "<li><a href=\"//map-bms.wikipedia.org/\" lang=\"map-x-bms\">Basa Banyumasan</a></li>\n",
       "<li><a href=\"//ba.wikipedia.org/\" lang=\"ba\" title=\"Başqortsa\">Башҡортса</a></li>\n",
       "<li><a href=\"//be-tarask.wikipedia.org/\" lang=\"be\" title=\"Belaruskaya (Taraškievica)\">Беларуская (Тарашкевіца)</a></li>\n",
       "<li><a href=\"//bcl.wikipedia.org/\" lang=\"bcl\">Bikol Central</a></li>\n",
       "<li><a href=\"//bpy.wikipedia.org/\" lang=\"bpy\" title=\"Bishnupriya Manipuri\">বিষ্ণুপ্রিয়া মণিপুরী</a></li>\n",
       "<li><a href=\"//bar.wikipedia.org/\" lang=\"bar\">Boarisch</a></li>\n",
       "<li><a href=\"//bs.wikipedia.org/\" lang=\"bs\">Bosanski</a></li>\n",
       "<li><a href=\"//br.wikipedia.org/\" lang=\"br\">Brezhoneg</a></li>\n",
       "<li><a href=\"//cv.wikipedia.org/\" lang=\"cv\" title=\"Čăvašla\">Чӑвашла</a></li>\n",
       "<li><a href=\"//nv.wikipedia.org/\" lang=\"nv\">Diné Bizaad</a></li>\n",
       "<li><a href=\"//eml.wikipedia.org/\" lang=\"roa-x-eml\">Emigliàn–Rumagnòl</a></li>\n",
       "<li><a href=\"//fo.wikipedia.org/\" lang=\"fo\">Føroyskt</a></li>\n",
       "<li><a href=\"//fy.wikipedia.org/\" lang=\"fy\">Frysk</a></li>\n",
       "<li><a href=\"//ga.wikipedia.org/\" lang=\"ga\">Gaeilge</a></li>\n",
       "<li><a href=\"//gd.wikipedia.org/\" lang=\"gd\">Gàidhlig</a></li>\n",
       "<li><a href=\"//gu.wikipedia.org/\" lang=\"gu\" title=\"Gujarati\">ગુજરાતી</a></li>\n",
       "<li><a href=\"//hsb.wikipedia.org/\" lang=\"hsb\">Hornjoserbsce</a></li>\n",
       "<li><a href=\"//io.wikipedia.org/\" lang=\"io\" title=\"Ido\">Ido</a></li>\n",
       "<li><a href=\"//ilo.wikipedia.org/\" lang=\"ilo\">Ilokano</a></li>\n",
       "<li><a href=\"//ia.wikipedia.org/\" lang=\"ia\">Interlingua</a></li>\n",
       "<li><a href=\"//os.wikipedia.org/\" lang=\"os\" title=\"Iron Ævzag\">Ирон æвзаг</a></li>\n",
       "<li><a href=\"//is.wikipedia.org/\" lang=\"is\">Íslenska</a></li>\n",
       "<li><a href=\"//jv.wikipedia.org/\" lang=\"jv\" title=\"Jawa\">Jawa</a></li>\n",
       "<li><a href=\"//kn.wikipedia.org/\" lang=\"kn\" title=\"Kannada\">ಕನ್ನಡ</a></li>\n",
       "<li><a href=\"//ht.wikipedia.org/\" lang=\"ht\">Kreyòl Ayisyen</a></li>\n",
       "<li><a href=\"//ku.wikipedia.org/\" lang=\"ku\"><span lang=\"ku-Latn\">Kurdî</span> / <bdi dir=\"rtl\" lang=\"ku-Arab\">كوردی</bdi></a></li>\n",
       "<li><a href=\"//ckb.wikipedia.org/\" lang=\"ckb\" title=\"Kurdîy Nawendî\"><bdi dir=\"rtl\">کوردیی ناوەندی</bdi></a></li>\n",
       "<li><a href=\"//ky.wikipedia.org/\" lang=\"ky\" title=\"Kyrgyzča\">Кыргызча</a></li>\n",
       "<li><a href=\"//mrj.wikipedia.org/\" lang=\"mjr\" title=\"Kyryk Mary\">Кырык Мары</a></li>\n",
       "<li><a href=\"//lb.wikipedia.org/\" lang=\"lb\">Lëtzebuergesch</a></li>\n",
       "<li><a href=\"//li.wikipedia.org/\" lang=\"li\">Limburgs</a></li>\n",
       "<li><a href=\"//lmo.wikipedia.org/\" lang=\"lmo\">Lombard</a></li>\n",
       "<li><a href=\"//lij.wikipedia.org/\" lang=\"lij\">Lìgure</a></li>\n",
       "<li><a href=\"//mai.wikipedia.org/\" lang=\"mai\" title=\"Maithilī\">मैथिली</a></li>\n",
       "<li><a href=\"//mg.wikipedia.org/\" lang=\"mg\">Malagasy</a></li>\n",
       "<li><a href=\"//ml.wikipedia.org/\" lang=\"ml\" title=\"Malayalam\">മലയാളം</a></li>\n",
       "<li><a href=\"//zh-classical.wikipedia.org/\" lang=\"lzh\" title=\"Man4jin4 / Wényán\">文言</a></li>\n",
       "<li><a href=\"//mr.wikipedia.org/\" lang=\"mr\" title=\"Marathi\">मराठी</a></li>\n",
       "<li><a href=\"//xmf.wikipedia.org/\" lang=\"xmf\" title=\"Margaluri\">მარგალური</a></li>\n",
       "<li><a href=\"//mzn.wikipedia.org/\" lang=\"mzn\" title=\"Mäzeruni\"><bdi dir=\"rtl\">مازِرونی</bdi></a></li>\n",
       "<li><a href=\"//cdo.wikipedia.org/\" lang=\"cdo\" title=\"Ming-deng-ngu\">Mìng-dĕ̤ng-ngṳ̄ / 閩東語</a></li>\n",
       "<li><a href=\"//mn.wikipedia.org/\" lang=\"mn\" title=\"Mongol\">Монгол</a></li>\n",
       "<li><a href=\"//new.wikipedia.org/\" lang=\"new\" title=\"Nepal Bhasa\">नेपाल भाषा</a></li>\n",
       "<li><a href=\"//ne.wikipedia.org/\" lang=\"ne\" title=\"Nepālī\">नेपाली</a></li>\n",
       "<li><a href=\"//nap.wikipedia.org/\" lang=\"nap\">Nnapulitano</a></li>\n",
       "<li><a href=\"//frr.wikipedia.org/\" lang=\"frr\">Nordfriisk</a></li>\n",
       "<li><a href=\"//oc.wikipedia.org/\" lang=\"oc\">Occitan</a></li>\n",
       "<li><a href=\"//mhr.wikipedia.org/\" lang=\"mhr\" title=\"Olyk Marij\">Марий</a></li>\n",
       "<li><a href=\"//or.wikipedia.org/\" lang=\"or\" title=\"Oṛiā\">ଓଡି଼ଆ</a></li>\n",
       "<li><a href=\"//pa.wikipedia.org/\" lang=\"pa\" title=\"Pañjābī (Gurmukhī)\">ਪੰਜਾਬੀ (ਗੁਰਮੁਖੀ)</a></li>\n",
       "<li><a href=\"//pnb.wikipedia.org/\" lang=\"pnb\" title=\"Pañjābī (Shāhmukhī)\"><bdi dir=\"rtl\">پنجابی (شاہ مکھی)</bdi></a></li>\n",
       "<li><a href=\"//ps.wikipedia.org/\" lang=\"ps\" title=\"Paʂto\"><bdi dir=\"rtl\">پښتو</bdi></a></li>\n",
       "<li><a href=\"//pms.wikipedia.org/\" lang=\"pms\">Piemontèis</a></li>\n",
       "<li><a href=\"//nds.wikipedia.org/\" lang=\"nds\">Plattdüütsch</a></li>\n",
       "<li><a href=\"//qu.wikipedia.org/\" lang=\"qu\">Runa Simi</a></li>\n",
       "<li><a href=\"//sa.wikipedia.org/\" lang=\"sa\" title=\"Saṃskṛtam\">संस्कृतम्</a></li>\n",
       "<li><a href=\"//sah.wikipedia.org/\" lang=\"sah\" title=\"Saxa Tyla\">Саха Тыла</a></li>\n",
       "<li><a href=\"//sco.wikipedia.org/\" lang=\"sco\">Scots</a></li>\n",
       "<li><a href=\"//sq.wikipedia.org/\" lang=\"sq\">Shqip</a></li>\n",
       "<li><a href=\"//scn.wikipedia.org/\" lang=\"scn\">Sicilianu</a></li>\n",
       "<li><a href=\"//si.wikipedia.org/\" lang=\"si\" title=\"Siṃhala\">සිංහල</a></li>\n",
       "<li><a href=\"//sd.wikipedia.org/\" lang=\"sd\" title=\"Sindhī\"><bdi dir=\"rtl\">سنڌي</bdi></a></li>\n",
       "<li><a href=\"//szl.wikipedia.org/\" lang=\"szl\">Ślůnski</a></li>\n",
       "<li><a href=\"//su.wikipedia.org/\" lang=\"su\">Basa Sunda</a></li>\n",
       "<li><a href=\"//sw.wikipedia.org/\" lang=\"sw\">Kiswahili</a></li>\n",
       "<li><a href=\"//tl.wikipedia.org/\" lang=\"tl\">Tagalog</a></li>\n",
       "<li><a href=\"//te.wikipedia.org/\" lang=\"te\" title=\"Telugu\">తెలుగు</a></li>\n",
       "<li><a href=\"//bug.wikipedia.org/\" lang=\"bug\">ᨅᨔ ᨕᨙᨁᨗ / Basa Ugi</a></li>\n",
       "<li><a href=\"//vec.wikipedia.org/\" lang=\"vec\">Vèneto</a></li>\n",
       "<li><a href=\"//wa.wikipedia.org/\" lang=\"wa\">Walon</a></li>\n",
       "<li><a data-convert-hans=\"吴语\" href=\"//wuu.wikipedia.org/\" id=\"wuu_wiki\" lang=\"wuu\" title=\"Wú Yǔ\">吳語</a></li>\n",
       "<li><a href=\"//yi.wikipedia.org/\" lang=\"yi\" title=\"Yidiš\"><bdi dir=\"rtl\">ייִדיש</bdi></a></li>\n",
       "<li><a href=\"//yo.wikipedia.org/\" lang=\"yo\">Yorùbá</a></li>\n",
       "<li><a href=\"//diq.wikipedia.org/\" lang=\"diq\" title=\"Zazaki\">Zazaki</a></li>\n",
       "<li><a href=\"//bat-smg.wikipedia.org/\" lang=\"sgs\">Žemaitėška</a></li>\n",
       "</ul>\n",
       "</div>\n",
       "<h2 class=\"bookshelf-container\">\n",
       "<span class=\"bookshelf\">\n",
       "<span class=\"text\">\n",
       "<bdi dir=\"ltr\">\n",
       "1 000+\n",
       "</bdi>\n",
       "<span class=\"jsl10n\" data-jsl10n=\"entries\">\n",
       "articles\n",
       "</span>\n",
       "</span>\n",
       "</span>\n",
       "</h2>\n",
       "<div class=\"langlist hlist\" data-el-section=\"secondary links\">\n",
       "<ul>\n",
       "<li><a href=\"//kbd.wikipedia.org/\" lang=\"kbd\" title=\"Adighabze\">Адыгэбзэ</a></li>\n",
       "<li><a href=\"//ang.wikipedia.org/\" lang=\"ang\">Ænglisc</a></li>\n",
       "<li><a href=\"//ak.wikipedia.org/\" lang=\"ak\">Akan</a></li>\n",
       "<li><a href=\"//ab.wikipedia.org/\" lang=\"ab\" title=\"Aṗsua\">Аҧсуа</a></li>\n",
       "<li><a href=\"//hyw.wikipedia.org/\" lang=\"hyw\" title=\"Arevmdahayeren\">Արեւմտահայերէն</a></li>\n",
       "<li><a href=\"//roa-rup.wikipedia.org/\" lang=\"roa-rup\">Armãneashce</a></li>\n",
       "<li><a href=\"//frp.wikipedia.org/\" lang=\"frp\">Arpitan</a></li>\n",
       "<li><a href=\"//ig.wikipedia.org/\" lang=\"ig\">asụsụ bekee maọbụ asụsụ oyibo</a></li>\n",
       "<li><a href=\"//arc.wikipedia.org/\" lang=\"arc\" title=\"Ātûrāyâ\"><bdi dir=\"rtl\">ܐܬܘܪܝܐ</bdi></a></li>\n",
       "<li><a href=\"//gn.wikipedia.org/\" lang=\"gn\">Avañe’ẽ</a></li>\n",
       "<li><a href=\"//av.wikipedia.org/\" lang=\"av\" title=\"Avar\">Авар</a></li>\n",
       "<li><a href=\"//ay.wikipedia.org/\" lang=\"ay\">Aymar</a></li>\n",
       "<li><a href=\"//ban.wikipedia.org/\" lang=\"ban\" title=\"Basa Bali\">Basa Bali</a></li>\n",
       "<li><a href=\"//bjn.wikipedia.org/\" lang=\"bjn\">Bahasa Banjar</a></li>\n",
       "<li><a href=\"//bh.wikipedia.org/\" lang=\"bh\" title=\"Bhōjapurī\">भोजपुरी</a></li>\n",
       "<li><a href=\"//bi.wikipedia.org/\" lang=\"bi\">Bislama</a></li>\n",
       "<li><a href=\"//bo.wikipedia.org/\" lang=\"bo\" title=\"Bod Skad\">བོད་ཡིག</a></li>\n",
       "<li><a href=\"//bxr.wikipedia.org/\" lang=\"bxr\" title=\"Buryad\">Буряад</a></li>\n",
       "<li><a href=\"//cbk-zam.wikipedia.org/\" lang=\"cbk-x-zam\">Chavacano de Zamboanga</a></li>\n",
       "<li><a href=\"//co.wikipedia.org/\" lang=\"co\">Corsu</a></li>\n",
       "<li><a href=\"//za.wikipedia.org/\" lang=\"za\">Vahcuengh / 話僮</a></li>\n",
       "<li><a href=\"//se.wikipedia.org/\" lang=\"se\">Davvisámegiella</a></li>\n",
       "<li><a href=\"//pdc.wikipedia.org/\" lang=\"pdc\">Deitsch</a></li>\n",
       "<li><a href=\"//dsb.wikipedia.org/\" lang=\"dsb\">Dolnoserbski</a></li>\n",
       "<li><a href=\"//myv.wikipedia.org/\" lang=\"myv\" title=\"Erzjanj\">Эрзянь</a></li>\n",
       "<li><a href=\"//ext.wikipedia.org/\" lang=\"ext\">Estremeñu</a></li>\n",
       "<li><a href=\"//hif.wikipedia.org/\" lang=\"hif\">Fiji Hindi</a></li>\n",
       "<li><a href=\"//fur.wikipedia.org/\" lang=\"fur\">Furlan</a></li>\n",
       "<li><a href=\"//gv.wikipedia.org/\" lang=\"gv\">Gaelg</a></li>\n",
       "<li><a href=\"//gag.wikipedia.org/\" lang=\"gag\">Gagauz</a></li>\n",
       "<li><a href=\"//ki.wikipedia.org/\" lang=\"ki\">Gĩkũyũ</a></li>\n",
       "<li><a href=\"//glk.wikipedia.org/\" lang=\"glk\" title=\"Giləki\"><bdi dir=\"rtl\">گیلکی</bdi></a></li>\n",
       "<li><a data-convert-hans=\"赣语\" href=\"//gan.wikipedia.org/\" id=\"gan_wiki\" lang=\"gan\" title=\"Gon ua\">贛語</a></li>\n",
       "<li><a href=\"//hak.wikipedia.org/\" lang=\"hak\">Hak-kâ-ngî / 客家語</a></li>\n",
       "<li><a href=\"//xal.wikipedia.org/\" lang=\"xal\" title=\"Halʹmg\">Хальмг</a></li>\n",
       "<li><a href=\"//ha.wikipedia.org/\" lang=\"ha\"><span lang=\"ha-Latn\">Hausa</span> / <bdi dir=\"rtl\" lang=\"ha-Arab\">هَوُسَا</bdi></a></li>\n",
       "<li><a href=\"//haw.wikipedia.org/\" lang=\"haw\">ʻŌlelo Hawaiʻi</a></li>\n",
       "<li><a href=\"//ie.wikipedia.org/\" lang=\"ie\">Interlingue</a></li>\n",
       "<li><a href=\"//pam.wikipedia.org/\" lang=\"pam\">Kapampangan</a></li>\n",
       "<li><a href=\"//csb.wikipedia.org/\" lang=\"csb\">Kaszëbsczi</a></li>\n",
       "<li><a href=\"//kw.wikipedia.org/\" lang=\"kw\">Kernewek</a></li>\n",
       "<li><a href=\"//km.wikipedia.org/\" lang=\"km\" title=\"Phéasa Khmér\">ភាសាខ្មែរ</a></li>\n",
       "<li><a href=\"//rw.wikipedia.org/\" lang=\"rw\">Kinyarwanda</a></li>\n",
       "<li><a href=\"//kv.wikipedia.org/\" lang=\"kv\" title=\"Komi\">Коми</a></li>\n",
       "<li><a href=\"//kg.wikipedia.org/\" lang=\"kg\">Kongo</a></li>\n",
       "<li><a href=\"//gom.wikipedia.org/\" lang=\"gom\">कोंकणी / Konknni</a></li>\n",
       "<li><a href=\"//gcr.wikipedia.org/\" lang=\"gcr\" title=\"Kriyòl Gwiyannen\">Kriyòl Gwiyannen</a></li>\n",
       "<li><a href=\"//lo.wikipedia.org/\" lang=\"lo\" title=\"Phaasaa Laao\">ພາສາລາວ</a></li>\n",
       "<li><a href=\"//lad.wikipedia.org/\" lang=\"lad\" title=\"Ladino\"><span lang=\"lad-Latn\">Dzhudezmo</span> / <bdi dir=\"rtl\" lang=\"lad-Hebr\">לאדינו</bdi></a></li>\n",
       "<li><a href=\"//lbe.wikipedia.org/\" lang=\"lbe\" title=\"Lakːu\">Лакку</a></li>\n",
       "<li><a href=\"//ltg.wikipedia.org/\" lang=\"ltg\">Latgaļu</a></li>\n",
       "<li><a href=\"//lez.wikipedia.org/\" lang=\"lez\" title=\"Lezgi\">Лезги</a></li>\n",
       "<li><a href=\"//ln.wikipedia.org/\" lang=\"ln\">Lingála</a></li>\n",
       "<li><a href=\"//jbo.wikipedia.org/\" lang=\"jbo\">lojban</a></li>\n",
       "<li><a href=\"//lg.wikipedia.org/\" lang=\"lg\">Luganda</a></li>\n",
       "<li><a href=\"//mt.wikipedia.org/\" lang=\"mt\">Malti</a></li>\n",
       "<li><a href=\"//ty.wikipedia.org/\" lang=\"ty\">Reo Mā’ohi</a></li>\n",
       "<li><a href=\"//mi.wikipedia.org/\" lang=\"mi\">Māori</a></li>\n",
       "<li><a href=\"//mwl.wikipedia.org/\" lang=\"mwl\">Mirandés</a></li>\n",
       "<li><a href=\"//mdf.wikipedia.org/\" lang=\"mdf\" title=\"Mokšenj\">Мокшень</a></li>\n",
       "<li><a href=\"//fj.wikipedia.org/\" lang=\"fj\">Na Vosa Vaka-Viti</a></li>\n",
       "<li><a href=\"//nah.wikipedia.org/\" lang=\"nah\">Nāhuatlahtōlli</a></li>\n",
       "<li><a href=\"//na.wikipedia.org/\" lang=\"na\">Dorerin Naoero</a></li>\n",
       "<li><a href=\"//nds-nl.wikipedia.org/\" lang=\"nds-nl\">Nedersaksisch</a></li>\n",
       "<li><a href=\"//nrm.wikipedia.org/\" lang=\"roa-x-nrm\">Nouormand / Normaund</a></li>\n",
       "<li><a href=\"//nov.wikipedia.org/\" lang=\"nov\">Novial</a></li>\n",
       "<li><a href=\"//om.wikipedia.org/\" lang=\"om\" title=\"Ingiliffaa\">Afaan Oromoo</a></li>\n",
       "<li><a href=\"//as.wikipedia.org/\" lang=\"as\" title=\"Ôxômiya\">অসমীযা়</a></li>\n",
       "<li><a href=\"//pi.wikipedia.org/\" lang=\"pi\" title=\"Pāḷi\">पालि</a></li>\n",
       "<li><a href=\"//pag.wikipedia.org/\" lang=\"pag\">Pangasinán</a></li>\n",
       "<li><a href=\"//pap.wikipedia.org/\" lang=\"pap\">Papiamentu</a></li>\n",
       "<li><a href=\"//koi.wikipedia.org/\" lang=\"koi\" title=\"Perem Komi\">Перем Коми</a></li>\n",
       "<li><a href=\"//pfl.wikipedia.org/\" lang=\"pfl\">Pfälzisch</a></li>\n",
       "<li><a href=\"//pcd.wikipedia.org/\" lang=\"pcd\">Picard</a></li>\n",
       "<li><a href=\"//krc.wikipedia.org/\" lang=\"krc\" title=\"Qaraçay–Malqar\">Къарачай–Малкъар</a></li>\n",
       "<li><a href=\"//kaa.wikipedia.org/\" lang=\"kaa\">Qaraqalpaqsha</a></li>\n",
       "<li><a href=\"//crh.wikipedia.org/\" lang=\"crh\">Qırımtatarca</a></li>\n",
       "<li><a href=\"//ksh.wikipedia.org/\" lang=\"ksh\">Ripoarisch</a></li>\n",
       "<li><a href=\"//rm.wikipedia.org/\" lang=\"rm\">Rumantsch</a></li>\n",
       "<li><a href=\"//rue.wikipedia.org/\" lang=\"rue\" title=\"Rusin’skyj Yazyk\">Русиньскый Язык</a></li>\n",
       "<li><a href=\"//sm.wikipedia.org/\" lang=\"sm\">Gagana Sāmoa</a></li>\n",
       "<li><a href=\"//sc.wikipedia.org/\" lang=\"sc\">Sardu</a></li>\n",
       "<li><a href=\"//stq.wikipedia.org/\" lang=\"stq\">Seeltersk</a></li>\n",
       "<li><a href=\"//nso.wikipedia.org/\" lang=\"nso\">Sesotho sa Leboa</a></li>\n",
       "<li><a href=\"//sn.wikipedia.org/\" lang=\"sn\">ChiShona</a></li>\n",
       "<li><a href=\"//so.wikipedia.org/\" lang=\"so\">Soomaaliga</a></li>\n",
       "<li><a href=\"//srn.wikipedia.org/\" lang=\"srn\">Sranantongo</a></li>\n",
       "<li><a href=\"//kab.wikipedia.org/\" lang=\"kab\" title=\"Taqbaylit\">Taqbaylit</a></li>\n",
       "<li><a href=\"//roa-tara.wikipedia.org/\" lang=\"roa\">Tarandíne</a></li>\n",
       "<li><a href=\"//tet.wikipedia.org/\" lang=\"tet\">Tetun</a></li>\n",
       "<li><a href=\"//tpi.wikipedia.org/\" lang=\"tpi\">Tok Pisin</a></li>\n",
       "<li><a href=\"//to.wikipedia.org/\" lang=\"to\">faka Tonga</a></li>\n",
       "<li><a href=\"//tk.wikipedia.org/\" lang=\"tk\">Türkmençe</a></li>\n",
       "<li><a href=\"//tyv.wikipedia.org/\" lang=\"tyv\" title=\"Tyva dyl\">Тыва дыл</a></li>\n",
       "<li><a href=\"//udm.wikipedia.org/\" lang=\"udm\" title=\"Udmurt\">Удмурт</a></li>\n",
       "<li><a href=\"//ug.wikipedia.org/\" lang=\"ug\"><bdi dir=\"rtl\">ئۇيغۇرچه</bdi></a></li>\n",
       "<li><a href=\"//vep.wikipedia.org/\" lang=\"vep\">Vepsän</a></li>\n",
       "<li><a href=\"//fiu-vro.wikipedia.org/\" lang=\"fiu-vro\">Võro</a></li>\n",
       "<li><a href=\"//vls.wikipedia.org/\" lang=\"vls\">West-Vlams</a></li>\n",
       "<li><a href=\"//wo.wikipedia.org/\" lang=\"wo\">Wolof</a></li>\n",
       "<li><a href=\"//xh.wikipedia.org/\" lang=\"xh\">isiXhosa</a></li>\n",
       "<li><a href=\"//zea.wikipedia.org/\" lang=\"zea\">Zeêuws</a></li>\n",
       "<li><a href=\"//zu.wikipedia.org/\" lang=\"zu\">isiZulu</a></li>\n",
       "<li><a href=\"//dv.wikipedia.org/\" lang=\"dv\" title=\"އިނގިރޭސި\"><bdi dir=\"rtl\">ދިވެހިބަސް</bdi></a></li>\n",
       "</ul>\n",
       "</div>\n",
       "<h2 class=\"bookshelf-container\">\n",
       "<span class=\"bookshelf\">\n",
       "<span class=\"text\">\n",
       "<bdi dir=\"ltr\">\n",
       "100+\n",
       "</bdi>\n",
       "<span class=\"jsl10n\" data-jsl10n=\"entries\">\n",
       "articles\n",
       "</span>\n",
       "</span>\n",
       "</span>\n",
       "</h2>\n",
       "<div class=\"langlist langlist-tiny hlist\" data-el-section=\"secondary links\">\n",
       "<ul>\n",
       "<li><a href=\"//bm.wikipedia.org/\" lang=\"bm\">Bamanankan</a></li>\n",
       "<li><a href=\"//ch.wikipedia.org/\" lang=\"ch\">Chamoru</a></li>\n",
       "<li><a href=\"//ny.wikipedia.org/\" lang=\"ny\">Chichewa</a></li>\n",
       "<li><a href=\"//ee.wikipedia.org/\" lang=\"ee\">Eʋegbe</a></li>\n",
       "<li><a href=\"//ff.wikipedia.org/\" lang=\"ff\">Fulfulde</a></li>\n",
       "<li><a href=\"//got.wikipedia.org/\" lang=\"got\" title=\"Gutisk\">𐌲𐌿𐍄𐌹𐍃𐌺</a></li>\n",
       "<li><a href=\"//iu.wikipedia.org/\" lang=\"iu\">ᐃᓄᒃᑎᑐᑦ / Inuktitut</a></li>\n",
       "<li><a href=\"//ik.wikipedia.org/\" lang=\"ik\">Iñupiak</a></li>\n",
       "<li><a href=\"//kl.wikipedia.org/\" lang=\"kl\">Kalaallisut</a></li>\n",
       "<li><a href=\"//ks.wikipedia.org/\" lang=\"ks\" title=\"Kashmiri\"><bdi dir=\"rtl\">كشميري</bdi></a></li>\n",
       "<li><a href=\"//cr.wikipedia.org/\" lang=\"cr\">Nēhiyawēwin / ᓀᐦᐃᔭᐍᐏᐣ</a></li>\n",
       "<li><a href=\"//pih.wikipedia.org/\" lang=\"pih\">Norfuk / Pitkern</a></li>\n",
       "<li><a href=\"//pnt.wikipedia.org/\" lang=\"pnt\" title=\"Pontiaká\">Ποντιακά</a></li>\n",
       "<li><a href=\"//dz.wikipedia.org/\" lang=\"dz\" title=\"Rdzong-Kha\">རྫོང་ཁ</a></li>\n",
       "<li><a href=\"//rmy.wikipedia.org/\" lang=\"rmy\">Romani</a></li>\n",
       "<li><a href=\"//rn.wikipedia.org/\" lang=\"rn\">Kirundi</a></li>\n",
       "<li><a href=\"//sg.wikipedia.org/\" lang=\"sg\">Sängö</a></li>\n",
       "<li><a href=\"//st.wikipedia.org/\" lang=\"st\">Sesotho</a></li>\n",
       "<li><a href=\"//tn.wikipedia.org/\" lang=\"tn\">Setswana</a></li>\n",
       "<li><a href=\"//cu.wikipedia.org/\" lang=\"cu\" title=\"Slověnĭskŭ\">Словѣ́ньскъ / ⰔⰎⰑⰂⰡⰐⰠⰔⰍⰟ</a></li>\n",
       "<li><a href=\"//ss.wikipedia.org/\" lang=\"ss\">SiSwati</a></li>\n",
       "<li><a href=\"//chr.wikipedia.org/\" lang=\"chr\" title=\"Tsalagi\">ᏣᎳᎩ</a></li>\n",
       "<li><a href=\"//chy.wikipedia.org/\" lang=\"chy\">Tsėhesenėstsestotse</a></li>\n",
       "<li><a href=\"//ve.wikipedia.org/\" lang=\"ve\">Tshivenḓa</a></li>\n",
       "<li><a href=\"//ts.wikipedia.org/\" lang=\"ts\">Xitsonga</a></li>\n",
       "<li><a href=\"//tum.wikipedia.org/\" lang=\"tum\">chiTumbuka</a></li>\n",
       "<li><a href=\"//tw.wikipedia.org/\" lang=\"tw\">Twi</a></li>\n",
       "<li><a href=\"//ti.wikipedia.org/\" lang=\"ti\" title=\"Təgərəña\">ትግርኛ</a></li>\n",
       "<li><a href=\"//nqo.wikipedia.org/\" lang=\"nqo\" title=\"N'Ko\">ߒߞߏ</a></li>\n",
       "</ul>\n",
       "</div>\n",
       "<div class=\"langlist langlist-others hlist\" data-el-section=\"other languages\">\n",
       "<a data-jsl10n=\"other-languages-label\" href=\"https://meta.wikimedia.org/wiki/Special:MyLanguage/List_of_Wikipedias\" lang=\"\">Other languages</a>\n",
       "</div>\n",
       "</div>\n",
       "</div>\n",
       "<hr/>\n",
       "<div class=\"footer\" data-el-section=\"other projects\">\n",
       "<div class=\"footer-sidebar\">\n",
       "<div class=\"footer-sidebar-content\">\n",
       "<div class=\"footer-sidebar-icon sprite svg-Wikimedia-logo_black\">\n",
       "</div>\n",
       "<div class=\"footer-sidebar-text jsl10n\" data-jsl10n=\"footer-description\">\n",
       "Wikipedia is hosted by the <a href=\"//wikimediafoundation.org/\">Wikimedia Foundation</a>, a non-profit organization that also hosts a range of other projects.\n",
       "</div>\n",
       "<div class=\"footer-sidebar-text\">\n",
       "<a href=\"https://donate.wikimedia.org/?utm_medium=portal&amp;utm_campaign=portalFooter&amp;utm_source=portalFooter\" target=\"_blank\">\n",
       "<span class=\"jsl10n\" data-jsl10n=\"footer-donate\">You can support our work with a donation.</span>\n",
       "</a>\n",
       "</div>\n",
       "</div>\n",
       "</div>\n",
       "<div class=\"footer-sidebar app-badges\">\n",
       "<div class=\"footer-sidebar-content\">\n",
       "<div class=\"footer-sidebar-text\">\n",
       "<div class=\"footer-sidebar-icon sprite svg-wikipedia_app_tile\"></div>\n",
       "<strong class=\"jsl10n\" data-jsl10n=\"app-links.title\">\n",
       "<a class=\"jsl10n\" data-jsl10n=\"app-links.url\" href=\"https://en.wikipedia.org/wiki/List_of_Wikipedia_mobile_applications\">\n",
       "Download Wikipedia for Android or iOS\n",
       "</a>\n",
       "</strong>\n",
       "<p class=\"jsl10n\" data-jsl10n=\"app-links.description\">\n",
       "Save your favorite articles to read offline, sync your reading lists across devices and customize your reading experience with the official Wikipedia app.\n",
       "</p>\n",
       "<ul>\n",
       "<li class=\"app-badge app-badge-android\">\n",
       "<a href=\"https://play.google.com/store/apps/details?id=org.wikipedia&amp;referrer=utm_source%3Dportal%26utm_medium%3Dbutton%26anid%3Dadmob\" rel=\"noreferrer\" target=\"_blank\">\n",
       "<span class=\"jsl10n sprite svg-badge_google_play_store\" data-jsl10n=\"app-links.google-store\">Google Play Store</span>\n",
       "</a>\n",
       "</li>\n",
       "<li class=\"app-badge app-badge-ios\">\n",
       "<a href=\"https://itunes.apple.com/app/apple-store/id324715238?pt=208305&amp;ct=portal&amp;mt=8\" rel=\"noreferrer\" target=\"_blank\">\n",
       "<span class=\"jsl10n sprite svg-badge_ios_app_store\" data-jsl10n=\"app-links.apple-store\">Apple App Store</span>\n",
       "</a>\n",
       "</li>\n",
       "</ul>\n",
       "</div>\n",
       "</div>\n",
       "</div>\n",
       "<div class=\"other-projects\">\n",
       "<div class=\"other-project\">\n",
       "<a class=\"other-project-link\" href=\"//commons.wikimedia.org/\">\n",
       "<div class=\"other-project-icon\">\n",
       "<div class=\"sprite svg-Commons-logo_sister\"></div>\n",
       "</div>\n",
       "<div class=\"other-project-text\">\n",
       "<span class=\"other-project-title jsl10n\" data-jsl10n=\"commons.name\">Commons</span>\n",
       "<span class=\"other-project-tagline jsl10n\" data-jsl10n=\"commons.slogan\">Freely usable photos &amp; more</span>\n",
       "</div>\n",
       "</a>\n",
       "</div>\n",
       "<div class=\"other-project\">\n",
       "<a class=\"other-project-link\" href=\"//www.wikivoyage.org/\">\n",
       "<div class=\"other-project-icon\">\n",
       "<div class=\"sprite svg-Wikivoyage-logo_sister\"></div>\n",
       "</div>\n",
       "<div class=\"other-project-text\">\n",
       "<span class=\"other-project-title jsl10n\" data-jsl10n=\"wikivoyage.name\">Wikivoyage</span>\n",
       "<span class=\"other-project-tagline jsl10n\" data-jsl10n=\"wikivoyage.slogan\">Free travel guide</span>\n",
       "</div>\n",
       "</a>\n",
       "</div>\n",
       "<div class=\"other-project\">\n",
       "<a class=\"other-project-link\" href=\"//www.wiktionary.org/\">\n",
       "<div class=\"other-project-icon\">\n",
       "<div class=\"sprite svg-Wiktionary-logo_sister\"></div>\n",
       "</div>\n",
       "<div class=\"other-project-text\">\n",
       "<span class=\"other-project-title jsl10n\" data-jsl10n=\"wiktionary.name\">Wiktionary</span>\n",
       "<span class=\"other-project-tagline jsl10n\" data-jsl10n=\"wiktionary.slogan\">Free dictionary</span>\n",
       "</div>\n",
       "</a>\n",
       "</div>\n",
       "<div class=\"other-project\">\n",
       "<a class=\"other-project-link\" href=\"//www.wikibooks.org/\">\n",
       "<div class=\"other-project-icon\">\n",
       "<div class=\"sprite svg-Wikibooks-logo_sister\"></div>\n",
       "</div>\n",
       "<div class=\"other-project-text\">\n",
       "<span class=\"other-project-title jsl10n\" data-jsl10n=\"wikibooks.name\">Wikibooks</span>\n",
       "<span class=\"other-project-tagline jsl10n\" data-jsl10n=\"wikibooks.slogan\">Free textbooks</span>\n",
       "</div>\n",
       "</a>\n",
       "</div>\n",
       "<div class=\"other-project\">\n",
       "<a class=\"other-project-link\" href=\"//www.wikinews.org/\">\n",
       "<div class=\"other-project-icon\">\n",
       "<div class=\"sprite svg-Wikinews-logo_sister\"></div>\n",
       "</div>\n",
       "<div class=\"other-project-text\">\n",
       "<span class=\"other-project-title jsl10n\" data-jsl10n=\"wikinews.name\">Wikinews</span>\n",
       "<span class=\"other-project-tagline jsl10n\" data-jsl10n=\"wikinews.slogan\">Free news source</span>\n",
       "</div>\n",
       "</a>\n",
       "</div>\n",
       "<div class=\"other-project\">\n",
       "<a class=\"other-project-link\" href=\"//www.wikidata.org/\">\n",
       "<div class=\"other-project-icon\">\n",
       "<div class=\"sprite svg-Wikidata-logo_sister\"></div>\n",
       "</div>\n",
       "<div class=\"other-project-text\">\n",
       "<span class=\"other-project-title jsl10n\" data-jsl10n=\"wikidata.name\">Wikidata</span>\n",
       "<span class=\"other-project-tagline jsl10n\" data-jsl10n=\"wikidata.slogan\">Free knowledge base</span>\n",
       "</div>\n",
       "</a>\n",
       "</div>\n",
       "<div class=\"other-project\">\n",
       "<a class=\"other-project-link\" href=\"//www.wikiversity.org/\">\n",
       "<div class=\"other-project-icon\">\n",
       "<div class=\"sprite svg-Wikiversity-logo_sister\"></div>\n",
       "</div>\n",
       "<div class=\"other-project-text\">\n",
       "<span class=\"other-project-title jsl10n\" data-jsl10n=\"wikiversity.name\">Wikiversity</span>\n",
       "<span class=\"other-project-tagline jsl10n\" data-jsl10n=\"wikiversity.slogan\">Free course materials</span>\n",
       "</div>\n",
       "</a>\n",
       "</div>\n",
       "<div class=\"other-project\">\n",
       "<a class=\"other-project-link\" href=\"//www.wikiquote.org/\">\n",
       "<div class=\"other-project-icon\">\n",
       "<div class=\"sprite svg-Wikiquote-logo_sister\"></div>\n",
       "</div>\n",
       "<div class=\"other-project-text\">\n",
       "<span class=\"other-project-title jsl10n\" data-jsl10n=\"wikiquote.name\">Wikiquote</span>\n",
       "<span class=\"other-project-tagline jsl10n\" data-jsl10n=\"wikiquote.slogan\">Free quote compendium</span>\n",
       "</div>\n",
       "</a>\n",
       "</div>\n",
       "<div class=\"other-project\">\n",
       "<a class=\"other-project-link\" href=\"//www.mediawiki.org/\">\n",
       "<div class=\"other-project-icon\">\n",
       "<div class=\"sprite svg-MediaWiki-logo_sister\"></div>\n",
       "</div>\n",
       "<div class=\"other-project-text\">\n",
       "<span class=\"other-project-title jsl10n\" data-jsl10n=\"mediawiki.name\">MediaWiki</span>\n",
       "<span class=\"other-project-tagline jsl10n\" data-jsl10n=\"mediawiki.slogan\">Free &amp; open wiki application</span>\n",
       "</div>\n",
       "</a>\n",
       "</div>\n",
       "<div class=\"other-project\">\n",
       "<a class=\"other-project-link\" href=\"//www.wikisource.org/\">\n",
       "<div class=\"other-project-icon\">\n",
       "<div class=\"sprite svg-Wikisource-logo_sister\"></div>\n",
       "</div>\n",
       "<div class=\"other-project-text\">\n",
       "<span class=\"other-project-title jsl10n\" data-jsl10n=\"wikisource.name\">Wikisource</span>\n",
       "<span class=\"other-project-tagline jsl10n\" data-jsl10n=\"wikisource.slogan\">Free library</span>\n",
       "</div>\n",
       "</a>\n",
       "</div>\n",
       "<div class=\"other-project\">\n",
       "<a class=\"other-project-link\" href=\"//species.wikimedia.org/\">\n",
       "<div class=\"other-project-icon\">\n",
       "<div class=\"sprite svg-Wikispecies-logo_sister\"></div>\n",
       "</div>\n",
       "<div class=\"other-project-text\">\n",
       "<span class=\"other-project-title jsl10n\" data-jsl10n=\"wikispecies.name\">Wikispecies</span>\n",
       "<span class=\"other-project-tagline jsl10n\" data-jsl10n=\"wikispecies.slogan\">Free species directory</span>\n",
       "</div>\n",
       "</a>\n",
       "</div>\n",
       "<div class=\"other-project\">\n",
       "<a class=\"other-project-link\" href=\"//meta.wikimedia.org/\">\n",
       "<div class=\"other-project-icon\">\n",
       "<div class=\"sprite svg-Meta-Wiki-logo_sister\"></div>\n",
       "</div>\n",
       "<div class=\"other-project-text\">\n",
       "<span class=\"other-project-title jsl10n\" data-jsl10n=\"metawiki.name\">Meta-Wiki</span>\n",
       "<span class=\"other-project-tagline jsl10n\" data-jsl10n=\"metawiki.slogan\">Community coordination &amp; documentation</span>\n",
       "</div>\n",
       "</a>\n",
       "</div>\n",
       "</div>\n",
       "</div>\n",
       "<hr/>\n",
       "<p class=\"site-license\">\n",
       "<small class=\"jsl10n\" data-jsl10n=\"license\">This page is available under the <a href=\"https://creativecommons.org/licenses/by-sa/3.0/\">Creative Commons Attribution-ShareAlike License</a></small>\n",
       "<small class=\"jsl10n\" data-jsl10n=\"terms\"><a href=\"//meta.wikimedia.org/wiki/Terms_of_Use\">Terms of Use</a></small>\n",
       "<small class=\"jsl10n\" data-jsl10n=\"Privacy Policy\"><a href=\"//meta.wikimedia.org/wiki/Privacy_policy\">Privacy Policy</a></small>\n",
       "</p>\n",
       "<script>\n",
       "var rtlLangs = ['ar','arc','arz','bcc','bgn','bqi','ckb','dv','fa','glk','he','kk-cn','kk-arab','khw','ks','ku-arab','lki','lrc','luz','mzn','nqo','pnb','ps','sd','sdh','ug','ur','yi'],\n",
       "    translationsHash = '8d545ab2',\n",
       "    /*\n",
       "     This object is used by l10n scripts (page-localized.js, topten-localized.js)\n",
       "     to reveal the page content after l10n json is loaded.\n",
       "     A timer is also set to prevent JS from hiding page content indefinitelty.\n",
       "     This script is inlined to safeguard againt script loading errors and placed\n",
       "     at the top of the page to safeguard against any HTML loading/parsing errors.\n",
       "    */\n",
       "    wmL10nVisible = {\n",
       "        ready: false,\n",
       "        makeVisible: function(){\n",
       "            if ( !wmL10nVisible.ready ) {\n",
       "                wmL10nVisible.ready = true;\n",
       "                document.body.className += ' jsl10n-visible';\n",
       "            }\n",
       "        }\n",
       "    };\n",
       "    window.setTimeout( wmL10nVisible.makeVisible, 1000 )\n",
       "</script>\n",
       "<script src=\"portal/wikipedia.org/assets/js/index-6afb9f3f0f.js\"></script>\n",
       "<!--[if gt IE 9]><!-->\n",
       "<script src=\"portal/wikipedia.org/assets/js/gt-ie9-ce3fe8e88d.js\"></script>\n",
       "<!--<![endif]-->\n",
       "<!--[if lte IE 9]><!-->\n",
       "<style>\n",
       ".styled-select {\n",
       "        display: block;\n",
       "    }\n",
       "</style>\n",
       "<!--<![endif]-->\n",
       "<!--[if lte IE 9]>\n",
       "<style>\n",
       "    .langlist > ul {\n",
       "        text-align: center;\n",
       "    }\n",
       "    .langlist > ul > li {\n",
       "        display: inline;\n",
       "        padding: 0 0.5em;\n",
       "    }\n",
       "</style>\n",
       "<![endif]-->\n",
       "</body>\n",
       "</html>"
      ]
     },
     "execution_count": 8,
     "metadata": {},
     "output_type": "execute_result"
    }
   ],
   "source": [
    "# This is the url you will scrape in this exercise\n",
    "url = 'https://www.wikipedia.org/'\n",
    "response=requests.get(url)\n",
    "soup=BeautifulSoup(response.content, \"html.parser\")\n",
    "soup"
   ]
  },
  {
   "cell_type": "code",
   "execution_count": 10,
   "metadata": {},
   "outputs": [
    {
     "data": {
      "text/plain": [
       "[<a class=\"link-box\" data-slogan=\"The Free Encyclopedia\" href=\"//en.wikipedia.org/\" id=\"js-link-box-en\" title=\"English — Wikipedia — The Free Encyclopedia\">\n",
       " <strong>English</strong>\n",
       " <small><bdi dir=\"ltr\">6 299 000+</bdi> <span>articles</span></small>\n",
       " </a>,\n",
       " <a class=\"link-box\" data-slogan=\"フリー百科事典\" href=\"//ja.wikipedia.org/\" id=\"js-link-box-ja\" title=\"Nihongo — ウィキペディア — フリー百科事典\">\n",
       " <strong>日本語</strong>\n",
       " <small><bdi dir=\"ltr\">1 268 000+</bdi> <span>記事</span></small>\n",
       " </a>,\n",
       " <a class=\"link-box\" data-slogan=\"La enciclopedia libre\" href=\"//es.wikipedia.org/\" id=\"js-link-box-es\" title=\"Español — Wikipedia — La enciclopedia libre\">\n",
       " <strong>Español</strong>\n",
       " <small><bdi dir=\"ltr\">1 684 000+</bdi> <span>artículos</span></small>\n",
       " </a>,\n",
       " <a class=\"link-box\" data-slogan=\"Die freie Enzyklopädie\" href=\"//de.wikipedia.org/\" id=\"js-link-box-de\" title=\"Deutsch — Wikipedia — Die freie Enzyklopädie\">\n",
       " <strong>Deutsch</strong>\n",
       " <small><bdi dir=\"ltr\">2 576 000+</bdi> <span>Artikel</span></small>\n",
       " </a>,\n",
       " <a class=\"link-box\" data-slogan=\"Свободная энциклопедия\" href=\"//ru.wikipedia.org/\" id=\"js-link-box-ru\" title=\"Russkiy — Википедия — Свободная энциклопедия\">\n",
       " <strong>Русский</strong>\n",
       " <small><bdi dir=\"ltr\">1 724 000+</bdi> <span>статей</span></small>\n",
       " </a>,\n",
       " <a class=\"link-box\" data-slogan=\"L’encyclopédie libre\" href=\"//fr.wikipedia.org/\" id=\"js-link-box-fr\" title=\"Français — Wikipédia — L’encyclopédie libre\">\n",
       " <strong>Français</strong>\n",
       " <small><bdi dir=\"ltr\">2 329 000+</bdi> <span>articles</span></small>\n",
       " </a>,\n",
       " <a class=\"link-box\" data-slogan=\"L'enciclopedia libera\" href=\"//it.wikipedia.org/\" id=\"js-link-box-it\" title=\"Italiano — Wikipedia — L'enciclopedia libera\">\n",
       " <strong>Italiano</strong>\n",
       " <small><bdi dir=\"ltr\">1 693 000+</bdi> <span>voci</span></small>\n",
       " </a>,\n",
       " <a class=\"link-box\" data-converttitle-hans=\"Zhōngwén — 维基百科 — 自由的百科全书\" data-slogan=\"自由的百科全書\" href=\"//zh.wikipedia.org/\" id=\"js-link-box-zh\" title=\"Zhōngwén — 維基百科 — 自由的百科全書\">\n",
       " <strong>中文</strong>\n",
       " <small><bdi dir=\"ltr\">1 197 000+</bdi> <span data-convert-hans=\"条目\" id=\"zh_art\">條目</span></small>\n",
       " </a>,\n",
       " <a class=\"link-box\" data-slogan=\"A enciclopédia livre\" href=\"//pt.wikipedia.org/\" id=\"js-link-box-pt\" title=\"Português — Wikipédia — A enciclopédia livre\">\n",
       " <strong>Português</strong>\n",
       " <small><bdi dir=\"ltr\">1 066 000+</bdi> <span>artigos</span></small>\n",
       " </a>,\n",
       " <a class=\"link-box\" data-slogan=\"Wolna encyklopedia\" href=\"//pl.wikipedia.org/\" id=\"js-link-box-pl\" title=\"Angielski — Wikipedia — Wolna encyklopedia\">\n",
       " <strong>Polski</strong>\n",
       " <small><bdi dir=\"ltr\">1 473 000+</bdi> <span>haseł</span></small>\n",
       " </a>]"
      ]
     },
     "execution_count": 10,
     "metadata": {},
     "output_type": "execute_result"
    }
   ],
   "source": [
    "languajes = soup.find_all(\"a\",class_=\"link-box\")\n",
    "languajes"
   ]
  },
  {
   "cell_type": "code",
   "execution_count": 36,
   "metadata": {},
   "outputs": [
    {
     "data": {
      "text/plain": [
       "[['English', '6', '299', '000+', 'articles'],\n",
       " ['日本語', '1', '268', '000+', '記事'],\n",
       " ['Español', '1', '684', '000+', 'artículos'],\n",
       " ['Deutsch', '2', '576', '000+', 'Artikel'],\n",
       " ['Русский', '1', '724', '000+', 'статей'],\n",
       " ['Français', '2', '329', '000+', 'articles'],\n",
       " ['Italiano', '1', '693', '000+', 'voci'],\n",
       " ['中文', '1', '197', '000+', '條目'],\n",
       " ['Português', '1', '066', '000+', 'artigos'],\n",
       " ['Polski', '1', '473', '000+', 'haseł']]"
      ]
     },
     "execution_count": 36,
     "metadata": {},
     "output_type": "execute_result"
    }
   ],
   "source": [
    "language_names_get=[lang.getText().split() for lang in language_names]\n",
    "language_names_get"
   ]
  },
  {
   "cell_type": "code",
   "execution_count": 37,
   "metadata": {},
   "outputs": [
    {
     "data": {
      "text/plain": [
       "['English',\n",
       " '日本語',\n",
       " 'Español',\n",
       " 'Deutsch',\n",
       " 'Русский',\n",
       " 'Français',\n",
       " 'Italiano',\n",
       " '中文',\n",
       " 'Português',\n",
       " 'Polski']"
      ]
     },
     "execution_count": 37,
     "metadata": {},
     "output_type": "execute_result"
    }
   ],
   "source": [
    "[lang[0] for lang in language_names_get]"
   ]
  },
  {
   "cell_type": "code",
   "execution_count": 11,
   "metadata": {},
   "outputs": [
    {
     "data": {
      "text/plain": [
       "[('English', '6299000'),\n",
       " ('日本語', '1268000'),\n",
       " ('Español', '1684000'),\n",
       " ('Deutsch', '2576000'),\n",
       " ('Русский', '1724000'),\n",
       " ('Français', '2329000'),\n",
       " ('Italiano', '1693000'),\n",
       " ('中文', '1197000'),\n",
       " ('Português', '1066000'),\n",
       " ('Polski', '1473000')]"
      ]
     },
     "execution_count": 11,
     "metadata": {},
     "output_type": "execute_result"
    }
   ],
   "source": [
    "languaje_list=[]\n",
    "\n",
    "for l in languajes:\n",
    "    lang = l.text.split()[0]\n",
    "    number = l.find(\"bdi\").text[:-1].replace(u'\\xa0', '')\n",
    "    languaje_list.append((lang, number))\n",
    "    \n",
    "languaje_list"
   ]
  },
  {
   "cell_type": "markdown",
   "metadata": {},
   "source": [
    "#### A list with the different kind of datasets available in data.gov.uk "
   ]
  },
  {
   "cell_type": "code",
   "execution_count": 38,
   "metadata": {},
   "outputs": [],
   "source": [
    "url = 'https://data.gov.uk/'\n",
    "response=requests.get(url)\n",
    "soup=BeautifulSoup(response.content, \"html.parser\")"
   ]
  },
  {
   "cell_type": "code",
   "execution_count": 39,
   "metadata": {},
   "outputs": [],
   "source": [
    "data_sets = soup.find_all('h3', {'class': 'govuk-heading-s dgu-topics__heading'})"
   ]
  },
  {
   "cell_type": "code",
   "execution_count": 40,
   "metadata": {},
   "outputs": [
    {
     "name": "stdout",
     "output_type": "stream",
     "text": [
      "['Business and economy', 'Crime and justice', 'Defence', 'Education', 'Environment', 'Government', 'Government spending', 'Health', 'Mapping', 'Society', 'Towns and cities', 'Transport', 'Digital service performance', 'Government reference data']\n"
     ]
    }
   ],
   "source": [
    "data_sets_names=[data.getText() for data in data_sets]\n",
    "print(data_sets_names)"
   ]
  },
  {
   "cell_type": "markdown",
   "metadata": {},
   "source": [
    "#### Top 10 languages by number of native speakers stored in a Pandas Dataframe"
   ]
  },
  {
   "cell_type": "code",
   "execution_count": 41,
   "metadata": {},
   "outputs": [],
   "source": [
    "# This is the url you will scrape in this exercise\n",
    "url = 'https://en.wikipedia.org/wiki/List_of_languages_by_number_of_native_speakers'"
   ]
  },
  {
   "cell_type": "code",
   "execution_count": 42,
   "metadata": {},
   "outputs": [],
   "source": [
    "#your code\n"
   ]
  },
  {
   "cell_type": "code",
   "execution_count": null,
   "metadata": {},
   "outputs": [],
   "source": []
  },
  {
   "cell_type": "markdown",
   "metadata": {},
   "source": [
    "### BONUS QUESTIONS"
   ]
  },
  {
   "cell_type": "markdown",
   "metadata": {},
   "source": [
    "#### IMDB's Top 250 data (movie name, Initial release, director name and stars) as a pandas dataframe"
   ]
  },
  {
   "cell_type": "code",
   "execution_count": null,
   "metadata": {},
   "outputs": [],
   "source": [
    "# This is the url you will scrape in this exercise \n",
    "url = 'https://www.imdb.com/chart/top'"
   ]
  },
  {
   "cell_type": "code",
   "execution_count": null,
   "metadata": {},
   "outputs": [],
   "source": [
    "# your code\n"
   ]
  },
  {
   "cell_type": "code",
   "execution_count": null,
   "metadata": {},
   "outputs": [],
   "source": []
  },
  {
   "cell_type": "code",
   "execution_count": null,
   "metadata": {},
   "outputs": [],
   "source": []
  }
 ],
 "metadata": {
  "kernelspec": {
   "display_name": "Python 3",
   "language": "python",
   "name": "python3"
  },
  "language_info": {
   "codemirror_mode": {
    "name": "ipython",
    "version": 3
   },
   "file_extension": ".py",
   "mimetype": "text/x-python",
   "name": "python",
   "nbconvert_exporter": "python",
   "pygments_lexer": "ipython3",
   "version": "3.8.3"
  },
  "toc": {
   "base_numbering": 1,
   "nav_menu": {},
   "number_sections": false,
   "sideBar": true,
   "skip_h1_title": false,
   "title_cell": "Table of Contents",
   "title_sidebar": "Contents",
   "toc_cell": false,
   "toc_position": {
    "height": "calc(100% - 180px)",
    "left": "10px",
    "top": "150px",
    "width": "288px"
   },
   "toc_section_display": true,
   "toc_window_display": false
  }
 },
 "nbformat": 4,
 "nbformat_minor": 2
}
